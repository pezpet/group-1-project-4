{
 "cells": [
  {
   "cell_type": "markdown",
   "metadata": {},
   "source": [
    "# Model Building\n"
   ]
  },
  {
   "cell_type": "code",
   "execution_count": 6,
   "metadata": {},
   "outputs": [],
   "source": [
    "import pandas as pd\n",
    "import numpy as np\n",
    "import matplotlib.pyplot as plt\n",
    "import seaborn as sns\n",
    "\n",
    "from sklearn.model_selection import train_test_split, GridSearchCV, RandomizedSearchCV\n",
    "from sklearn.linear_model import LogisticRegression \n",
    "from sklearn.neighbors import KNeighborsClassifier\n",
    "from sklearn.compose import make_column_selector, make_column_transformer\n",
    "from sklearn.preprocessing import StandardScaler, OneHotEncoder\n",
    "from sklearn.metrics import accuracy_score, balanced_accuracy_score, ConfusionMatrixDisplay\n",
    "from sklearn.ensemble import RandomForestClassifier, GradientBoostingClassifier, ExtraTreesClassifier\n",
    "from sklearn.tree import DecisionTreeClassifier\n",
    "\n",
    "import tensorflow as tf\n",
    "from tensorflow.keras.models import Sequential\n",
    "from tensorflow.keras.layers import Dense, Dropout\n",
    "from tensorflow.keras.callbacks import EarlyStopping\n",
    "from tensorflow.keras.regularizers import l2\n",
    "from tensorflow.keras import utils\n",
    "from tensorflow.keras.losses import CategoricalCrossentropy, SparseCategoricalCrossentropy"
   ]
  },
  {
   "cell_type": "markdown",
   "metadata": {},
   "source": [
    "#### Data Reading"
   ]
  },
  {
   "cell_type": "code",
   "execution_count": 7,
   "metadata": {},
   "outputs": [],
   "source": [
    "#read in data\n",
    "df = pd.read_csv(\"../data/classification_data.csv\")\n",
    "df_demo = pd.read_csv(\"../data/demographics-data/classification_data_demographics.csv\")\n",
    "df_demo = df_demo.drop(columns='pct_Asian')"
   ]
  },
  {
   "cell_type": "code",
   "execution_count": 8,
   "metadata": {},
   "outputs": [],
   "source": [
    "#move target to end\n",
    "df_demo = df_demo[[col for col in df_demo if col != 'labels']+ ['labels']]"
   ]
  },
  {
   "cell_type": "code",
   "execution_count": 9,
   "metadata": {},
   "outputs": [
    {
     "data": {
      "text/html": [
       "<div>\n",
       "<style scoped>\n",
       "    .dataframe tbody tr th:only-of-type {\n",
       "        vertical-align: middle;\n",
       "    }\n",
       "\n",
       "    .dataframe tbody tr th {\n",
       "        vertical-align: top;\n",
       "    }\n",
       "\n",
       "    .dataframe thead th {\n",
       "        text-align: right;\n",
       "    }\n",
       "</style>\n",
       "<table border=\"1\" class=\"dataframe\">\n",
       "  <thead>\n",
       "    <tr style=\"text-align: right;\">\n",
       "      <th></th>\n",
       "      <th>MonthOccurrence</th>\n",
       "      <th>TotalNumberOfVictims</th>\n",
       "      <th>TotalNumberOfIndividualVictims</th>\n",
       "      <th>SuspectsRaceAsAGroup</th>\n",
       "      <th>TotalNumberOfSuspects</th>\n",
       "      <th>MostSeriousUcr</th>\n",
       "      <th>MostSeriousUcrType</th>\n",
       "      <th>MostSeriousLocation</th>\n",
       "      <th>MostSeriousBias</th>\n",
       "      <th>MostSeriousBiasType</th>\n",
       "      <th>...</th>\n",
       "      <th>pct_AAPI</th>\n",
       "      <th>pct_Black</th>\n",
       "      <th>pct_Hispanic</th>\n",
       "      <th>pct_Multi-Racial/Ethnic</th>\n",
       "      <th>pct_Hawaiian/ Pacific Island</th>\n",
       "      <th>pct_White</th>\n",
       "      <th>pct_unemployed_2018</th>\n",
       "      <th>pct_u18_poverty_2017</th>\n",
       "      <th>median_hh_income_2017</th>\n",
       "      <th>labels</th>\n",
       "    </tr>\n",
       "  </thead>\n",
       "  <tbody>\n",
       "    <tr>\n",
       "      <th>0</th>\n",
       "      <td>2</td>\n",
       "      <td>1</td>\n",
       "      <td>1</td>\n",
       "      <td>White</td>\n",
       "      <td>2</td>\n",
       "      <td>Simple Assault</td>\n",
       "      <td>Violent Crimes</td>\n",
       "      <td>Bar/Night Club</td>\n",
       "      <td>Anti-Black or African American</td>\n",
       "      <td>Race/Ethnicity/Ancestry</td>\n",
       "      <td>...</td>\n",
       "      <td>0.27413</td>\n",
       "      <td>0.115603</td>\n",
       "      <td>0.234718</td>\n",
       "      <td>0.041847</td>\n",
       "      <td>0.008167</td>\n",
       "      <td>0.337067</td>\n",
       "      <td>0.03</td>\n",
       "      <td>0.105</td>\n",
       "      <td>95550.0</td>\n",
       "      <td>1</td>\n",
       "    </tr>\n",
       "    <tr>\n",
       "      <th>1</th>\n",
       "      <td>2</td>\n",
       "      <td>2</td>\n",
       "      <td>2</td>\n",
       "      <td>White</td>\n",
       "      <td>1</td>\n",
       "      <td>Destruction/Damage/Vandalism</td>\n",
       "      <td>Property Crimes</td>\n",
       "      <td>Residence/Home/Driveway</td>\n",
       "      <td>Anti-Black or African American</td>\n",
       "      <td>Race/Ethnicity/Ancestry</td>\n",
       "      <td>...</td>\n",
       "      <td>0.27413</td>\n",
       "      <td>0.115603</td>\n",
       "      <td>0.234718</td>\n",
       "      <td>0.041847</td>\n",
       "      <td>0.008167</td>\n",
       "      <td>0.337067</td>\n",
       "      <td>0.03</td>\n",
       "      <td>0.105</td>\n",
       "      <td>95550.0</td>\n",
       "      <td>1</td>\n",
       "    </tr>\n",
       "    <tr>\n",
       "      <th>2</th>\n",
       "      <td>5</td>\n",
       "      <td>1</td>\n",
       "      <td>1</td>\n",
       "      <td>White</td>\n",
       "      <td>4</td>\n",
       "      <td>Destruction/Damage/Vandalism</td>\n",
       "      <td>Property Crimes</td>\n",
       "      <td>Residence/Home/Driveway</td>\n",
       "      <td>Anti-Hispanic or Latino</td>\n",
       "      <td>Race/Ethnicity/Ancestry</td>\n",
       "      <td>...</td>\n",
       "      <td>0.27413</td>\n",
       "      <td>0.115603</td>\n",
       "      <td>0.234718</td>\n",
       "      <td>0.041847</td>\n",
       "      <td>0.008167</td>\n",
       "      <td>0.337067</td>\n",
       "      <td>0.03</td>\n",
       "      <td>0.105</td>\n",
       "      <td>95550.0</td>\n",
       "      <td>1</td>\n",
       "    </tr>\n",
       "    <tr>\n",
       "      <th>3</th>\n",
       "      <td>9</td>\n",
       "      <td>1</td>\n",
       "      <td>1</td>\n",
       "      <td>White</td>\n",
       "      <td>1</td>\n",
       "      <td>Intimidation</td>\n",
       "      <td>Violent Crimes</td>\n",
       "      <td>Residence/Home/Driveway</td>\n",
       "      <td>Anti-Hispanic or Latino</td>\n",
       "      <td>Race/Ethnicity/Ancestry</td>\n",
       "      <td>...</td>\n",
       "      <td>0.27413</td>\n",
       "      <td>0.115603</td>\n",
       "      <td>0.234718</td>\n",
       "      <td>0.041847</td>\n",
       "      <td>0.008167</td>\n",
       "      <td>0.337067</td>\n",
       "      <td>0.03</td>\n",
       "      <td>0.105</td>\n",
       "      <td>95550.0</td>\n",
       "      <td>1</td>\n",
       "    </tr>\n",
       "    <tr>\n",
       "      <th>4</th>\n",
       "      <td>9</td>\n",
       "      <td>2</td>\n",
       "      <td>2</td>\n",
       "      <td>White</td>\n",
       "      <td>1</td>\n",
       "      <td>Intimidation</td>\n",
       "      <td>Violent Crimes</td>\n",
       "      <td>Convenience Store</td>\n",
       "      <td>Anti-Other Race/Ethnicity/Ancestry</td>\n",
       "      <td>Race/Ethnicity/Ancestry</td>\n",
       "      <td>...</td>\n",
       "      <td>0.27413</td>\n",
       "      <td>0.115603</td>\n",
       "      <td>0.234718</td>\n",
       "      <td>0.041847</td>\n",
       "      <td>0.008167</td>\n",
       "      <td>0.337067</td>\n",
       "      <td>0.03</td>\n",
       "      <td>0.105</td>\n",
       "      <td>95550.0</td>\n",
       "      <td>1</td>\n",
       "    </tr>\n",
       "  </tbody>\n",
       "</table>\n",
       "<p>5 rows × 24 columns</p>\n",
       "</div>"
      ],
      "text/plain": [
       "   MonthOccurrence  TotalNumberOfVictims  TotalNumberOfIndividualVictims  \\\n",
       "0                2                     1                               1   \n",
       "1                2                     2                               2   \n",
       "2                5                     1                               1   \n",
       "3                9                     1                               1   \n",
       "4                9                     2                               2   \n",
       "\n",
       "  SuspectsRaceAsAGroup  TotalNumberOfSuspects                MostSeriousUcr  \\\n",
       "0                White                      2                Simple Assault   \n",
       "1                White                      1  Destruction/Damage/Vandalism   \n",
       "2                White                      4  Destruction/Damage/Vandalism   \n",
       "3                White                      1                  Intimidation   \n",
       "4                White                      1                  Intimidation   \n",
       "\n",
       "  MostSeriousUcrType      MostSeriousLocation  \\\n",
       "0     Violent Crimes           Bar/Night Club   \n",
       "1    Property Crimes  Residence/Home/Driveway   \n",
       "2    Property Crimes  Residence/Home/Driveway   \n",
       "3     Violent Crimes  Residence/Home/Driveway   \n",
       "4     Violent Crimes        Convenience Store   \n",
       "\n",
       "                      MostSeriousBias      MostSeriousBiasType  ... pct_AAPI  \\\n",
       "0      Anti-Black or African American  Race/Ethnicity/Ancestry  ...  0.27413   \n",
       "1      Anti-Black or African American  Race/Ethnicity/Ancestry  ...  0.27413   \n",
       "2             Anti-Hispanic or Latino  Race/Ethnicity/Ancestry  ...  0.27413   \n",
       "3             Anti-Hispanic or Latino  Race/Ethnicity/Ancestry  ...  0.27413   \n",
       "4  Anti-Other Race/Ethnicity/Ancestry  Race/Ethnicity/Ancestry  ...  0.27413   \n",
       "\n",
       "  pct_Black pct_Hispanic  pct_Multi-Racial/Ethnic  \\\n",
       "0  0.115603     0.234718                 0.041847   \n",
       "1  0.115603     0.234718                 0.041847   \n",
       "2  0.115603     0.234718                 0.041847   \n",
       "3  0.115603     0.234718                 0.041847   \n",
       "4  0.115603     0.234718                 0.041847   \n",
       "\n",
       "   pct_Hawaiian/ Pacific Island  pct_White  pct_unemployed_2018  \\\n",
       "0                      0.008167   0.337067                 0.03   \n",
       "1                      0.008167   0.337067                 0.03   \n",
       "2                      0.008167   0.337067                 0.03   \n",
       "3                      0.008167   0.337067                 0.03   \n",
       "4                      0.008167   0.337067                 0.03   \n",
       "\n",
       "   pct_u18_poverty_2017  median_hh_income_2017  labels  \n",
       "0                 0.105                95550.0       1  \n",
       "1                 0.105                95550.0       1  \n",
       "2                 0.105                95550.0       1  \n",
       "3                 0.105                95550.0       1  \n",
       "4                 0.105                95550.0       1  \n",
       "\n",
       "[5 rows x 24 columns]"
      ]
     },
     "execution_count": 9,
     "metadata": {},
     "output_type": "execute_result"
    }
   ],
   "source": [
    "df_demo.head()"
   ]
  },
  {
   "cell_type": "code",
   "execution_count": 10,
   "metadata": {},
   "outputs": [
    {
     "data": {
      "text/html": [
       "<div>\n",
       "<style scoped>\n",
       "    .dataframe tbody tr th:only-of-type {\n",
       "        vertical-align: middle;\n",
       "    }\n",
       "\n",
       "    .dataframe tbody tr th {\n",
       "        vertical-align: top;\n",
       "    }\n",
       "\n",
       "    .dataframe thead th {\n",
       "        text-align: right;\n",
       "    }\n",
       "</style>\n",
       "<table border=\"1\" class=\"dataframe\">\n",
       "  <thead>\n",
       "    <tr style=\"text-align: right;\">\n",
       "      <th></th>\n",
       "      <th>MonthOccurrence</th>\n",
       "      <th>TotalNumberOfVictims</th>\n",
       "      <th>TotalNumberOfIndividualVictims</th>\n",
       "      <th>SuspectsRaceAsAGroup</th>\n",
       "      <th>TotalNumberOfSuspects</th>\n",
       "      <th>MostSeriousUcr</th>\n",
       "      <th>MostSeriousUcrType</th>\n",
       "      <th>MostSeriousLocation</th>\n",
       "      <th>MostSeriousBias</th>\n",
       "      <th>MostSeriousBiasType</th>\n",
       "      <th>MostSeriousVictimType</th>\n",
       "      <th>WeaponType</th>\n",
       "      <th>Offensive_Act</th>\n",
       "      <th>labels</th>\n",
       "    </tr>\n",
       "  </thead>\n",
       "  <tbody>\n",
       "    <tr>\n",
       "      <th>0</th>\n",
       "      <td>2</td>\n",
       "      <td>1</td>\n",
       "      <td>1</td>\n",
       "      <td>White</td>\n",
       "      <td>2</td>\n",
       "      <td>Simple Assault</td>\n",
       "      <td>Violent Crimes</td>\n",
       "      <td>Bar/Night Club</td>\n",
       "      <td>Anti-Black or African American</td>\n",
       "      <td>Race/Ethnicity/Ancestry</td>\n",
       "      <td>Person</td>\n",
       "      <td>Personal weapons (hands, feet, teeth, etc.)</td>\n",
       "      <td>Verbal slurs</td>\n",
       "      <td>1</td>\n",
       "    </tr>\n",
       "    <tr>\n",
       "      <th>1</th>\n",
       "      <td>2</td>\n",
       "      <td>2</td>\n",
       "      <td>2</td>\n",
       "      <td>White</td>\n",
       "      <td>1</td>\n",
       "      <td>Destruction/Damage/Vandalism</td>\n",
       "      <td>Property Crimes</td>\n",
       "      <td>Residence/Home/Driveway</td>\n",
       "      <td>Anti-Black or African American</td>\n",
       "      <td>Race/Ethnicity/Ancestry</td>\n",
       "      <td>Person</td>\n",
       "      <td>None</td>\n",
       "      <td>Graffiti</td>\n",
       "      <td>1</td>\n",
       "    </tr>\n",
       "    <tr>\n",
       "      <th>2</th>\n",
       "      <td>5</td>\n",
       "      <td>1</td>\n",
       "      <td>1</td>\n",
       "      <td>White</td>\n",
       "      <td>4</td>\n",
       "      <td>Destruction/Damage/Vandalism</td>\n",
       "      <td>Property Crimes</td>\n",
       "      <td>Residence/Home/Driveway</td>\n",
       "      <td>Anti-Hispanic or Latino</td>\n",
       "      <td>Race/Ethnicity/Ancestry</td>\n",
       "      <td>Person</td>\n",
       "      <td>None</td>\n",
       "      <td>Daubing of swastika</td>\n",
       "      <td>1</td>\n",
       "    </tr>\n",
       "    <tr>\n",
       "      <th>3</th>\n",
       "      <td>9</td>\n",
       "      <td>1</td>\n",
       "      <td>1</td>\n",
       "      <td>White</td>\n",
       "      <td>1</td>\n",
       "      <td>Intimidation</td>\n",
       "      <td>Violent Crimes</td>\n",
       "      <td>Residence/Home/Driveway</td>\n",
       "      <td>Anti-Hispanic or Latino</td>\n",
       "      <td>Race/Ethnicity/Ancestry</td>\n",
       "      <td>Person</td>\n",
       "      <td>None</td>\n",
       "      <td>Verbal slurs</td>\n",
       "      <td>1</td>\n",
       "    </tr>\n",
       "    <tr>\n",
       "      <th>4</th>\n",
       "      <td>9</td>\n",
       "      <td>2</td>\n",
       "      <td>2</td>\n",
       "      <td>White</td>\n",
       "      <td>1</td>\n",
       "      <td>Intimidation</td>\n",
       "      <td>Violent Crimes</td>\n",
       "      <td>Convenience Store</td>\n",
       "      <td>Anti-Other Race/Ethnicity/Ancestry</td>\n",
       "      <td>Race/Ethnicity/Ancestry</td>\n",
       "      <td>Person</td>\n",
       "      <td>None</td>\n",
       "      <td>Verbal slurs</td>\n",
       "      <td>1</td>\n",
       "    </tr>\n",
       "  </tbody>\n",
       "</table>\n",
       "</div>"
      ],
      "text/plain": [
       "   MonthOccurrence  TotalNumberOfVictims  TotalNumberOfIndividualVictims  \\\n",
       "0                2                     1                               1   \n",
       "1                2                     2                               2   \n",
       "2                5                     1                               1   \n",
       "3                9                     1                               1   \n",
       "4                9                     2                               2   \n",
       "\n",
       "  SuspectsRaceAsAGroup  TotalNumberOfSuspects                MostSeriousUcr  \\\n",
       "0                White                      2                Simple Assault   \n",
       "1                White                      1  Destruction/Damage/Vandalism   \n",
       "2                White                      4  Destruction/Damage/Vandalism   \n",
       "3                White                      1                  Intimidation   \n",
       "4                White                      1                  Intimidation   \n",
       "\n",
       "  MostSeriousUcrType      MostSeriousLocation  \\\n",
       "0     Violent Crimes           Bar/Night Club   \n",
       "1    Property Crimes  Residence/Home/Driveway   \n",
       "2    Property Crimes  Residence/Home/Driveway   \n",
       "3     Violent Crimes  Residence/Home/Driveway   \n",
       "4     Violent Crimes        Convenience Store   \n",
       "\n",
       "                      MostSeriousBias      MostSeriousBiasType  \\\n",
       "0      Anti-Black or African American  Race/Ethnicity/Ancestry   \n",
       "1      Anti-Black or African American  Race/Ethnicity/Ancestry   \n",
       "2             Anti-Hispanic or Latino  Race/Ethnicity/Ancestry   \n",
       "3             Anti-Hispanic or Latino  Race/Ethnicity/Ancestry   \n",
       "4  Anti-Other Race/Ethnicity/Ancestry  Race/Ethnicity/Ancestry   \n",
       "\n",
       "  MostSeriousVictimType                                   WeaponType  \\\n",
       "0                Person  Personal weapons (hands, feet, teeth, etc.)   \n",
       "1                Person                                         None   \n",
       "2                Person                                         None   \n",
       "3                Person                                         None   \n",
       "4                Person                                         None   \n",
       "\n",
       "         Offensive_Act  labels  \n",
       "0         Verbal slurs       1  \n",
       "1             Graffiti       1  \n",
       "2  Daubing of swastika       1  \n",
       "3         Verbal slurs       1  \n",
       "4         Verbal slurs       1  "
      ]
     },
     "execution_count": 10,
     "metadata": {},
     "output_type": "execute_result"
    }
   ],
   "source": [
    "df.head()"
   ]
  },
  {
   "cell_type": "markdown",
   "metadata": {},
   "source": [
    "## Set X and y"
   ]
  },
  {
   "cell_type": "code",
   "execution_count": 11,
   "metadata": {},
   "outputs": [],
   "source": [
    "X = df.iloc[:,:-1]\n",
    "y = df.iloc[:,-1]\n",
    "\n",
    "X_demo = df_demo.iloc[:,:-1]\n",
    "y_demo = df_demo.iloc[:,-1]"
   ]
  },
  {
   "cell_type": "code",
   "execution_count": 12,
   "metadata": {},
   "outputs": [],
   "source": [
    "#Encode Features\n",
    "ct = make_column_transformer(\n",
    "    (OneHotEncoder(sparse=False, handle_unknown='ignore'), make_column_selector(dtype_include=object)),\n",
    "    remainder='passthrough',\n",
    "    verbose_feature_names_out=False\n",
    ")\n",
    "X_encoded = ct.fit_transform(X)\n",
    "X_encoded = pd.DataFrame(X_encoded, columns=ct.get_feature_names_out())\n",
    "\n",
    "X_encoded_demo = ct.fit_transform(X_demo)\n",
    "X_encoded_demo = pd.DataFrame(X_encoded_demo, columns=ct.get_feature_names_out())\n",
    "\n",
    "#Scale X\n",
    "X_ss = StandardScaler().fit_transform(X_encoded)\n",
    "X_ss_demo = StandardScaler().fit_transform(X_encoded_demo)"
   ]
  },
  {
   "cell_type": "markdown",
   "metadata": {},
   "source": [
    "### Train test split"
   ]
  },
  {
   "cell_type": "code",
   "execution_count": 13,
   "metadata": {},
   "outputs": [],
   "source": [
    "X_train, X_test, y_train, y_test = train_test_split(X_ss, y, stratify=y, random_state=13)\n",
    "X_train_demo, X_test_demo, y_train_demo, y_test_demo = train_test_split(X_ss_demo, y_demo, stratify=y_demo, random_state=13)"
   ]
  },
  {
   "cell_type": "code",
   "execution_count": 14,
   "metadata": {},
   "outputs": [
    {
     "name": "stdout",
     "output_type": "stream",
     "text": [
      "(18327, 150) (6109, 150) (18327,) (6109,)\n",
      "(18327, 160) (6109, 160) (18327,) (6109,)\n"
     ]
    }
   ],
   "source": [
    "print(X_train.shape, X_test.shape, y_train.shape, y_test.shape)\n",
    "print(X_train_demo.shape, X_test_demo.shape, y_train_demo.shape, y_test_demo.shape)"
   ]
  },
  {
   "cell_type": "markdown",
   "metadata": {},
   "source": [
    "## Model Building"
   ]
  },
  {
   "cell_type": "markdown",
   "metadata": {},
   "source": [
    "### Baseline Model\n",
    "\n",
    "We have a very skewed dataset so our null baseline accuracy is 72.84%, however our null balanced accuracy score is 33.33%"
   ]
  },
  {
   "cell_type": "code",
   "execution_count": 15,
   "metadata": {},
   "outputs": [
    {
     "data": {
      "text/plain": [
       "1    0.728433\n",
       "0    0.168713\n",
       "2    0.102854\n",
       "Name: labels, dtype: float64"
      ]
     },
     "execution_count": 15,
     "metadata": {},
     "output_type": "execute_result"
    }
   ],
   "source": [
    "y_train.value_counts(normalize=True)"
   ]
  },
  {
   "cell_type": "code",
   "execution_count": 16,
   "metadata": {},
   "outputs": [
    {
     "data": {
      "text/plain": [
       "0.3333333333333333"
      ]
     },
     "execution_count": 16,
     "metadata": {},
     "output_type": "execute_result"
    }
   ],
   "source": [
    "null_preds = np.full_like(y_test, 1)\n",
    "balanced_accuracy_score(y_test, null_preds)"
   ]
  },
  {
   "cell_type": "code",
   "execution_count": 17,
   "metadata": {},
   "outputs": [],
   "source": [
    "#Create Arrays of Model Scores\n",
    "model_scores = [['Null Model', '.728433', '.33333','.728433', '.33333']]\n",
    "demo_model_scores = [['Null Model', '.728433', '.33333','.728433', '.33333']]\n"
   ]
  },
  {
   "cell_type": "code",
   "execution_count": 18,
   "metadata": {},
   "outputs": [],
   "source": [
    "#column names\n",
    "cols = [\"model\", 'train_acc', 'train_balanced_acc', 'test_acc', 'test_balanced_acc']"
   ]
  },
  {
   "cell_type": "markdown",
   "metadata": {},
   "source": [
    "### Logistic Regression"
   ]
  },
  {
   "cell_type": "markdown",
   "metadata": {},
   "source": [
    "#### Without Demographic Data"
   ]
  },
  {
   "cell_type": "code",
   "execution_count": 19,
   "metadata": {},
   "outputs": [
    {
     "name": "stdout",
     "output_type": "stream",
     "text": [
      "{'C': 0.05, 'class_weight': None}\n"
     ]
    }
   ],
   "source": [
    "params = {\n",
    "    'C' : [.005,.01,.05],\n",
    "    'class_weight' : [None]\n",
    "}\n",
    "\n",
    "log_reg = GridSearchCV(LogisticRegression(max_iter=10_000), params, n_jobs=-1, scoring='balanced_accuracy')\n",
    "log_reg.fit(X_train, y_train)\n",
    "\n",
    "print(log_reg.best_params_)\n"
   ]
  },
  {
   "cell_type": "code",
   "execution_count": 20,
   "metadata": {},
   "outputs": [
    {
     "data": {
      "text/html": [
       "<div>\n",
       "<style scoped>\n",
       "    .dataframe tbody tr th:only-of-type {\n",
       "        vertical-align: middle;\n",
       "    }\n",
       "\n",
       "    .dataframe tbody tr th {\n",
       "        vertical-align: top;\n",
       "    }\n",
       "\n",
       "    .dataframe thead th {\n",
       "        text-align: right;\n",
       "    }\n",
       "</style>\n",
       "<table border=\"1\" class=\"dataframe\">\n",
       "  <thead>\n",
       "    <tr style=\"text-align: right;\">\n",
       "      <th></th>\n",
       "      <th>model</th>\n",
       "      <th>train_acc</th>\n",
       "      <th>train_balanced_acc</th>\n",
       "      <th>test_acc</th>\n",
       "      <th>test_balanced_acc</th>\n",
       "    </tr>\n",
       "  </thead>\n",
       "  <tbody>\n",
       "    <tr>\n",
       "      <th>0</th>\n",
       "      <td>Null Model</td>\n",
       "      <td>.728433</td>\n",
       "      <td>.33333</td>\n",
       "      <td>.728433</td>\n",
       "      <td>.33333</td>\n",
       "    </tr>\n",
       "    <tr>\n",
       "      <th>1</th>\n",
       "      <td>Logistic Regression</td>\n",
       "      <td>0.729252</td>\n",
       "      <td>0.337163</td>\n",
       "      <td>0.727615</td>\n",
       "      <td>0.335858</td>\n",
       "    </tr>\n",
       "  </tbody>\n",
       "</table>\n",
       "</div>"
      ],
      "text/plain": [
       "                 model train_acc train_balanced_acc  test_acc  \\\n",
       "0           Null Model   .728433             .33333   .728433   \n",
       "1  Logistic Regression  0.729252           0.337163  0.727615   \n",
       "\n",
       "  test_balanced_acc  \n",
       "0            .33333  \n",
       "1          0.335858  "
      ]
     },
     "execution_count": 20,
     "metadata": {},
     "output_type": "execute_result"
    }
   ],
   "source": [
    "#Add scores to array\n",
    "model_scores.append([\n",
    "    'Logistic Regression', \n",
    "    accuracy_score(y_train, log_reg.predict(X_train)), \n",
    "    log_reg.best_score_,\n",
    "    accuracy_score(y_test, log_reg.predict(X_test)),\n",
    "    log_reg.score(X_test, y_test), \n",
    "])\n",
    "\n",
    "pd.DataFrame(model_scores, columns=cols)"
   ]
  },
  {
   "cell_type": "markdown",
   "metadata": {},
   "source": [
    "#### With Demographic Data"
   ]
  },
  {
   "cell_type": "code",
   "execution_count": 21,
   "metadata": {},
   "outputs": [
    {
     "name": "stdout",
     "output_type": "stream",
     "text": [
      "{'C': 300, 'class_weight': None}\n"
     ]
    }
   ],
   "source": [
    "params = {\n",
    "    'C' : [200, 250, 300],\n",
    "    'class_weight' : [None]\n",
    "}\n",
    "\n",
    "log_reg_demo = GridSearchCV(LogisticRegression(max_iter=10_000), params, n_jobs=-1, scoring='balanced_accuracy')\n",
    "log_reg_demo.fit(X_train_demo, y_train_demo)\n",
    "\n",
    "print(log_reg_demo.best_params_)\n"
   ]
  },
  {
   "cell_type": "code",
   "execution_count": 22,
   "metadata": {},
   "outputs": [
    {
     "data": {
      "text/html": [
       "<div>\n",
       "<style scoped>\n",
       "    .dataframe tbody tr th:only-of-type {\n",
       "        vertical-align: middle;\n",
       "    }\n",
       "\n",
       "    .dataframe tbody tr th {\n",
       "        vertical-align: top;\n",
       "    }\n",
       "\n",
       "    .dataframe thead th {\n",
       "        text-align: right;\n",
       "    }\n",
       "</style>\n",
       "<table border=\"1\" class=\"dataframe\">\n",
       "  <thead>\n",
       "    <tr style=\"text-align: right;\">\n",
       "      <th></th>\n",
       "      <th>model</th>\n",
       "      <th>train_acc</th>\n",
       "      <th>train_balanced_acc</th>\n",
       "      <th>test_acc</th>\n",
       "      <th>test_balanced_acc</th>\n",
       "    </tr>\n",
       "  </thead>\n",
       "  <tbody>\n",
       "    <tr>\n",
       "      <th>0</th>\n",
       "      <td>Null Model</td>\n",
       "      <td>.728433</td>\n",
       "      <td>.33333</td>\n",
       "      <td>.728433</td>\n",
       "      <td>.33333</td>\n",
       "    </tr>\n",
       "    <tr>\n",
       "      <th>1</th>\n",
       "      <td>Logistic Regression</td>\n",
       "      <td>0.916462</td>\n",
       "      <td>0.80874</td>\n",
       "      <td>0.907514</td>\n",
       "      <td>0.803931</td>\n",
       "    </tr>\n",
       "  </tbody>\n",
       "</table>\n",
       "</div>"
      ],
      "text/plain": [
       "                 model train_acc train_balanced_acc  test_acc  \\\n",
       "0           Null Model   .728433             .33333   .728433   \n",
       "1  Logistic Regression  0.916462            0.80874  0.907514   \n",
       "\n",
       "  test_balanced_acc  \n",
       "0            .33333  \n",
       "1          0.803931  "
      ]
     },
     "execution_count": 22,
     "metadata": {},
     "output_type": "execute_result"
    }
   ],
   "source": [
    "#Add scores to array\n",
    "demo_model_scores.append([\n",
    "    'Logistic Regression',\n",
    "    accuracy_score(y_train, log_reg_demo.predict(X_train_demo)), \n",
    "    log_reg_demo.best_score_, \n",
    "    accuracy_score(y_test, log_reg_demo.predict(X_test_demo)),\n",
    "    log_reg_demo.score(X_test_demo, y_test_demo), \n",
    "])\n",
    "\n",
    "pd.DataFrame(demo_model_scores, columns=cols)"
   ]
  },
  {
   "cell_type": "markdown",
   "metadata": {},
   "source": [
    "#### Compare Confusion Matrix"
   ]
  },
  {
   "cell_type": "code",
   "execution_count": 23,
   "metadata": {},
   "outputs": [
    {
     "data": {
      "image/png": "[encoded data removed]",
      "text/plain": [
       "<Figure size 720x360 with 4 Axes>"
      ]
     },
     "metadata": {
      "needs_background": "light"
     },
     "output_type": "display_data"
    }
   ],
   "source": [
    "fig, ax = plt.subplots(1,2, figsize=(10,5))\n",
    "\n",
    "ax[0].set_title(\"Logistic Regression w/o Demographics\")\n",
    "ConfusionMatrixDisplay.from_estimator(log_reg, X_test, y_test, cmap='Blues', ax=ax[0])\n",
    "\n",
    "ax[1].set_title(\"Logistic Regression with Demographics\")\n",
    "ConfusionMatrixDisplay.from_estimator(log_reg_demo, X_test_demo, y_test_demo, cmap='Purples', ax=ax[1])\n",
    "\n",
    "plt.tight_layout()"
   ]
  },
  {
   "cell_type": "markdown",
   "metadata": {},
   "source": [
    "### KNeighbors"
   ]
  },
  {
   "cell_type": "markdown",
   "metadata": {},
   "source": [
    "KNN Models take a comparatively long time to predict and score"
   ]
  },
  {
   "cell_type": "markdown",
   "metadata": {},
   "source": [
    "#### Without Demographic Data"
   ]
  },
  {
   "cell_type": "code",
   "execution_count": 24,
   "metadata": {},
   "outputs": [
    {
     "name": "stdout",
     "output_type": "stream",
     "text": [
      "{'n_neighbors': 7, 'weights': 'distance'}\n"
     ]
    }
   ],
   "source": [
    "params = {\n",
    "    'n_neighbors' : [7],\n",
    "    'weights' : ['uniform', 'distance'],\n",
    "}\n",
    "knn = GridSearchCV(KNeighborsClassifier(), params, n_jobs=-1, scoring='balanced_accuracy')\n",
    "\n",
    "knn.fit(X_train, y_train)\n",
    "\n",
    "print(knn.best_params_)\n"
   ]
  },
  {
   "cell_type": "code",
   "execution_count": 25,
   "metadata": {},
   "outputs": [
    {
     "data": {
      "text/html": [
       "<div>\n",
       "<style scoped>\n",
       "    .dataframe tbody tr th:only-of-type {\n",
       "        vertical-align: middle;\n",
       "    }\n",
       "\n",
       "    .dataframe tbody tr th {\n",
       "        vertical-align: top;\n",
       "    }\n",
       "\n",
       "    .dataframe thead th {\n",
       "        text-align: right;\n",
       "    }\n",
       "</style>\n",
       "<table border=\"1\" class=\"dataframe\">\n",
       "  <thead>\n",
       "    <tr style=\"text-align: right;\">\n",
       "      <th></th>\n",
       "      <th>model</th>\n",
       "      <th>train_acc</th>\n",
       "      <th>train_balanced_acc</th>\n",
       "      <th>test_acc</th>\n",
       "      <th>test_balanced_acc</th>\n",
       "    </tr>\n",
       "  </thead>\n",
       "  <tbody>\n",
       "    <tr>\n",
       "      <th>0</th>\n",
       "      <td>Null Model</td>\n",
       "      <td>.728433</td>\n",
       "      <td>.33333</td>\n",
       "      <td>.728433</td>\n",
       "      <td>.33333</td>\n",
       "    </tr>\n",
       "    <tr>\n",
       "      <th>1</th>\n",
       "      <td>Logistic Regression</td>\n",
       "      <td>0.729252</td>\n",
       "      <td>0.337163</td>\n",
       "      <td>0.727615</td>\n",
       "      <td>0.335858</td>\n",
       "    </tr>\n",
       "    <tr>\n",
       "      <th>2</th>\n",
       "      <td>KNeighborsClassifier</td>\n",
       "      <td>0.976701</td>\n",
       "      <td>0.360694</td>\n",
       "      <td>0.669504</td>\n",
       "      <td>0.358008</td>\n",
       "    </tr>\n",
       "  </tbody>\n",
       "</table>\n",
       "</div>"
      ],
      "text/plain": [
       "                  model train_acc train_balanced_acc  test_acc  \\\n",
       "0            Null Model   .728433             .33333   .728433   \n",
       "1   Logistic Regression  0.729252           0.337163  0.727615   \n",
       "2  KNeighborsClassifier  0.976701           0.360694  0.669504   \n",
       "\n",
       "  test_balanced_acc  \n",
       "0            .33333  \n",
       "1          0.335858  \n",
       "2          0.358008  "
      ]
     },
     "execution_count": 25,
     "metadata": {},
     "output_type": "execute_result"
    }
   ],
   "source": [
    "#Add scores to array\n",
    "model_scores.append([\n",
    "    'KNeighborsClassifier',\n",
    "    accuracy_score(y_train, knn.predict(X_train)), \n",
    "    knn.best_score_,\n",
    "    accuracy_score(y_test, knn.predict(X_test)),\n",
    "    knn.score(X_test, y_test)\n",
    "])\n",
    "\n",
    "pd.DataFrame(model_scores, columns=cols)"
   ]
  },
  {
   "cell_type": "markdown",
   "metadata": {},
   "source": [
    "#### With Demographic Data"
   ]
  },
  {
   "cell_type": "code",
   "execution_count": 26,
   "metadata": {},
   "outputs": [
    {
     "name": "stdout",
     "output_type": "stream",
     "text": [
      "{'n_neighbors': 3, 'weights': 'distance'}\n"
     ]
    }
   ],
   "source": [
    "params = {\n",
    "    'n_neighbors' : [3,5,7, 9],\n",
    "    'weights' : ['uniform', 'distance'],\n",
    "}\n",
    "knn_demo = GridSearchCV(KNeighborsClassifier(), params, n_jobs=-1, scoring='balanced_accuracy')\n",
    "\n",
    "knn_demo.fit(X_train_demo, y_train_demo)\n",
    "\n",
    "print(knn_demo.best_params_)\n",
    "\n"
   ]
  },
  {
   "cell_type": "code",
   "execution_count": 27,
   "metadata": {},
   "outputs": [
    {
     "data": {
      "text/html": [
       "<div>\n",
       "<style scoped>\n",
       "    .dataframe tbody tr th:only-of-type {\n",
       "        vertical-align: middle;\n",
       "    }\n",
       "\n",
       "    .dataframe tbody tr th {\n",
       "        vertical-align: top;\n",
       "    }\n",
       "\n",
       "    .dataframe thead th {\n",
       "        text-align: right;\n",
       "    }\n",
       "</style>\n",
       "<table border=\"1\" class=\"dataframe\">\n",
       "  <thead>\n",
       "    <tr style=\"text-align: right;\">\n",
       "      <th></th>\n",
       "      <th>model</th>\n",
       "      <th>train_acc</th>\n",
       "      <th>train_balanced_acc</th>\n",
       "      <th>test_acc</th>\n",
       "      <th>test_balanced_acc</th>\n",
       "    </tr>\n",
       "  </thead>\n",
       "  <tbody>\n",
       "    <tr>\n",
       "      <th>0</th>\n",
       "      <td>Null Model</td>\n",
       "      <td>.728433</td>\n",
       "      <td>.33333</td>\n",
       "      <td>.728433</td>\n",
       "      <td>.33333</td>\n",
       "    </tr>\n",
       "    <tr>\n",
       "      <th>1</th>\n",
       "      <td>Logistic Regression</td>\n",
       "      <td>0.916462</td>\n",
       "      <td>0.80874</td>\n",
       "      <td>0.907514</td>\n",
       "      <td>0.803931</td>\n",
       "    </tr>\n",
       "    <tr>\n",
       "      <th>2</th>\n",
       "      <td>KNeighborsClassifier</td>\n",
       "      <td>1.0</td>\n",
       "      <td>0.617526</td>\n",
       "      <td>0.826813</td>\n",
       "      <td>0.62552</td>\n",
       "    </tr>\n",
       "  </tbody>\n",
       "</table>\n",
       "</div>"
      ],
      "text/plain": [
       "                  model train_acc train_balanced_acc  test_acc  \\\n",
       "0            Null Model   .728433             .33333   .728433   \n",
       "1   Logistic Regression  0.916462            0.80874  0.907514   \n",
       "2  KNeighborsClassifier       1.0           0.617526  0.826813   \n",
       "\n",
       "  test_balanced_acc  \n",
       "0            .33333  \n",
       "1          0.803931  \n",
       "2           0.62552  "
      ]
     },
     "execution_count": 27,
     "metadata": {},
     "output_type": "execute_result"
    }
   ],
   "source": [
    "#Add scores to array\n",
    "demo_model_scores.append([\n",
    "    'KNeighborsClassifier',\n",
    "    accuracy_score(y_train_demo, knn_demo.predict(X_train_demo)), \n",
    "    knn_demo.best_score_,\n",
    "    accuracy_score(y_test_demo, knn_demo.predict(X_test_demo)),\n",
    "    knn_demo.score(X_test_demo, y_test_demo), \n",
    "\n",
    "])\n",
    "\n",
    "pd.DataFrame(demo_model_scores, columns=cols)"
   ]
  },
  {
   "cell_type": "markdown",
   "metadata": {},
   "source": [
    "#### Compare Confusion Matrix"
   ]
  },
  {
   "cell_type": "code",
   "execution_count": 28,
   "metadata": {},
   "outputs": [
    {
     "data": {
      "image/png": "[encoded data removed]",
      "text/plain": [
       "<Figure size 720x360 with 4 Axes>"
      ]
     },
     "metadata": {
      "needs_background": "light"
     },
     "output_type": "display_data"
    }
   ],
   "source": [
    "fig, ax = plt.subplots(1,2, figsize=(10,5))\n",
    "\n",
    "ax[0].set_title(\"KNN w/o Demographics\")\n",
    "ConfusionMatrixDisplay.from_estimator(knn, X_test, y_test, cmap='Blues', ax=ax[0])\n",
    "\n",
    "ax[1].set_title(\"KNN with Demographics\")\n",
    "ConfusionMatrixDisplay.from_estimator(knn_demo, X_test_demo, y_test_demo, cmap='Purples', ax=ax[1])\n",
    "\n",
    "plt.tight_layout()"
   ]
  },
  {
   "cell_type": "markdown",
   "metadata": {},
   "source": [
    "### Decision Tree"
   ]
  },
  {
   "cell_type": "markdown",
   "metadata": {},
   "source": [
    "#### Without Demographics Data"
   ]
  },
  {
   "cell_type": "code",
   "execution_count": 29,
   "metadata": {},
   "outputs": [
    {
     "name": "stdout",
     "output_type": "stream",
     "text": [
      "{'max_depth': 50}\n"
     ]
    }
   ],
   "source": [
    "params = {\n",
    "    'max_depth' : [5, 10, 20, 50, None]\n",
    "}\n",
    "dt = GridSearchCV(DecisionTreeClassifier(), params, n_jobs=-1, scoring='balanced_accuracy')\n",
    "\n",
    "dt.fit(X_train, y_train)\n",
    "\n",
    "print(dt.best_params_)"
   ]
  },
  {
   "cell_type": "code",
   "execution_count": 30,
   "metadata": {},
   "outputs": [
    {
     "data": {
      "text/html": [
       "<div>\n",
       "<style scoped>\n",
       "    .dataframe tbody tr th:only-of-type {\n",
       "        vertical-align: middle;\n",
       "    }\n",
       "\n",
       "    .dataframe tbody tr th {\n",
       "        vertical-align: top;\n",
       "    }\n",
       "\n",
       "    .dataframe thead th {\n",
       "        text-align: right;\n",
       "    }\n",
       "</style>\n",
       "<table border=\"1\" class=\"dataframe\">\n",
       "  <thead>\n",
       "    <tr style=\"text-align: right;\">\n",
       "      <th></th>\n",
       "      <th>model</th>\n",
       "      <th>train_acc</th>\n",
       "      <th>train_balanced_acc</th>\n",
       "      <th>test_acc</th>\n",
       "      <th>test_balanced_acc</th>\n",
       "    </tr>\n",
       "  </thead>\n",
       "  <tbody>\n",
       "    <tr>\n",
       "      <th>0</th>\n",
       "      <td>Null Model</td>\n",
       "      <td>.728433</td>\n",
       "      <td>.33333</td>\n",
       "      <td>.728433</td>\n",
       "      <td>.33333</td>\n",
       "    </tr>\n",
       "    <tr>\n",
       "      <th>1</th>\n",
       "      <td>Logistic Regression</td>\n",
       "      <td>0.729252</td>\n",
       "      <td>0.337163</td>\n",
       "      <td>0.727615</td>\n",
       "      <td>0.335858</td>\n",
       "    </tr>\n",
       "    <tr>\n",
       "      <th>2</th>\n",
       "      <td>KNeighborsClassifier</td>\n",
       "      <td>0.976701</td>\n",
       "      <td>0.360694</td>\n",
       "      <td>0.669504</td>\n",
       "      <td>0.358008</td>\n",
       "    </tr>\n",
       "    <tr>\n",
       "      <th>3</th>\n",
       "      <td>Decision Tree</td>\n",
       "      <td>0.93616</td>\n",
       "      <td>0.367088</td>\n",
       "      <td>0.592405</td>\n",
       "      <td>0.366922</td>\n",
       "    </tr>\n",
       "  </tbody>\n",
       "</table>\n",
       "</div>"
      ],
      "text/plain": [
       "                  model train_acc train_balanced_acc  test_acc  \\\n",
       "0            Null Model   .728433             .33333   .728433   \n",
       "1   Logistic Regression  0.729252           0.337163  0.727615   \n",
       "2  KNeighborsClassifier  0.976701           0.360694  0.669504   \n",
       "3         Decision Tree   0.93616           0.367088  0.592405   \n",
       "\n",
       "  test_balanced_acc  \n",
       "0            .33333  \n",
       "1          0.335858  \n",
       "2          0.358008  \n",
       "3          0.366922  "
      ]
     },
     "execution_count": 30,
     "metadata": {},
     "output_type": "execute_result"
    }
   ],
   "source": [
    "#Add scores to array\n",
    "model_scores.append([\n",
    "    'Decision Tree',\n",
    "    accuracy_score(y_train, dt.predict(X_train)), \n",
    "    dt.best_score_,\n",
    "    accuracy_score(y_test, dt.predict(X_test)),\n",
    "    dt.score(X_test, y_test)\n",
    "])\n",
    "pd.DataFrame(model_scores, columns=cols)\n"
   ]
  },
  {
   "cell_type": "markdown",
   "metadata": {},
   "source": [
    "#### With Demographics Data"
   ]
  },
  {
   "cell_type": "code",
   "execution_count": 31,
   "metadata": {},
   "outputs": [
    {
     "name": "stdout",
     "output_type": "stream",
     "text": [
      "{'max_depth': 20}\n"
     ]
    }
   ],
   "source": [
    "params = {\n",
    "    'max_depth' : [5, 10, 20, 50, None]\n",
    "}\n",
    "dt_demo = GridSearchCV(DecisionTreeClassifier(), params, n_jobs=-1, scoring='balanced_accuracy')\n",
    "\n",
    "dt_demo.fit(X_train_demo, y_train_demo)\n",
    "\n",
    "print(dt_demo.best_params_)\n"
   ]
  },
  {
   "cell_type": "code",
   "execution_count": 32,
   "metadata": {},
   "outputs": [
    {
     "data": {
      "text/html": [
       "<div>\n",
       "<style scoped>\n",
       "    .dataframe tbody tr th:only-of-type {\n",
       "        vertical-align: middle;\n",
       "    }\n",
       "\n",
       "    .dataframe tbody tr th {\n",
       "        vertical-align: top;\n",
       "    }\n",
       "\n",
       "    .dataframe thead th {\n",
       "        text-align: right;\n",
       "    }\n",
       "</style>\n",
       "<table border=\"1\" class=\"dataframe\">\n",
       "  <thead>\n",
       "    <tr style=\"text-align: right;\">\n",
       "      <th></th>\n",
       "      <th>model</th>\n",
       "      <th>train_acc</th>\n",
       "      <th>train_balanced_acc</th>\n",
       "      <th>test_acc</th>\n",
       "      <th>test_balanced_acc</th>\n",
       "    </tr>\n",
       "  </thead>\n",
       "  <tbody>\n",
       "    <tr>\n",
       "      <th>0</th>\n",
       "      <td>Null Model</td>\n",
       "      <td>.728433</td>\n",
       "      <td>.33333</td>\n",
       "      <td>.728433</td>\n",
       "      <td>.33333</td>\n",
       "    </tr>\n",
       "    <tr>\n",
       "      <th>1</th>\n",
       "      <td>Logistic Regression</td>\n",
       "      <td>0.916462</td>\n",
       "      <td>0.80874</td>\n",
       "      <td>0.907514</td>\n",
       "      <td>0.803931</td>\n",
       "    </tr>\n",
       "    <tr>\n",
       "      <th>2</th>\n",
       "      <td>KNeighborsClassifier</td>\n",
       "      <td>1.0</td>\n",
       "      <td>0.617526</td>\n",
       "      <td>0.826813</td>\n",
       "      <td>0.62552</td>\n",
       "    </tr>\n",
       "    <tr>\n",
       "      <th>3</th>\n",
       "      <td>Decision Tree</td>\n",
       "      <td>1.0</td>\n",
       "      <td>0.999715</td>\n",
       "      <td>0.999836</td>\n",
       "      <td>0.999677</td>\n",
       "    </tr>\n",
       "  </tbody>\n",
       "</table>\n",
       "</div>"
      ],
      "text/plain": [
       "                  model train_acc train_balanced_acc  test_acc  \\\n",
       "0            Null Model   .728433             .33333   .728433   \n",
       "1   Logistic Regression  0.916462            0.80874  0.907514   \n",
       "2  KNeighborsClassifier       1.0           0.617526  0.826813   \n",
       "3         Decision Tree       1.0           0.999715  0.999836   \n",
       "\n",
       "  test_balanced_acc  \n",
       "0            .33333  \n",
       "1          0.803931  \n",
       "2           0.62552  \n",
       "3          0.999677  "
      ]
     },
     "execution_count": 32,
     "metadata": {},
     "output_type": "execute_result"
    }
   ],
   "source": [
    "#Add scores to array\n",
    "demo_model_scores.append([\n",
    "    'Decision Tree',\n",
    "    accuracy_score(y_train_demo, dt_demo.predict(X_train_demo)), \n",
    "    dt_demo.best_score_,\n",
    "    accuracy_score(y_test_demo, dt_demo.predict(X_test_demo)),\n",
    "    dt_demo.score(X_test_demo, y_test_demo)\n",
    "])\n",
    "\n",
    "pd.DataFrame(demo_model_scores, columns=cols)"
   ]
  },
  {
   "cell_type": "markdown",
   "metadata": {},
   "source": [
    "#### Compare Confusion Matrix"
   ]
  },
  {
   "cell_type": "code",
   "execution_count": 33,
   "metadata": {},
   "outputs": [
    {
     "data": {
      "image/png": "[encoded data removed]",
      "text/plain": [
       "<Figure size 720x360 with 4 Axes>"
      ]
     },
     "metadata": {
      "needs_background": "light"
     },
     "output_type": "display_data"
    }
   ],
   "source": [
    "fig, ax = plt.subplots(1,2, figsize=(10,5))\n",
    "\n",
    "ax[0].set_title(\"Decision Tree w/o Demographics\")\n",
    "ConfusionMatrixDisplay.from_estimator(dt, X_test, y_test, cmap='Blues', ax=ax[0])\n",
    "\n",
    "ax[1].set_title(\"Decision Tree with Demographics\")\n",
    "ConfusionMatrixDisplay.from_estimator(dt_demo, X_test_demo, y_test_demo, cmap='Purples', ax=ax[1])\n",
    "\n",
    "plt.tight_layout()"
   ]
  },
  {
   "cell_type": "markdown",
   "metadata": {},
   "source": [
    "### RandomForest"
   ]
  },
  {
   "cell_type": "markdown",
   "metadata": {},
   "source": [
    "#### Without Demographics Data"
   ]
  },
  {
   "cell_type": "code",
   "execution_count": 34,
   "metadata": {},
   "outputs": [
    {
     "name": "stdout",
     "output_type": "stream",
     "text": [
      "{'max_depth': 30, 'max_features': 'sqrt', 'min_samples_split': 2, 'n_estimators': 150}\n"
     ]
    }
   ],
   "source": [
    "params = {\n",
    "    'n_estimators' :[50, 100, 150],\n",
    "    'max_depth' : [10,20,30],\n",
    "    'min_samples_split' : [2,3,5],\n",
    "    'max_features' : ['sqrt']\n",
    "}\n",
    "\n",
    "rf = GridSearchCV(RandomForestClassifier(), params, n_jobs=-1, scoring='balanced_accuracy')\n",
    "rf.fit(X_train, y_train)\n",
    "\n",
    "print(rf.best_params_)"
   ]
  },
  {
   "cell_type": "code",
   "execution_count": 35,
   "metadata": {},
   "outputs": [],
   "source": [
    "#Add scores to array\n",
    "model_scores.append([\n",
    "    'RandomForest',\n",
    "    accuracy_score(y_train, rf.predict(X_train)),\n",
    "    rf.best_score_,\n",
    "    accuracy_score(y_test, rf.predict(X_test)),\n",
    "    rf.score(X_test, y_test)\n",
    "])"
   ]
  },
  {
   "cell_type": "code",
   "execution_count": 36,
   "metadata": {},
   "outputs": [
    {
     "data": {
      "text/html": [
       "<div>\n",
       "<style scoped>\n",
       "    .dataframe tbody tr th:only-of-type {\n",
       "        vertical-align: middle;\n",
       "    }\n",
       "\n",
       "    .dataframe tbody tr th {\n",
       "        vertical-align: top;\n",
       "    }\n",
       "\n",
       "    .dataframe thead th {\n",
       "        text-align: right;\n",
       "    }\n",
       "</style>\n",
       "<table border=\"1\" class=\"dataframe\">\n",
       "  <thead>\n",
       "    <tr style=\"text-align: right;\">\n",
       "      <th></th>\n",
       "      <th>model</th>\n",
       "      <th>train_acc</th>\n",
       "      <th>train_balanced_acc</th>\n",
       "      <th>test_acc</th>\n",
       "      <th>test_balanced_acc</th>\n",
       "    </tr>\n",
       "  </thead>\n",
       "  <tbody>\n",
       "    <tr>\n",
       "      <th>0</th>\n",
       "      <td>Null Model</td>\n",
       "      <td>.728433</td>\n",
       "      <td>.33333</td>\n",
       "      <td>.728433</td>\n",
       "      <td>.33333</td>\n",
       "    </tr>\n",
       "    <tr>\n",
       "      <th>1</th>\n",
       "      <td>Logistic Regression</td>\n",
       "      <td>0.729252</td>\n",
       "      <td>0.337163</td>\n",
       "      <td>0.727615</td>\n",
       "      <td>0.335858</td>\n",
       "    </tr>\n",
       "    <tr>\n",
       "      <th>2</th>\n",
       "      <td>KNeighborsClassifier</td>\n",
       "      <td>0.976701</td>\n",
       "      <td>0.360694</td>\n",
       "      <td>0.669504</td>\n",
       "      <td>0.358008</td>\n",
       "    </tr>\n",
       "    <tr>\n",
       "      <th>3</th>\n",
       "      <td>Decision Tree</td>\n",
       "      <td>0.93616</td>\n",
       "      <td>0.367088</td>\n",
       "      <td>0.592405</td>\n",
       "      <td>0.366922</td>\n",
       "    </tr>\n",
       "    <tr>\n",
       "      <th>4</th>\n",
       "      <td>RandomForest</td>\n",
       "      <td>0.893327</td>\n",
       "      <td>0.350075</td>\n",
       "      <td>0.712392</td>\n",
       "      <td>0.350964</td>\n",
       "    </tr>\n",
       "  </tbody>\n",
       "</table>\n",
       "</div>"
      ],
      "text/plain": [
       "                  model train_acc train_balanced_acc  test_acc  \\\n",
       "0            Null Model   .728433             .33333   .728433   \n",
       "1   Logistic Regression  0.729252           0.337163  0.727615   \n",
       "2  KNeighborsClassifier  0.976701           0.360694  0.669504   \n",
       "3         Decision Tree   0.93616           0.367088  0.592405   \n",
       "4          RandomForest  0.893327           0.350075  0.712392   \n",
       "\n",
       "  test_balanced_acc  \n",
       "0            .33333  \n",
       "1          0.335858  \n",
       "2          0.358008  \n",
       "3          0.366922  \n",
       "4          0.350964  "
      ]
     },
     "execution_count": 36,
     "metadata": {},
     "output_type": "execute_result"
    }
   ],
   "source": [
    "pd.DataFrame(model_scores, columns=cols)"
   ]
  },
  {
   "cell_type": "markdown",
   "metadata": {},
   "source": [
    "#### With Demographics Data"
   ]
  },
  {
   "cell_type": "code",
   "execution_count": 37,
   "metadata": {},
   "outputs": [
    {
     "name": "stdout",
     "output_type": "stream",
     "text": [
      "{'max_depth': 30, 'max_features': 'sqrt', 'min_samples_split': 2, 'n_estimators': 150}\n"
     ]
    }
   ],
   "source": [
    "params = {\n",
    "    'n_estimators' :[50, 100, 150, 200],\n",
    "    'max_depth' : [5,10,15,20],\n",
    "    'min_samples_split' : [2,3,4,5]\n",
    "}\n",
    "\n",
    "rf_demo = GridSearchCV(RandomForestClassifier(), params, n_jobs=-1, scoring='balanced_accuracy')\n",
    "rf_demo.fit(X_train_demo, y_train_demo)\n",
    "\n",
    "print(rf.best_params_)"
   ]
  },
  {
   "cell_type": "code",
   "execution_count": 38,
   "metadata": {},
   "outputs": [
    {
     "data": {
      "text/html": [
       "<div>\n",
       "<style scoped>\n",
       "    .dataframe tbody tr th:only-of-type {\n",
       "        vertical-align: middle;\n",
       "    }\n",
       "\n",
       "    .dataframe tbody tr th {\n",
       "        vertical-align: top;\n",
       "    }\n",
       "\n",
       "    .dataframe thead th {\n",
       "        text-align: right;\n",
       "    }\n",
       "</style>\n",
       "<table border=\"1\" class=\"dataframe\">\n",
       "  <thead>\n",
       "    <tr style=\"text-align: right;\">\n",
       "      <th></th>\n",
       "      <th>model</th>\n",
       "      <th>train_acc</th>\n",
       "      <th>train_balanced_acc</th>\n",
       "      <th>test_acc</th>\n",
       "      <th>test_balanced_acc</th>\n",
       "    </tr>\n",
       "  </thead>\n",
       "  <tbody>\n",
       "    <tr>\n",
       "      <th>0</th>\n",
       "      <td>Null Model</td>\n",
       "      <td>.728433</td>\n",
       "      <td>.33333</td>\n",
       "      <td>.728433</td>\n",
       "      <td>.33333</td>\n",
       "    </tr>\n",
       "    <tr>\n",
       "      <th>1</th>\n",
       "      <td>Logistic Regression</td>\n",
       "      <td>0.916462</td>\n",
       "      <td>0.80874</td>\n",
       "      <td>0.907514</td>\n",
       "      <td>0.803931</td>\n",
       "    </tr>\n",
       "    <tr>\n",
       "      <th>2</th>\n",
       "      <td>KNeighborsClassifier</td>\n",
       "      <td>1.0</td>\n",
       "      <td>0.617526</td>\n",
       "      <td>0.826813</td>\n",
       "      <td>0.62552</td>\n",
       "    </tr>\n",
       "    <tr>\n",
       "      <th>3</th>\n",
       "      <td>Decision Tree</td>\n",
       "      <td>1.0</td>\n",
       "      <td>0.999715</td>\n",
       "      <td>0.999836</td>\n",
       "      <td>0.999677</td>\n",
       "    </tr>\n",
       "    <tr>\n",
       "      <th>4</th>\n",
       "      <td>RandomForest</td>\n",
       "      <td>1.0</td>\n",
       "      <td>0.999621</td>\n",
       "      <td>1.0</td>\n",
       "      <td>1.0</td>\n",
       "    </tr>\n",
       "  </tbody>\n",
       "</table>\n",
       "</div>"
      ],
      "text/plain": [
       "                  model train_acc train_balanced_acc  test_acc  \\\n",
       "0            Null Model   .728433             .33333   .728433   \n",
       "1   Logistic Regression  0.916462            0.80874  0.907514   \n",
       "2  KNeighborsClassifier       1.0           0.617526  0.826813   \n",
       "3         Decision Tree       1.0           0.999715  0.999836   \n",
       "4          RandomForest       1.0           0.999621       1.0   \n",
       "\n",
       "  test_balanced_acc  \n",
       "0            .33333  \n",
       "1          0.803931  \n",
       "2           0.62552  \n",
       "3          0.999677  \n",
       "4               1.0  "
      ]
     },
     "execution_count": 38,
     "metadata": {},
     "output_type": "execute_result"
    }
   ],
   "source": [
    "#Add score to array\n",
    "demo_model_scores.append([\n",
    "    'RandomForest',\n",
    "    accuracy_score(y_train_demo, rf_demo.predict(X_train_demo)),\n",
    "    rf_demo.best_score_, \n",
    "    accuracy_score(y_test_demo, rf_demo.predict(X_test_demo)),\n",
    "    rf_demo.score(X_test_demo, y_test_demo)\n",
    "])\n",
    "pd.DataFrame(demo_model_scores, columns=cols)"
   ]
  },
  {
   "cell_type": "markdown",
   "metadata": {},
   "source": [
    "#### Compare Confusion Matrix"
   ]
  },
  {
   "cell_type": "code",
   "execution_count": 39,
   "metadata": {},
   "outputs": [
    {
     "data": {
      "image/png": "[encoded data removed]",
      "text/plain": [
       "<Figure size 720x360 with 4 Axes>"
      ]
     },
     "metadata": {
      "needs_background": "light"
     },
     "output_type": "display_data"
    }
   ],
   "source": [
    "fig, ax = plt.subplots(1,2, figsize=(10,5))\n",
    "\n",
    "ax[0].set_title(\"RandomForest w/o Demographics\")\n",
    "ConfusionMatrixDisplay.from_estimator(rf, X_test, y_test, cmap='Blues', ax=ax[0])\n",
    "\n",
    "ax[1].set_title(\"ExtraTrees with Demographics\")\n",
    "ConfusionMatrixDisplay.from_estimator(rf_demo, X_test_demo, y_test_demo, cmap='Purples', ax=ax[1])\n",
    "\n",
    "plt.tight_layout()"
   ]
  },
  {
   "cell_type": "markdown",
   "metadata": {},
   "source": [
    "### Model Score Analysis"
   ]
  },
  {
   "cell_type": "code",
   "execution_count": 40,
   "metadata": {},
   "outputs": [],
   "source": [
    "df_demo_scores = pd.DataFrame(demo_model_scores, columns=cols)\n",
    "df_scores = pd.DataFrame(model_scores, columns=cols)"
   ]
  },
  {
   "cell_type": "markdown",
   "metadata": {},
   "source": [
    "#### Without Demographics Data"
   ]
  },
  {
   "cell_type": "code",
   "execution_count": 41,
   "metadata": {},
   "outputs": [
    {
     "data": {
      "text/html": [
       "<div>\n",
       "<style scoped>\n",
       "    .dataframe tbody tr th:only-of-type {\n",
       "        vertical-align: middle;\n",
       "    }\n",
       "\n",
       "    .dataframe tbody tr th {\n",
       "        vertical-align: top;\n",
       "    }\n",
       "\n",
       "    .dataframe thead th {\n",
       "        text-align: right;\n",
       "    }\n",
       "</style>\n",
       "<table border=\"1\" class=\"dataframe\">\n",
       "  <thead>\n",
       "    <tr style=\"text-align: right;\">\n",
       "      <th></th>\n",
       "      <th>model</th>\n",
       "      <th>train_acc</th>\n",
       "      <th>train_balanced_acc</th>\n",
       "      <th>test_acc</th>\n",
       "      <th>test_balanced_acc</th>\n",
       "    </tr>\n",
       "  </thead>\n",
       "  <tbody>\n",
       "    <tr>\n",
       "      <th>0</th>\n",
       "      <td>Null Model</td>\n",
       "      <td>.728433</td>\n",
       "      <td>.33333</td>\n",
       "      <td>.728433</td>\n",
       "      <td>.33333</td>\n",
       "    </tr>\n",
       "    <tr>\n",
       "      <th>1</th>\n",
       "      <td>Logistic Regression</td>\n",
       "      <td>0.729252</td>\n",
       "      <td>0.337163</td>\n",
       "      <td>0.727615</td>\n",
       "      <td>0.335858</td>\n",
       "    </tr>\n",
       "    <tr>\n",
       "      <th>2</th>\n",
       "      <td>KNeighborsClassifier</td>\n",
       "      <td>0.976701</td>\n",
       "      <td>0.360694</td>\n",
       "      <td>0.669504</td>\n",
       "      <td>0.358008</td>\n",
       "    </tr>\n",
       "    <tr>\n",
       "      <th>3</th>\n",
       "      <td>Decision Tree</td>\n",
       "      <td>0.93616</td>\n",
       "      <td>0.367088</td>\n",
       "      <td>0.592405</td>\n",
       "      <td>0.366922</td>\n",
       "    </tr>\n",
       "    <tr>\n",
       "      <th>4</th>\n",
       "      <td>RandomForest</td>\n",
       "      <td>0.893327</td>\n",
       "      <td>0.350075</td>\n",
       "      <td>0.712392</td>\n",
       "      <td>0.350964</td>\n",
       "    </tr>\n",
       "  </tbody>\n",
       "</table>\n",
       "</div>"
      ],
      "text/plain": [
       "                  model train_acc train_balanced_acc  test_acc  \\\n",
       "0            Null Model   .728433             .33333   .728433   \n",
       "1   Logistic Regression  0.729252           0.337163  0.727615   \n",
       "2  KNeighborsClassifier  0.976701           0.360694  0.669504   \n",
       "3         Decision Tree   0.93616           0.367088  0.592405   \n",
       "4          RandomForest  0.893327           0.350075  0.712392   \n",
       "\n",
       "  test_balanced_acc  \n",
       "0            .33333  \n",
       "1          0.335858  \n",
       "2          0.358008  \n",
       "3          0.366922  \n",
       "4          0.350964  "
      ]
     },
     "execution_count": 41,
     "metadata": {},
     "output_type": "execute_result"
    }
   ],
   "source": [
    "df_scores"
   ]
  },
  {
   "cell_type": "code",
   "execution_count": 42,
   "metadata": {},
   "outputs": [],
   "source": [
    "df_scores = df_scores.set_index(\"model\")\n",
    "df_scores = df_scores.astype('float')"
   ]
  },
  {
   "cell_type": "code",
   "execution_count": 43,
   "metadata": {},
   "outputs": [
    {
     "data": {
      "text/html": [
       "<div>\n",
       "<style scoped>\n",
       "    .dataframe tbody tr th:only-of-type {\n",
       "        vertical-align: middle;\n",
       "    }\n",
       "\n",
       "    .dataframe tbody tr th {\n",
       "        vertical-align: top;\n",
       "    }\n",
       "\n",
       "    .dataframe thead th {\n",
       "        text-align: right;\n",
       "    }\n",
       "</style>\n",
       "<table border=\"1\" class=\"dataframe\">\n",
       "  <thead>\n",
       "    <tr style=\"text-align: right;\">\n",
       "      <th></th>\n",
       "      <th>train_acc</th>\n",
       "      <th>train_balanced_acc</th>\n",
       "      <th>test_acc</th>\n",
       "      <th>test_balanced_acc</th>\n",
       "    </tr>\n",
       "    <tr>\n",
       "      <th>model</th>\n",
       "      <th></th>\n",
       "      <th></th>\n",
       "      <th></th>\n",
       "      <th></th>\n",
       "    </tr>\n",
       "  </thead>\n",
       "  <tbody>\n",
       "    <tr>\n",
       "      <th>Null Model</th>\n",
       "      <td>0.728433</td>\n",
       "      <td>0.333330</td>\n",
       "      <td>0.728433</td>\n",
       "      <td>0.333330</td>\n",
       "    </tr>\n",
       "    <tr>\n",
       "      <th>Logistic Regression</th>\n",
       "      <td>0.729252</td>\n",
       "      <td>0.337163</td>\n",
       "      <td>0.727615</td>\n",
       "      <td>0.335858</td>\n",
       "    </tr>\n",
       "    <tr>\n",
       "      <th>RandomForest</th>\n",
       "      <td>0.893327</td>\n",
       "      <td>0.350075</td>\n",
       "      <td>0.712392</td>\n",
       "      <td>0.350964</td>\n",
       "    </tr>\n",
       "    <tr>\n",
       "      <th>KNeighborsClassifier</th>\n",
       "      <td>0.976701</td>\n",
       "      <td>0.360694</td>\n",
       "      <td>0.669504</td>\n",
       "      <td>0.358008</td>\n",
       "    </tr>\n",
       "    <tr>\n",
       "      <th>Decision Tree</th>\n",
       "      <td>0.936160</td>\n",
       "      <td>0.367088</td>\n",
       "      <td>0.592405</td>\n",
       "      <td>0.366922</td>\n",
       "    </tr>\n",
       "  </tbody>\n",
       "</table>\n",
       "</div>"
      ],
      "text/plain": [
       "                      train_acc  train_balanced_acc  test_acc  \\\n",
       "model                                                           \n",
       "Null Model             0.728433            0.333330  0.728433   \n",
       "Logistic Regression    0.729252            0.337163  0.727615   \n",
       "RandomForest           0.893327            0.350075  0.712392   \n",
       "KNeighborsClassifier   0.976701            0.360694  0.669504   \n",
       "Decision Tree          0.936160            0.367088  0.592405   \n",
       "\n",
       "                      test_balanced_acc  \n",
       "model                                    \n",
       "Null Model                     0.333330  \n",
       "Logistic Regression            0.335858  \n",
       "RandomForest                   0.350964  \n",
       "KNeighborsClassifier           0.358008  \n",
       "Decision Tree                  0.366922  "
      ]
     },
     "execution_count": 43,
     "metadata": {},
     "output_type": "execute_result"
    }
   ],
   "source": [
    "df_scores.sort_values(by='test_balanced_acc')"
   ]
  },
  {
   "cell_type": "markdown",
   "metadata": {},
   "source": [
    "The models that had the best balanced accuracy severely sacrificed thier test accuracy score."
   ]
  },
  {
   "cell_type": "markdown",
   "metadata": {},
   "source": [
    "#### With Demographics Data"
   ]
  },
  {
   "cell_type": "code",
   "execution_count": 44,
   "metadata": {},
   "outputs": [
    {
     "data": {
      "text/html": [
       "<div>\n",
       "<style scoped>\n",
       "    .dataframe tbody tr th:only-of-type {\n",
       "        vertical-align: middle;\n",
       "    }\n",
       "\n",
       "    .dataframe tbody tr th {\n",
       "        vertical-align: top;\n",
       "    }\n",
       "\n",
       "    .dataframe thead th {\n",
       "        text-align: right;\n",
       "    }\n",
       "</style>\n",
       "<table border=\"1\" class=\"dataframe\">\n",
       "  <thead>\n",
       "    <tr style=\"text-align: right;\">\n",
       "      <th></th>\n",
       "      <th>model</th>\n",
       "      <th>train_acc</th>\n",
       "      <th>train_balanced_acc</th>\n",
       "      <th>test_acc</th>\n",
       "      <th>test_balanced_acc</th>\n",
       "    </tr>\n",
       "  </thead>\n",
       "  <tbody>\n",
       "    <tr>\n",
       "      <th>0</th>\n",
       "      <td>Null Model</td>\n",
       "      <td>.728433</td>\n",
       "      <td>.33333</td>\n",
       "      <td>.728433</td>\n",
       "      <td>.33333</td>\n",
       "    </tr>\n",
       "    <tr>\n",
       "      <th>1</th>\n",
       "      <td>Logistic Regression</td>\n",
       "      <td>0.916462</td>\n",
       "      <td>0.80874</td>\n",
       "      <td>0.907514</td>\n",
       "      <td>0.803931</td>\n",
       "    </tr>\n",
       "    <tr>\n",
       "      <th>2</th>\n",
       "      <td>KNeighborsClassifier</td>\n",
       "      <td>1.0</td>\n",
       "      <td>0.617526</td>\n",
       "      <td>0.826813</td>\n",
       "      <td>0.62552</td>\n",
       "    </tr>\n",
       "    <tr>\n",
       "      <th>3</th>\n",
       "      <td>Decision Tree</td>\n",
       "      <td>1.0</td>\n",
       "      <td>0.999715</td>\n",
       "      <td>0.999836</td>\n",
       "      <td>0.999677</td>\n",
       "    </tr>\n",
       "    <tr>\n",
       "      <th>4</th>\n",
       "      <td>RandomForest</td>\n",
       "      <td>1.0</td>\n",
       "      <td>0.999621</td>\n",
       "      <td>1.0</td>\n",
       "      <td>1.0</td>\n",
       "    </tr>\n",
       "  </tbody>\n",
       "</table>\n",
       "</div>"
      ],
      "text/plain": [
       "                  model train_acc train_balanced_acc  test_acc  \\\n",
       "0            Null Model   .728433             .33333   .728433   \n",
       "1   Logistic Regression  0.916462            0.80874  0.907514   \n",
       "2  KNeighborsClassifier       1.0           0.617526  0.826813   \n",
       "3         Decision Tree       1.0           0.999715  0.999836   \n",
       "4          RandomForest       1.0           0.999621       1.0   \n",
       "\n",
       "  test_balanced_acc  \n",
       "0            .33333  \n",
       "1          0.803931  \n",
       "2           0.62552  \n",
       "3          0.999677  \n",
       "4               1.0  "
      ]
     },
     "execution_count": 44,
     "metadata": {},
     "output_type": "execute_result"
    }
   ],
   "source": [
    "df_demo_scores"
   ]
  },
  {
   "cell_type": "code",
   "execution_count": 45,
   "metadata": {},
   "outputs": [],
   "source": [
    "#Manually add the scores from the Neural Net\n",
    "df_demo_scores.loc[7] = ['Neural Net', .9957, .9895, .9797, .9591]"
   ]
  },
  {
   "cell_type": "code",
   "execution_count": 46,
   "metadata": {},
   "outputs": [],
   "source": [
    "df_demo_scores.iloc[:,1:] = df_demo_scores.iloc[:,1:].astype('float')\n",
    "df_demo_scores.sort_values('test_balanced_acc', inplace=True)"
   ]
  },
  {
   "cell_type": "code",
   "execution_count": 47,
   "metadata": {},
   "outputs": [],
   "source": [
    "df_demo_scores.set_index('model', inplace=True)"
   ]
  },
  {
   "cell_type": "code",
   "execution_count": 48,
   "metadata": {},
   "outputs": [
    {
     "data": {
      "text/html": [
       "<div>\n",
       "<style scoped>\n",
       "    .dataframe tbody tr th:only-of-type {\n",
       "        vertical-align: middle;\n",
       "    }\n",
       "\n",
       "    .dataframe tbody tr th {\n",
       "        vertical-align: top;\n",
       "    }\n",
       "\n",
       "    .dataframe thead th {\n",
       "        text-align: right;\n",
       "    }\n",
       "</style>\n",
       "<table border=\"1\" class=\"dataframe\">\n",
       "  <thead>\n",
       "    <tr style=\"text-align: right;\">\n",
       "      <th></th>\n",
       "      <th>train_acc</th>\n",
       "      <th>train_balanced_acc</th>\n",
       "      <th>test_acc</th>\n",
       "      <th>test_balanced_acc</th>\n",
       "    </tr>\n",
       "    <tr>\n",
       "      <th>model</th>\n",
       "      <th></th>\n",
       "      <th></th>\n",
       "      <th></th>\n",
       "      <th></th>\n",
       "    </tr>\n",
       "  </thead>\n",
       "  <tbody>\n",
       "    <tr>\n",
       "      <th>Null Model</th>\n",
       "      <td>0.728433</td>\n",
       "      <td>0.333330</td>\n",
       "      <td>0.728433</td>\n",
       "      <td>0.333330</td>\n",
       "    </tr>\n",
       "    <tr>\n",
       "      <th>KNeighborsClassifier</th>\n",
       "      <td>1.000000</td>\n",
       "      <td>0.617526</td>\n",
       "      <td>0.826813</td>\n",
       "      <td>0.625520</td>\n",
       "    </tr>\n",
       "    <tr>\n",
       "      <th>Logistic Regression</th>\n",
       "      <td>0.916462</td>\n",
       "      <td>0.808740</td>\n",
       "      <td>0.907514</td>\n",
       "      <td>0.803931</td>\n",
       "    </tr>\n",
       "    <tr>\n",
       "      <th>Neural Net</th>\n",
       "      <td>0.995700</td>\n",
       "      <td>0.989500</td>\n",
       "      <td>0.979700</td>\n",
       "      <td>0.959100</td>\n",
       "    </tr>\n",
       "    <tr>\n",
       "      <th>Decision Tree</th>\n",
       "      <td>1.000000</td>\n",
       "      <td>0.999715</td>\n",
       "      <td>0.999836</td>\n",
       "      <td>0.999677</td>\n",
       "    </tr>\n",
       "    <tr>\n",
       "      <th>RandomForest</th>\n",
       "      <td>1.000000</td>\n",
       "      <td>0.999621</td>\n",
       "      <td>1.000000</td>\n",
       "      <td>1.000000</td>\n",
       "    </tr>\n",
       "  </tbody>\n",
       "</table>\n",
       "</div>"
      ],
      "text/plain": [
       "                      train_acc  train_balanced_acc  test_acc  \\\n",
       "model                                                           \n",
       "Null Model             0.728433            0.333330  0.728433   \n",
       "KNeighborsClassifier   1.000000            0.617526  0.826813   \n",
       "Logistic Regression    0.916462            0.808740  0.907514   \n",
       "Neural Net             0.995700            0.989500  0.979700   \n",
       "Decision Tree          1.000000            0.999715  0.999836   \n",
       "RandomForest           1.000000            0.999621  1.000000   \n",
       "\n",
       "                      test_balanced_acc  \n",
       "model                                    \n",
       "Null Model                     0.333330  \n",
       "KNeighborsClassifier           0.625520  \n",
       "Logistic Regression            0.803931  \n",
       "Neural Net                     0.959100  \n",
       "Decision Tree                  0.999677  \n",
       "RandomForest                   1.000000  "
      ]
     },
     "execution_count": 48,
     "metadata": {},
     "output_type": "execute_result"
    }
   ],
   "source": [
    "df_demo_scores"
   ]
  },
  {
   "cell_type": "code",
   "execution_count": 49,
   "metadata": {},
   "outputs": [
    {
     "data": {
      "image/png": "[encoded data removed]",
      "text/plain": [
       "<Figure size 1440x576 with 1 Axes>"
      ]
     },
     "metadata": {
      "needs_background": "light"
     },
     "output_type": "display_data"
    }
   ],
   "source": [
    "plt.figure(figsize=(20,8))\n",
    "n = np.arange(len(df_demo_scores.index))\n",
    "w = .2\n",
    "plt.bar(n,df_demo_scores['train_acc'], width=w, label='Training Accuracy',color=sns.color_palette(\"Paired\")[1])\n",
    "plt.bar(n+w+w,df_demo_scores['train_balanced_acc'], width=w, label='Training Balanced Accuracy', color=sns.color_palette(\"Paired\")[0])\n",
    "plt.bar(n+w,df_demo_scores['test_acc'], width=w, label='Testing Accuracy', color='darkorange')\n",
    "plt.bar(n+w+w+w,df_demo_scores['test_balanced_acc'], width=w, label='Testing Balanced Accuracy', color=sns.color_palette(\"Paired\")[6])\n",
    "plt.xticks(n+.3, df_demo_scores.index, fontsize=15)\n",
    "plt.ylabel(\"Accuracy\", fontsize=17)\n",
    "plt.legend()\n",
    "plt.savefig(\"../plots/model_scores.png\")"
   ]
  }
 ],
 "metadata": {
  "interpreter": {
   "hash": "077d94bcdaba818b2dd188d6ab835f006c31c46a7929ff512c5409147c7e212b"
  },
  "kernelspec": {
   "display_name": "Python 3.9.7 64-bit ('sktimeenv': conda)",
   "language": "python",
   "name": "python3"
  },
  "language_info": {
   "codemirror_mode": {
    "name": "ipython",
    "version": 3
   },
   "file_extension": ".py",
   "mimetype": "text/x-python",
   "name": "python",
   "nbconvert_exporter": "python",
   "pygments_lexer": "ipython3",
   "version": "3.9.7"
  },
  "orig_nbformat": 4
 },
 "nbformat": 4,
 "nbformat_minor": 2
}
