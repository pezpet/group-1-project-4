{
  "cells": [
    {
      "cell_type": "code",
      "execution_count": 1,
      "metadata": {
        "id": "cGJDksTFfpQV"
      },
      "outputs": [],
      "source": [
        "import pandas as pd\n",
        "import numpy as np\n",
        "import matplotlib.pyplot as plt\n",
        "\n",
        "from sklearn.model_selection import train_test_split\n",
        "from sklearn.preprocessing import OneHotEncoder, StandardScaler\n",
        "from sklearn.compose import make_column_selector, make_column_transformer\n",
        "from sklearn.metrics import balanced_accuracy_score, ConfusionMatrixDisplay\n",
        "\n",
        "from tensorflow.keras.models import Sequential\n",
        "from tensorflow.keras.layers import Dense, Dropout\n",
        "from tensorflow.keras.callbacks import EarlyStopping\n",
        "from tensorflow.keras.regularizers import l2\n",
        "from tensorflow.keras import utils\n",
        "from tensorflow.keras.losses import CategoricalCrossentropy, SparseCategoricalCrossentropy\n",
        "import tensorflow as tf\n",
        "\n"
      ]
    },
    {
      "cell_type": "code",
      "execution_count": 2,
      "metadata": {
        "id": "I-MNm213f9jv"
      },
      "outputs": [],
      "source": [
        "df = pd.read_csv(\"../data/classification_data.csv\")\n",
        "df_demo = pd.read_csv(\"../data/demographics-data/classification_data_demographics.csv\")"
      ]
    },
    {
      "cell_type": "code",
      "execution_count": 4,
      "metadata": {
        "colab": {
          "base_uri": "https://localhost:8080/",
          "height": 374
        },
        "id": "02hG_T36tB15",
        "outputId": "6fe87f64-9182-43bd-d315-e7b351083eb8"
      },
      "outputs": [
        {
          "data": {
            "text/html": [
              "\n",
              "  <div id=\"df-5b61d29c-0089-4710-adc1-fa295bf26985\">\n",
              "    <div class=\"colab-df-container\">\n",
              "      <div>\n",
              "<style scoped>\n",
              "    .dataframe tbody tr th:only-of-type {\n",
              "        vertical-align: middle;\n",
              "    }\n",
              "\n",
              "    .dataframe tbody tr th {\n",
              "        vertical-align: top;\n",
              "    }\n",
              "\n",
              "    .dataframe thead th {\n",
              "        text-align: right;\n",
              "    }\n",
              "</style>\n",
              "<table border=\"1\" class=\"dataframe\">\n",
              "  <thead>\n",
              "    <tr style=\"text-align: right;\">\n",
              "      <th></th>\n",
              "      <th>MonthOccurrence</th>\n",
              "      <th>TotalNumberOfVictims</th>\n",
              "      <th>TotalNumberOfIndividualVictims</th>\n",
              "      <th>SuspectsRaceAsAGroup</th>\n",
              "      <th>TotalNumberOfSuspects</th>\n",
              "      <th>MostSeriousUcr</th>\n",
              "      <th>MostSeriousUcrType</th>\n",
              "      <th>MostSeriousLocation</th>\n",
              "      <th>MostSeriousBias</th>\n",
              "      <th>MostSeriousBiasType</th>\n",
              "      <th>MostSeriousVictimType</th>\n",
              "      <th>WeaponType</th>\n",
              "      <th>Offensive_Act</th>\n",
              "      <th>labels</th>\n",
              "    </tr>\n",
              "  </thead>\n",
              "  <tbody>\n",
              "    <tr>\n",
              "      <th>0</th>\n",
              "      <td>2</td>\n",
              "      <td>1</td>\n",
              "      <td>1</td>\n",
              "      <td>White</td>\n",
              "      <td>2</td>\n",
              "      <td>Simple Assault</td>\n",
              "      <td>Violent Crimes</td>\n",
              "      <td>Bar/Night Club</td>\n",
              "      <td>Anti-Black or African American</td>\n",
              "      <td>Race/Ethnicity/Ancestry</td>\n",
              "      <td>Person</td>\n",
              "      <td>Personal weapons (hands, feet, teeth, etc.)</td>\n",
              "      <td>Verbal slurs</td>\n",
              "      <td>1</td>\n",
              "    </tr>\n",
              "    <tr>\n",
              "      <th>1</th>\n",
              "      <td>2</td>\n",
              "      <td>2</td>\n",
              "      <td>2</td>\n",
              "      <td>White</td>\n",
              "      <td>1</td>\n",
              "      <td>Destruction/Damage/Vandalism</td>\n",
              "      <td>Property Crimes</td>\n",
              "      <td>Residence/Home/Driveway</td>\n",
              "      <td>Anti-Black or African American</td>\n",
              "      <td>Race/Ethnicity/Ancestry</td>\n",
              "      <td>Person</td>\n",
              "      <td>None</td>\n",
              "      <td>Graffiti</td>\n",
              "      <td>1</td>\n",
              "    </tr>\n",
              "    <tr>\n",
              "      <th>2</th>\n",
              "      <td>5</td>\n",
              "      <td>1</td>\n",
              "      <td>1</td>\n",
              "      <td>White</td>\n",
              "      <td>4</td>\n",
              "      <td>Destruction/Damage/Vandalism</td>\n",
              "      <td>Property Crimes</td>\n",
              "      <td>Residence/Home/Driveway</td>\n",
              "      <td>Anti-Hispanic or Latino</td>\n",
              "      <td>Race/Ethnicity/Ancestry</td>\n",
              "      <td>Person</td>\n",
              "      <td>None</td>\n",
              "      <td>Daubing of swastika</td>\n",
              "      <td>1</td>\n",
              "    </tr>\n",
              "    <tr>\n",
              "      <th>3</th>\n",
              "      <td>9</td>\n",
              "      <td>1</td>\n",
              "      <td>1</td>\n",
              "      <td>White</td>\n",
              "      <td>1</td>\n",
              "      <td>Intimidation</td>\n",
              "      <td>Violent Crimes</td>\n",
              "      <td>Residence/Home/Driveway</td>\n",
              "      <td>Anti-Hispanic or Latino</td>\n",
              "      <td>Race/Ethnicity/Ancestry</td>\n",
              "      <td>Person</td>\n",
              "      <td>None</td>\n",
              "      <td>Verbal slurs</td>\n",
              "      <td>1</td>\n",
              "    </tr>\n",
              "    <tr>\n",
              "      <th>4</th>\n",
              "      <td>9</td>\n",
              "      <td>2</td>\n",
              "      <td>2</td>\n",
              "      <td>White</td>\n",
              "      <td>1</td>\n",
              "      <td>Intimidation</td>\n",
              "      <td>Violent Crimes</td>\n",
              "      <td>Convenience Store</td>\n",
              "      <td>Anti-Other Race/Ethnicity/Ancestry</td>\n",
              "      <td>Race/Ethnicity/Ancestry</td>\n",
              "      <td>Person</td>\n",
              "      <td>None</td>\n",
              "      <td>Verbal slurs</td>\n",
              "      <td>1</td>\n",
              "    </tr>\n",
              "  </tbody>\n",
              "</table>\n",
              "</div>\n",
              "      <button class=\"colab-df-convert\" onclick=\"convertToInteractive('df-5b61d29c-0089-4710-adc1-fa295bf26985')\"\n",
              "              title=\"Convert this dataframe to an interactive table.\"\n",
              "              style=\"display:none;\">\n",
              "        \n",
              "  <svg xmlns=\"http://www.w3.org/2000/svg\" height=\"24px\"viewBox=\"0 0 24 24\"\n",
              "       width=\"24px\">\n",
              "    <path d=\"M0 0h24v24H0V0z\" fill=\"none\"/>\n",
              "    <path d=\"M18.56 5.44l.94 2.06.94-2.06 2.06-.94-2.06-.94-.94-2.06-.94 2.06-2.06.94zm-11 1L8.5 8.5l.94-2.06 2.06-.94-2.06-.94L8.5 2.5l-.94 2.06-2.06.94zm10 10l.94 2.06.94-2.06 2.06-.94-2.06-.94-.94-2.06-.94 2.06-2.06.94z\"/><path d=\"M17.41 7.96l-1.37-1.37c-.4-.4-.92-.59-1.43-.59-.52 0-1.04.2-1.43.59L10.3 9.45l-7.72 7.72c-.78.78-.78 2.05 0 2.83L4 21.41c.39.39.9.59 1.41.59.51 0 1.02-.2 1.41-.59l7.78-7.78 2.81-2.81c.8-.78.8-2.07 0-2.86zM5.41 20L4 18.59l7.72-7.72 1.47 1.35L5.41 20z\"/>\n",
              "  </svg>\n",
              "      </button>\n",
              "      \n",
              "  <style>\n",
              "    .colab-df-container {\n",
              "      display:flex;\n",
              "      flex-wrap:wrap;\n",
              "      gap: 12px;\n",
              "    }\n",
              "\n",
              "    .colab-df-convert {\n",
              "      background-color: #E8F0FE;\n",
              "      border: none;\n",
              "      border-radius: 50%;\n",
              "      cursor: pointer;\n",
              "      display: none;\n",
              "      fill: #1967D2;\n",
              "      height: 32px;\n",
              "      padding: 0 0 0 0;\n",
              "      width: 32px;\n",
              "    }\n",
              "\n",
              "    .colab-df-convert:hover {\n",
              "      background-color: #E2EBFA;\n",
              "      box-shadow: 0px 1px 2px rgba(60, 64, 67, 0.3), 0px 1px 3px 1px rgba(60, 64, 67, 0.15);\n",
              "      fill: #174EA6;\n",
              "    }\n",
              "\n",
              "    [theme=dark] .colab-df-convert {\n",
              "      background-color: #3B4455;\n",
              "      fill: #D2E3FC;\n",
              "    }\n",
              "\n",
              "    [theme=dark] .colab-df-convert:hover {\n",
              "      background-color: #434B5C;\n",
              "      box-shadow: 0px 1px 3px 1px rgba(0, 0, 0, 0.15);\n",
              "      filter: drop-shadow(0px 1px 2px rgba(0, 0, 0, 0.3));\n",
              "      fill: #FFFFFF;\n",
              "    }\n",
              "  </style>\n",
              "\n",
              "      <script>\n",
              "        const buttonEl =\n",
              "          document.querySelector('#df-5b61d29c-0089-4710-adc1-fa295bf26985 button.colab-df-convert');\n",
              "        buttonEl.style.display =\n",
              "          google.colab.kernel.accessAllowed ? 'block' : 'none';\n",
              "\n",
              "        async function convertToInteractive(key) {\n",
              "          const element = document.querySelector('#df-5b61d29c-0089-4710-adc1-fa295bf26985');\n",
              "          const dataTable =\n",
              "            await google.colab.kernel.invokeFunction('convertToInteractive',\n",
              "                                                     [key], {});\n",
              "          if (!dataTable) return;\n",
              "\n",
              "          const docLinkHtml = 'Like what you see? Visit the ' +\n",
              "            '<a target=\"_blank\" href=https://colab.research.google.com/notebooks/data_table.ipynb>data table notebook</a>'\n",
              "            + ' to learn more about interactive tables.';\n",
              "          element.innerHTML = '';\n",
              "          dataTable['output_type'] = 'display_data';\n",
              "          await google.colab.output.renderOutput(dataTable, element);\n",
              "          const docLink = document.createElement('div');\n",
              "          docLink.innerHTML = docLinkHtml;\n",
              "          element.appendChild(docLink);\n",
              "        }\n",
              "      </script>\n",
              "    </div>\n",
              "  </div>\n",
              "  "
            ],
            "text/plain": [
              "   MonthOccurrence  TotalNumberOfVictims  ...        Offensive_Act labels\n",
              "0                2                     1  ...         Verbal slurs      1\n",
              "1                2                     2  ...             Graffiti      1\n",
              "2                5                     1  ...  Daubing of swastika      1\n",
              "3                9                     1  ...         Verbal slurs      1\n",
              "4                9                     2  ...         Verbal slurs      1\n",
              "\n",
              "[5 rows x 14 columns]"
            ]
          },
          "execution_count": 4,
          "metadata": {},
          "output_type": "execute_result"
        }
      ],
      "source": [
        "df.head()"
      ]
    },
    {
      "cell_type": "code",
      "execution_count": 5,
      "metadata": {
        "id": "F9vwtWg0gZYW"
      },
      "outputs": [],
      "source": [
        "#move target to end\n",
        "df_demo = df_demo[[col for col in df_demo if col != 'labels']+ ['labels']]"
      ]
    },
    {
      "cell_type": "code",
      "execution_count": 32,
      "metadata": {
        "colab": {
          "base_uri": "https://localhost:8080/"
        },
        "id": "dUeVrlM998X3",
        "outputId": "0f1a4062-a550-4a5e-def2-5deee57fdc20"
      },
      "outputs": [
        {
          "name": "stdout",
          "output_type": "stream",
          "text": [
            "<class 'pandas.core.frame.DataFrame'>\n",
            "RangeIndex: 24436 entries, 0 to 24435\n",
            "Data columns (total 13 columns):\n",
            " #   Column                          Non-Null Count  Dtype \n",
            "---  ------                          --------------  ----- \n",
            " 0   MonthOccurrence                 24436 non-null  int64 \n",
            " 1   TotalNumberOfVictims            24436 non-null  int64 \n",
            " 2   TotalNumberOfIndividualVictims  24436 non-null  int64 \n",
            " 3   SuspectsRaceAsAGroup            24436 non-null  object\n",
            " 4   TotalNumberOfSuspects           24436 non-null  int64 \n",
            " 5   MostSeriousUcr                  24436 non-null  object\n",
            " 6   MostSeriousUcrType              24436 non-null  object\n",
            " 7   MostSeriousLocation             24436 non-null  object\n",
            " 8   MostSeriousBias                 24436 non-null  object\n",
            " 9   MostSeriousBiasType             24436 non-null  object\n",
            " 10  MostSeriousVictimType           24436 non-null  object\n",
            " 11  WeaponType                      24436 non-null  object\n",
            " 12  Offensive_Act                   24436 non-null  object\n",
            "dtypes: int64(4), object(9)\n",
            "memory usage: 2.4+ MB\n"
          ]
        }
      ],
      "source": [
        "X.info()"
      ]
    },
    {
      "cell_type": "markdown",
      "metadata": {
        "id": "Ir5PJFQJj7gX"
      },
      "source": [
        "## X, y & Train Test Split"
      ]
    },
    {
      "cell_type": "code",
      "execution_count": 102,
      "metadata": {
        "id": "honILlYyga07"
      },
      "outputs": [],
      "source": [
        "X = df.iloc[:,:-1]\n",
        "y = df.iloc[:,-1]\n",
        "\n",
        "X_demo = df_demo.iloc[:,:-1]\n",
        "y_demo = df_demo.iloc[:,-1]\n",
        "\n",
        "y = utils.to_categorical(y, num_classes=3)\n",
        "y_demo = utils.to_categorical(y_demo, num_classes=3)"
      ]
    },
    {
      "cell_type": "code",
      "execution_count": 104,
      "metadata": {
        "id": "XyuADF6HgciY"
      },
      "outputs": [],
      "source": [
        "#Encode Features\n",
        "ct = make_column_transformer(\n",
        "    (OneHotEncoder(sparse=False, handle_unknown='ignore'), make_column_selector(dtype_include=object)),\n",
        "    remainder='passthrough',\n",
        "    verbose_feature_names_out=False\n",
        ")\n",
        "X_encoded = ct.fit_transform(X)\n",
        "X_encoded = pd.DataFrame(X_encoded, columns=ct.get_feature_names_out())\n",
        "\n",
        "X_encoded_demo = ct.fit_transform(X_demo)\n",
        "X_encoded_demo = pd.DataFrame(X_encoded_demo, columns=ct.get_feature_names_out())\n",
        "\n",
        "#Scale X\n",
        "ss = StandardScaler()\n",
        "X_train_ss = ss.fit_transform(X_train_encoded)\n",
        "X_test_ss = ss.transform(X_test_encoded)\n",
        "X_ss_demo = StandardScaler().fit_transform(X_encoded_demo)"
      ]
    },
    {
      "cell_type": "code",
      "execution_count": 63,
      "metadata": {
        "colab": {
          "base_uri": "https://localhost:8080/"
        },
        "id": "aqTKuzA1A4Eh",
        "outputId": "d53c5edb-69e5-4c7c-eed4-cfa69de820e2"
      },
      "outputs": [
        {
          "data": {
            "text/plain": [
              "(6109, 150)"
            ]
          },
          "execution_count": 63,
          "metadata": {},
          "output_type": "execute_result"
        }
      ],
      "source": [
        "X_test_ss.shape"
      ]
    },
    {
      "cell_type": "code",
      "execution_count": 109,
      "metadata": {
        "id": "aMuuZhwngeSw"
      },
      "outputs": [],
      "source": [
        "X_train, X_test, y_train, y_test = train_test_split(X_ss, y, stratify=y, random_state=13)\n",
        "X_train_demo, X_test_demo, y_train_demo, y_test_demo = train_test_split(X_ss_demo, y_demo, stratify=y_demo, random_state=13)"
      ]
    },
    {
      "cell_type": "code",
      "execution_count": 54,
      "metadata": {
        "colab": {
          "base_uri": "https://localhost:8080/"
        },
        "id": "9TSTQ6nhvoWd",
        "outputId": "a8a95f07-221e-48a2-e20b-399b6b48a756"
      },
      "outputs": [
        {
          "data": {
            "text/plain": [
              "1    0.728433\n",
              "0    0.168726\n",
              "2    0.102840\n",
              "Name: labels, dtype: float64"
            ]
          },
          "execution_count": 54,
          "metadata": {},
          "output_type": "execute_result"
        }
      ],
      "source": [
        "df['labels'].value_counts(normalize=True)"
      ]
    },
    {
      "cell_type": "markdown",
      "metadata": {
        "id": "TGZicJZpkAgI"
      },
      "source": [
        "## Build Neural Net"
      ]
    },
    {
      "cell_type": "code",
      "execution_count": 115,
      "metadata": {
        "colab": {
          "base_uri": "https://localhost:8080/"
        },
        "id": "PDDZEnOxgmFV",
        "outputId": "cc503043-a89e-442c-c5c9-0ec7f110d614"
      },
      "outputs": [
        {
          "name": "stdout",
          "output_type": "stream",
          "text": [
            "Epoch 1/100\n",
            "184/184 - 3s - loss: 0.7116 - accuracy: 0.7652 - val_loss: 0.7365 - val_accuracy: 0.8258 - 3s/epoch - 15ms/step\n",
            "Epoch 2/100\n",
            "184/184 - 1s - loss: 0.1532 - accuracy: 0.8337 - val_loss: 0.4902 - val_accuracy: 0.8414 - 1s/epoch - 7ms/step\n",
            "Epoch 3/100\n",
            "184/184 - 1s - loss: 0.0951 - accuracy: 0.8430 - val_loss: 0.4360 - val_accuracy: 0.8432 - 965ms/epoch - 5ms/step\n",
            "Epoch 4/100\n",
            "184/184 - 1s - loss: 0.0796 - accuracy: 0.8550 - val_loss: 0.3704 - val_accuracy: 0.8679 - 790ms/epoch - 4ms/step\n",
            "Epoch 5/100\n",
            "184/184 - 1s - loss: 0.0702 - accuracy: 0.8730 - val_loss: 0.3513 - val_accuracy: 0.8726 - 794ms/epoch - 4ms/step\n",
            "Epoch 6/100\n",
            "184/184 - 1s - loss: 0.0633 - accuracy: 0.8789 - val_loss: 0.3175 - val_accuracy: 0.8769 - 940ms/epoch - 5ms/step\n",
            "Epoch 7/100\n",
            "184/184 - 1s - loss: 0.0579 - accuracy: 0.8808 - val_loss: 0.3800 - val_accuracy: 0.8695 - 923ms/epoch - 5ms/step\n",
            "Epoch 8/100\n",
            "184/184 - 1s - loss: 0.0540 - accuracy: 0.8833 - val_loss: 0.2726 - val_accuracy: 0.8856 - 924ms/epoch - 5ms/step\n",
            "Epoch 9/100\n",
            "184/184 - 1s - loss: 0.0500 - accuracy: 0.8968 - val_loss: 0.2564 - val_accuracy: 0.9077 - 918ms/epoch - 5ms/step\n",
            "Epoch 10/100\n",
            "184/184 - 1s - loss: 0.0481 - accuracy: 0.9135 - val_loss: 0.2868 - val_accuracy: 0.8890 - 933ms/epoch - 5ms/step\n",
            "Epoch 11/100\n",
            "184/184 - 1s - loss: 0.0454 - accuracy: 0.9306 - val_loss: 0.2824 - val_accuracy: 0.8970 - 783ms/epoch - 4ms/step\n",
            "Epoch 12/100\n",
            "184/184 - 1s - loss: 0.0430 - accuracy: 0.9374 - val_loss: 0.2249 - val_accuracy: 0.9329 - 945ms/epoch - 5ms/step\n",
            "Epoch 13/100\n",
            "184/184 - 1s - loss: 0.0412 - accuracy: 0.9439 - val_loss: 0.2074 - val_accuracy: 0.9463 - 953ms/epoch - 5ms/step\n",
            "Epoch 14/100\n",
            "184/184 - 1s - loss: 0.0398 - accuracy: 0.9488 - val_loss: 0.2152 - val_accuracy: 0.9543 - 802ms/epoch - 4ms/step\n",
            "Epoch 15/100\n",
            "184/184 - 1s - loss: 0.0389 - accuracy: 0.9536 - val_loss: 0.1998 - val_accuracy: 0.9461 - 798ms/epoch - 4ms/step\n",
            "Epoch 16/100\n",
            "184/184 - 1s - loss: 0.0363 - accuracy: 0.9614 - val_loss: 0.1798 - val_accuracy: 0.9604 - 928ms/epoch - 5ms/step\n",
            "Epoch 17/100\n",
            "184/184 - 1s - loss: 0.0351 - accuracy: 0.9655 - val_loss: 0.1768 - val_accuracy: 0.9591 - 787ms/epoch - 4ms/step\n",
            "Epoch 18/100\n",
            "184/184 - 1s - loss: 0.0342 - accuracy: 0.9668 - val_loss: 0.1622 - val_accuracy: 0.9648 - 775ms/epoch - 4ms/step\n",
            "Epoch 19/100\n",
            "184/184 - 1s - loss: 0.0332 - accuracy: 0.9681 - val_loss: 0.1578 - val_accuracy: 0.9666 - 937ms/epoch - 5ms/step\n",
            "Epoch 20/100\n",
            "184/184 - 1s - loss: 0.0322 - accuracy: 0.9695 - val_loss: 0.1797 - val_accuracy: 0.9591 - 943ms/epoch - 5ms/step\n",
            "Epoch 21/100\n",
            "184/184 - 1s - loss: 0.0315 - accuracy: 0.9708 - val_loss: 0.1735 - val_accuracy: 0.9638 - 937ms/epoch - 5ms/step\n",
            "Epoch 22/100\n",
            "184/184 - 1s - loss: 0.0302 - accuracy: 0.9726 - val_loss: 0.1595 - val_accuracy: 0.9655 - 790ms/epoch - 4ms/step\n",
            "Epoch 23/100\n",
            "184/184 - 1s - loss: 0.0292 - accuracy: 0.9717 - val_loss: 0.1602 - val_accuracy: 0.9630 - 917ms/epoch - 5ms/step\n",
            "Epoch 24/100\n",
            "184/184 - 1s - loss: 0.0287 - accuracy: 0.9725 - val_loss: 0.1532 - val_accuracy: 0.9586 - 788ms/epoch - 4ms/step\n",
            "Epoch 25/100\n",
            "184/184 - 1s - loss: 0.0279 - accuracy: 0.9733 - val_loss: 0.1430 - val_accuracy: 0.9668 - 810ms/epoch - 4ms/step\n",
            "Epoch 26/100\n",
            "184/184 - 1s - loss: 0.0268 - accuracy: 0.9750 - val_loss: 0.1399 - val_accuracy: 0.9699 - 787ms/epoch - 4ms/step\n",
            "Epoch 27/100\n",
            "184/184 - 1s - loss: 0.0262 - accuracy: 0.9752 - val_loss: 0.1731 - val_accuracy: 0.9674 - 791ms/epoch - 4ms/step\n",
            "Epoch 28/100\n",
            "184/184 - 1s - loss: 0.0261 - accuracy: 0.9757 - val_loss: 0.1647 - val_accuracy: 0.9674 - 924ms/epoch - 5ms/step\n",
            "Epoch 29/100\n",
            "184/184 - 1s - loss: 0.0258 - accuracy: 0.9759 - val_loss: 0.1274 - val_accuracy: 0.9740 - 793ms/epoch - 4ms/step\n",
            "Epoch 30/100\n",
            "184/184 - 1s - loss: 0.0246 - accuracy: 0.9766 - val_loss: 0.1369 - val_accuracy: 0.9699 - 793ms/epoch - 4ms/step\n",
            "Epoch 31/100\n",
            "184/184 - 1s - loss: 0.0231 - accuracy: 0.9784 - val_loss: 0.1401 - val_accuracy: 0.9705 - 950ms/epoch - 5ms/step\n",
            "Epoch 32/100\n",
            "184/184 - 1s - loss: 0.0232 - accuracy: 0.9798 - val_loss: 0.1667 - val_accuracy: 0.9587 - 798ms/epoch - 4ms/step\n",
            "Epoch 33/100\n",
            "184/184 - 1s - loss: 0.0227 - accuracy: 0.9802 - val_loss: 0.1158 - val_accuracy: 0.9738 - 789ms/epoch - 4ms/step\n",
            "Epoch 34/100\n",
            "184/184 - 1s - loss: 0.0220 - accuracy: 0.9812 - val_loss: 0.1264 - val_accuracy: 0.9732 - 788ms/epoch - 4ms/step\n",
            "Epoch 35/100\n",
            "184/184 - 1s - loss: 0.0216 - accuracy: 0.9814 - val_loss: 0.1119 - val_accuracy: 0.9733 - 794ms/epoch - 4ms/step\n",
            "Epoch 36/100\n",
            "184/184 - 1s - loss: 0.0223 - accuracy: 0.9808 - val_loss: 0.1331 - val_accuracy: 0.9728 - 808ms/epoch - 4ms/step\n",
            "Epoch 37/100\n",
            "184/184 - 1s - loss: 0.0221 - accuracy: 0.9817 - val_loss: 0.1321 - val_accuracy: 0.9725 - 973ms/epoch - 5ms/step\n",
            "Epoch 38/100\n",
            "184/184 - 1s - loss: 0.0207 - accuracy: 0.9831 - val_loss: 0.1323 - val_accuracy: 0.9720 - 785ms/epoch - 4ms/step\n",
            "Epoch 39/100\n",
            "184/184 - 1s - loss: 0.0192 - accuracy: 0.9852 - val_loss: 0.1347 - val_accuracy: 0.9727 - 935ms/epoch - 5ms/step\n",
            "Epoch 40/100\n",
            "184/184 - 1s - loss: 0.0201 - accuracy: 0.9838 - val_loss: 0.1449 - val_accuracy: 0.9674 - 781ms/epoch - 4ms/step\n",
            "Epoch 41/100\n",
            "184/184 - 1s - loss: 0.0197 - accuracy: 0.9843 - val_loss: 0.1447 - val_accuracy: 0.9696 - 948ms/epoch - 5ms/step\n",
            "Epoch 42/100\n",
            "184/184 - 1s - loss: 0.0186 - accuracy: 0.9852 - val_loss: 0.1017 - val_accuracy: 0.9766 - 792ms/epoch - 4ms/step\n",
            "Epoch 43/100\n",
            "184/184 - 1s - loss: 0.0201 - accuracy: 0.9837 - val_loss: 0.1415 - val_accuracy: 0.9738 - 802ms/epoch - 4ms/step\n",
            "Epoch 44/100\n",
            "184/184 - 1s - loss: 0.0202 - accuracy: 0.9850 - val_loss: 0.1622 - val_accuracy: 0.9673 - 949ms/epoch - 5ms/step\n",
            "Epoch 45/100\n",
            "184/184 - 1s - loss: 0.0181 - accuracy: 0.9865 - val_loss: 0.1070 - val_accuracy: 0.9768 - 779ms/epoch - 4ms/step\n",
            "Epoch 46/100\n",
            "184/184 - 1s - loss: 0.0166 - accuracy: 0.9878 - val_loss: 0.1138 - val_accuracy: 0.9758 - 788ms/epoch - 4ms/step\n",
            "Epoch 47/100\n",
            "184/184 - 1s - loss: 0.0165 - accuracy: 0.9882 - val_loss: 0.0995 - val_accuracy: 0.9769 - 942ms/epoch - 5ms/step\n",
            "Epoch 48/100\n",
            "184/184 - 1s - loss: 0.0170 - accuracy: 0.9869 - val_loss: 0.1218 - val_accuracy: 0.9748 - 940ms/epoch - 5ms/step\n",
            "Epoch 49/100\n",
            "184/184 - 1s - loss: 0.0173 - accuracy: 0.9869 - val_loss: 0.1051 - val_accuracy: 0.9758 - 970ms/epoch - 5ms/step\n",
            "Epoch 50/100\n",
            "184/184 - 1s - loss: 0.0164 - accuracy: 0.9882 - val_loss: 0.1106 - val_accuracy: 0.9764 - 948ms/epoch - 5ms/step\n",
            "Epoch 51/100\n",
            "184/184 - 1s - loss: 0.0153 - accuracy: 0.9893 - val_loss: 0.1199 - val_accuracy: 0.9761 - 931ms/epoch - 5ms/step\n",
            "Epoch 52/100\n",
            "184/184 - 1s - loss: 0.0157 - accuracy: 0.9893 - val_loss: 0.0979 - val_accuracy: 0.9823 - 933ms/epoch - 5ms/step\n",
            "Epoch 53/100\n",
            "184/184 - 1s - loss: 0.0152 - accuracy: 0.9899 - val_loss: 0.1108 - val_accuracy: 0.9758 - 927ms/epoch - 5ms/step\n",
            "Epoch 54/100\n",
            "184/184 - 1s - loss: 0.0161 - accuracy: 0.9891 - val_loss: 0.1608 - val_accuracy: 0.9684 - 782ms/epoch - 4ms/step\n",
            "Epoch 55/100\n",
            "184/184 - 1s - loss: 0.0152 - accuracy: 0.9904 - val_loss: 0.1272 - val_accuracy: 0.9735 - 807ms/epoch - 4ms/step\n",
            "Epoch 56/100\n",
            "184/184 - 1s - loss: 0.0154 - accuracy: 0.9893 - val_loss: 0.1163 - val_accuracy: 0.9751 - 774ms/epoch - 4ms/step\n",
            "Epoch 57/100\n",
            "184/184 - 1s - loss: 0.0150 - accuracy: 0.9904 - val_loss: 0.1216 - val_accuracy: 0.9741 - 801ms/epoch - 4ms/step\n",
            "Epoch 58/100\n",
            "184/184 - 1s - loss: 0.0157 - accuracy: 0.9893 - val_loss: 0.1358 - val_accuracy: 0.9746 - 937ms/epoch - 5ms/step\n",
            "Epoch 59/100\n",
            "184/184 - 1s - loss: 0.0160 - accuracy: 0.9890 - val_loss: 0.0995 - val_accuracy: 0.9797 - 792ms/epoch - 4ms/step\n"
          ]
        }
      ],
      "source": [
        "\n",
        "model = Sequential()\n",
        "model.add(Dense(128, activation='relu'))\n",
        "model.add(Dense(64, activation='relu', kernel_regularizer=l2(.01)))\n",
        "model.add(Dropout(.2))\n",
        "model.add(Dense(16, activation='relu', kernel_regularizer=l2(.02)))\n",
        "model.add(Dense(3, activation='softmax'))\n",
        "\n",
        "model.compile(\n",
        "  optimizer='adam',\n",
        "  loss='categorical_crossentropy',\n",
        "  metrics=['accuracy']\n",
        ")\n",
        "\n",
        "history = model.fit(\n",
        "    X_train_demo,\n",
        "    y_train_demo,\n",
        "    validation_data = (X_test_demo, y_test_demo),\n",
        "    epochs=100,\n",
        "    batch_size=100,\n",
        "    callbacks=EarlyStopping(monitor='val_loss', patience=7),\n",
        "    class_weight={0:.1687, 1:.7284, 2:.1029},\n",
        "    verbose=2\n",
        ")"
      ]
    },
    {
      "cell_type": "markdown",
      "metadata": {
        "id": "dhKSR1kPkDe7"
      },
      "source": [
        "## Evaluate Model"
      ]
    },
    {
      "cell_type": "code",
      "execution_count": 116,
      "metadata": {
        "id": "NDDBmspMhbA8"
      },
      "outputs": [],
      "source": [
        "preds = np.argmax(model.predict(X_test_demo), axis=1)"
      ]
    },
    {
      "cell_type": "code",
      "execution_count": 119,
      "metadata": {
        "colab": {
          "base_uri": "https://localhost:8080/"
        },
        "id": "qHI5BXTJS-QJ",
        "outputId": "aeb04aa3-7082-4380-efbd-848dadab79c4"
      },
      "outputs": [
        {
          "name": "stdout",
          "output_type": "stream",
          "text": [
            "573/573 [==============================] - 3s 6ms/step - loss: 0.0361 - accuracy: 0.9957\n"
          ]
        },
        {
          "data": {
            "text/plain": [
              "[0.036113008856773376, 0.9956893920898438]"
            ]
          },
          "execution_count": 119,
          "metadata": {},
          "output_type": "execute_result"
        }
      ],
      "source": [
        "model.evaluate(X_train_demo, y_train_demo)"
      ]
    },
    {
      "cell_type": "code",
      "execution_count": 117,
      "metadata": {
        "colab": {
          "base_uri": "https://localhost:8080/"
        },
        "id": "gt0gjLwGCWHv",
        "outputId": "c52c4bae-2e5f-4cf8-b73c-081f475d4b24"
      },
      "outputs": [
        {
          "name": "stdout",
          "output_type": "stream",
          "text": [
            "191/191 [==============================] - 1s 3ms/step - loss: 0.0995 - accuracy: 0.9797\n"
          ]
        },
        {
          "data": {
            "text/plain": [
              "[0.09951414912939072, 0.9797020554542542]"
            ]
          },
          "execution_count": 117,
          "metadata": {},
          "output_type": "execute_result"
        }
      ],
      "source": [
        "model.evaluate(X_test_demo, y_test_demo)"
      ]
    },
    {
      "cell_type": "code",
      "execution_count": 120,
      "metadata": {
        "colab": {
          "base_uri": "https://localhost:8080/"
        },
        "id": "aswLrC1NTFWx",
        "outputId": "b545864b-e11d-4ced-de33-596c3bfb6072"
      },
      "outputs": [
        {
          "data": {
            "text/plain": [
              "0.9895505822323001"
            ]
          },
          "execution_count": 120,
          "metadata": {},
          "output_type": "execute_result"
        }
      ],
      "source": [
        "train_preds = np.argmax(model.predict(X_train_demo), axis=1)\n",
        "balanced_accuracy_score(np.argmax(y_train_demo, axis=1), train_preds)"
      ]
    },
    {
      "cell_type": "code",
      "execution_count": 118,
      "metadata": {
        "colab": {
          "base_uri": "https://localhost:8080/"
        },
        "id": "Pfd74ucdjWZK",
        "outputId": "fa807ef9-894a-406f-fdf4-47612f8178b8"
      },
      "outputs": [
        {
          "data": {
            "text/plain": [
              "0.9591416400513215"
            ]
          },
          "execution_count": 118,
          "metadata": {},
          "output_type": "execute_result"
        }
      ],
      "source": [
        "balanced_accuracy_score(np.argmax(y_test_demo, axis=1), preds)"
      ]
    },
    {
      "cell_type": "code",
      "execution_count": 130,
      "metadata": {
        "colab": {
          "base_uri": "https://localhost:8080/",
          "height": 312
        },
        "id": "l3IHnfGMkATw",
        "outputId": "40e8bd03-cdc8-427b-feb0-b7d1970b9918"
      },
      "outputs": [
        {
          "data": {
            "text/plain": [
              "<Figure size 720x720 with 0 Axes>"
            ]
          },
          "metadata": {},
          "output_type": "display_data"
        },
        {
          "data": {
            "image/png": "[encoded data removed]",
            "text/plain": [
              "<Figure size 432x288 with 2 Axes>"
            ]
          },
          "metadata": {
            "needs_background": "light"
          },
          "output_type": "display_data"
        }
      ],
      "source": [
        "plt.figure(figsize=(10,10))\n",
        "ConfusionMatrixDisplay.from_predictions(np.argmax(y_test_demo, axis=1), preds, cmap=\"Purples\")\n",
        "plt.title(\"Neural Net Confusion Matrix\")\n",
        "plt.savefig(\"../plots/NN_CMD.png\", transparent=True)"
      ]
    },
    {
      "cell_type": "code",
      "execution_count": null,
      "metadata": {
        "id": "spqb_x_Kben-"
      },
      "outputs": [],
      "source": []
    }
  ],
  "metadata": {
    "accelerator": "GPU",
    "colab": {
      "collapsed_sections": [],
      "name": "CM_NN.ipynb",
      "provenance": []
    },
    "kernelspec": {
      "display_name": "Python 3",
      "name": "python3"
    },
    "language_info": {
      "codemirror_mode": {
        "name": "ipython",
        "version": 3
      },
      "file_extension": ".py",
      "mimetype": "text/x-python",
      "name": "python",
      "nbconvert_exporter": "python",
      "pygments_lexer": "ipython3",
      "version": "3.9.7"
    }
  },
  "nbformat": 4,
  "nbformat_minor": 0
}
