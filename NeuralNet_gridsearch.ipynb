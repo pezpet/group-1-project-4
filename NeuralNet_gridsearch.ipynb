{
  "cells": [
    {
      "cell_type": "markdown",
      "metadata": {
        "id": "Xh92LKxe9tvG"
      },
      "source": [
        "# Neural Networks with Grid Searching\n"
      ]
    },
    {
      "cell_type": "markdown",
      "metadata": {
        "id": "5B5VRzPU9HFa"
      },
      "source": [
        "## Imports"
      ]
    },
    {
      "cell_type": "code",
      "execution_count": 1,
      "metadata": {
        "colab": {
          "base_uri": "https://localhost:8080/"
        },
        "id": "O6t4GbqR7c6L",
        "outputId": "cfaf3f16-ebaf-4a0f-f334-b6d417837f5e"
      },
      "outputs": [
        {
          "name": "stdout",
          "output_type": "stream",
          "text": [
            "Collecting scikeras\n",
            "  Downloading scikeras-0.6.1-py3-none-any.whl (27 kB)\n",
            "Requirement already satisfied: scikit-learn>=1.0.0 in /Users/andresperez/opt/anaconda3/lib/python3.9/site-packages (from scikeras) (1.0.2)\n",
            "Requirement already satisfied: packaging<22.0,>=0.21 in /Users/andresperez/opt/anaconda3/lib/python3.9/site-packages (from scikeras) (21.0)\n",
            "Requirement already satisfied: pyparsing>=2.0.2 in /Users/andresperez/opt/anaconda3/lib/python3.9/site-packages (from packaging<22.0,>=0.21->scikeras) (3.0.4)\n",
            "Requirement already satisfied: numpy>=1.14.6 in /Users/andresperez/opt/anaconda3/lib/python3.9/site-packages (from scikit-learn>=1.0.0->scikeras) (1.20.3)\n",
            "Requirement already satisfied: scipy>=1.1.0 in /Users/andresperez/opt/anaconda3/lib/python3.9/site-packages (from scikit-learn>=1.0.0->scikeras) (1.7.1)\n",
            "Requirement already satisfied: joblib>=0.11 in /Users/andresperez/opt/anaconda3/lib/python3.9/site-packages (from scikit-learn>=1.0.0->scikeras) (1.1.0)\n",
            "Requirement already satisfied: threadpoolctl>=2.0.0 in /Users/andresperez/opt/anaconda3/lib/python3.9/site-packages (from scikit-learn>=1.0.0->scikeras) (2.2.0)\n",
            "Installing collected packages: scikeras\n",
            "Successfully installed scikeras-0.6.1\n",
            "Note: you may need to restart the kernel to use updated packages.\n"
          ]
        }
      ],
      "source": [
        "%pip install scikeras\n",
        "\n",
        "import pandas as pd\n",
        "import numpy as np\n",
        "import matplotlib.pyplot as plt\n",
        "import tensorflow as tf\n",
        "\n",
        "from sklearn.model_selection import train_test_split, GridSearchCV\n",
        "from sklearn.compose import make_column_selector, make_column_transformer\n",
        "from sklearn.preprocessing import OneHotEncoder, StandardScaler\n",
        "from sklearn.metrics import ConfusionMatrixDisplay\n",
        "from sklearn.dummy import DummyClassifier\n",
        "\n",
        "from scikeras.wrappers import KerasClassifier, KerasRegressor\n",
        "\n",
        "from tensorflow.keras.utils import to_categorical\n",
        "from tensorflow.keras.models import Sequential\n",
        "from tensorflow.keras.layers import Dense, Dropout\n",
        "from tensorflow.keras.callbacks import EarlyStopping"
      ]
    },
    {
      "cell_type": "markdown",
      "metadata": {
        "id": "vc47bFaS9NCP"
      },
      "source": [
        "## Import Data"
      ]
    },
    {
      "cell_type": "code",
      "execution_count": 2,
      "metadata": {
        "colab": {
          "base_uri": "https://localhost:8080/",
          "height": 280
        },
        "id": "REzjgP-V85RA",
        "outputId": "df92a3a7-21f6-41b3-9ebd-a20ba0694b9a"
      },
      "outputs": [
        {
          "data": {
            "text/html": [
              "<div>\n",
              "<style scoped>\n",
              "    .dataframe tbody tr th:only-of-type {\n",
              "        vertical-align: middle;\n",
              "    }\n",
              "\n",
              "    .dataframe tbody tr th {\n",
              "        vertical-align: top;\n",
              "    }\n",
              "\n",
              "    .dataframe thead th {\n",
              "        text-align: right;\n",
              "    }\n",
              "</style>\n",
              "<table border=\"1\" class=\"dataframe\">\n",
              "  <thead>\n",
              "    <tr style=\"text-align: right;\">\n",
              "      <th></th>\n",
              "      <th>MonthOccurrence</th>\n",
              "      <th>TotalNumberOfVictims</th>\n",
              "      <th>TotalNumberOfIndividualVictims</th>\n",
              "      <th>SuspectsRaceAsAGroup</th>\n",
              "      <th>TotalNumberOfSuspects</th>\n",
              "      <th>MostSeriousUcr</th>\n",
              "      <th>MostSeriousUcrType</th>\n",
              "      <th>MostSeriousLocation</th>\n",
              "      <th>MostSeriousBias</th>\n",
              "      <th>MostSeriousBiasType</th>\n",
              "      <th>...</th>\n",
              "      <th>pct_Asian</th>\n",
              "      <th>pct_AAPI</th>\n",
              "      <th>pct_Black</th>\n",
              "      <th>pct_Hispanic</th>\n",
              "      <th>pct_Multi-Racial/Ethnic</th>\n",
              "      <th>pct_Hawaiian/ Pacific Island</th>\n",
              "      <th>pct_White</th>\n",
              "      <th>pct_unemployed_2018</th>\n",
              "      <th>pct_u18_poverty_2017</th>\n",
              "      <th>median_hh_income_2017</th>\n",
              "    </tr>\n",
              "  </thead>\n",
              "  <tbody>\n",
              "    <tr>\n",
              "      <th>0</th>\n",
              "      <td>2</td>\n",
              "      <td>1</td>\n",
              "      <td>1</td>\n",
              "      <td>White</td>\n",
              "      <td>2</td>\n",
              "      <td>Simple Assault</td>\n",
              "      <td>Violent Crimes</td>\n",
              "      <td>Bar/Night Club</td>\n",
              "      <td>Anti-Black or African American</td>\n",
              "      <td>Race/Ethnicity/Ancestry</td>\n",
              "      <td>...</td>\n",
              "      <td>0.265963</td>\n",
              "      <td>0.27413</td>\n",
              "      <td>0.115603</td>\n",
              "      <td>0.234718</td>\n",
              "      <td>0.041847</td>\n",
              "      <td>0.008167</td>\n",
              "      <td>0.337067</td>\n",
              "      <td>0.03</td>\n",
              "      <td>0.105</td>\n",
              "      <td>95550.0</td>\n",
              "    </tr>\n",
              "    <tr>\n",
              "      <th>1</th>\n",
              "      <td>2</td>\n",
              "      <td>2</td>\n",
              "      <td>2</td>\n",
              "      <td>White</td>\n",
              "      <td>1</td>\n",
              "      <td>Destruction/Damage/Vandalism</td>\n",
              "      <td>Property Crimes</td>\n",
              "      <td>Residence/Home/Driveway</td>\n",
              "      <td>Anti-Black or African American</td>\n",
              "      <td>Race/Ethnicity/Ancestry</td>\n",
              "      <td>...</td>\n",
              "      <td>0.265963</td>\n",
              "      <td>0.27413</td>\n",
              "      <td>0.115603</td>\n",
              "      <td>0.234718</td>\n",
              "      <td>0.041847</td>\n",
              "      <td>0.008167</td>\n",
              "      <td>0.337067</td>\n",
              "      <td>0.03</td>\n",
              "      <td>0.105</td>\n",
              "      <td>95550.0</td>\n",
              "    </tr>\n",
              "  </tbody>\n",
              "</table>\n",
              "<p>2 rows × 25 columns</p>\n",
              "</div>"
            ],
            "text/plain": [
              "   MonthOccurrence  TotalNumberOfVictims  TotalNumberOfIndividualVictims  \\\n",
              "0                2                     1                               1   \n",
              "1                2                     2                               2   \n",
              "\n",
              "  SuspectsRaceAsAGroup  TotalNumberOfSuspects                MostSeriousUcr  \\\n",
              "0                White                      2                Simple Assault   \n",
              "1                White                      1  Destruction/Damage/Vandalism   \n",
              "\n",
              "  MostSeriousUcrType      MostSeriousLocation                 MostSeriousBias  \\\n",
              "0     Violent Crimes           Bar/Night Club  Anti-Black or African American   \n",
              "1    Property Crimes  Residence/Home/Driveway  Anti-Black or African American   \n",
              "\n",
              "       MostSeriousBiasType  ... pct_Asian pct_AAPI pct_Black  pct_Hispanic  \\\n",
              "0  Race/Ethnicity/Ancestry  ...  0.265963  0.27413  0.115603      0.234718   \n",
              "1  Race/Ethnicity/Ancestry  ...  0.265963  0.27413  0.115603      0.234718   \n",
              "\n",
              "   pct_Multi-Racial/Ethnic  pct_Hawaiian/ Pacific Island  pct_White  \\\n",
              "0                 0.041847                      0.008167   0.337067   \n",
              "1                 0.041847                      0.008167   0.337067   \n",
              "\n",
              "   pct_unemployed_2018  pct_u18_poverty_2017  median_hh_income_2017  \n",
              "0                 0.03                 0.105                95550.0  \n",
              "1                 0.03                 0.105                95550.0  \n",
              "\n",
              "[2 rows x 25 columns]"
            ]
          },
          "execution_count": 2,
          "metadata": {},
          "output_type": "execute_result"
        }
      ],
      "source": [
        "classification_data = pd.read_csv('./demographics-data/classification_data_demographics.csv')\n",
        "classification_data.head(2)"
      ]
    },
    {
      "cell_type": "markdown",
      "metadata": {
        "id": "jGDjEfoO9nLc"
      },
      "source": [
        "## Transform and Scale Data"
      ]
    },
    {
      "cell_type": "markdown",
      "metadata": {
        "id": "OuekfbQeTlML"
      },
      "source": [
        "### Column Transformer"
      ]
    },
    {
      "cell_type": "code",
      "execution_count": 3,
      "metadata": {
        "id": "3JIoYlSt9amO"
      },
      "outputs": [],
      "source": [
        "X = classification_data.drop(columns=['labels'])\n",
        "ct = make_column_transformer(\n",
        "    (OneHotEncoder(sparse=False, handle_unknown='ignore'), make_column_selector(dtype_include=object)),\n",
        "    remainder='passthrough',\n",
        "    verbose_feature_names_out=False\n",
        ")\n",
        "X_encoded = ct.fit_transform(X)\n",
        "X_encoded\n",
        "ct.get_feature_names_out()\n",
        "X_encoded = pd.DataFrame(X_encoded, columns=ct.get_feature_names_out())"
      ]
    },
    {
      "cell_type": "code",
      "execution_count": 4,
      "metadata": {
        "colab": {
          "base_uri": "https://localhost:8080/",
          "height": 258
        },
        "id": "mkd7Z4_gTH2l",
        "outputId": "7058f902-c328-4328-f4f1-efd11f4c44fe"
      },
      "outputs": [
        {
          "data": {
            "text/html": [
              "<div>\n",
              "<style scoped>\n",
              "    .dataframe tbody tr th:only-of-type {\n",
              "        vertical-align: middle;\n",
              "    }\n",
              "\n",
              "    .dataframe tbody tr th {\n",
              "        vertical-align: top;\n",
              "    }\n",
              "\n",
              "    .dataframe thead th {\n",
              "        text-align: right;\n",
              "    }\n",
              "</style>\n",
              "<table border=\"1\" class=\"dataframe\">\n",
              "  <thead>\n",
              "    <tr style=\"text-align: right;\">\n",
              "      <th></th>\n",
              "      <th>SuspectsRaceAsAGroup_American Indian or Alaska Native</th>\n",
              "      <th>SuspectsRaceAsAGroup_Asian</th>\n",
              "      <th>SuspectsRaceAsAGroup_Asian/Pacific Islander</th>\n",
              "      <th>SuspectsRaceAsAGroup_Black or African American</th>\n",
              "      <th>SuspectsRaceAsAGroup_East Indian</th>\n",
              "      <th>SuspectsRaceAsAGroup_East Indian/Asian Indian</th>\n",
              "      <th>SuspectsRaceAsAGroup_Group of Multiple Races</th>\n",
              "      <th>SuspectsRaceAsAGroup_Hispanic</th>\n",
              "      <th>SuspectsRaceAsAGroup_Native Hawaiian or Other Pacific Islander</th>\n",
              "      <th>SuspectsRaceAsAGroup_Unknown</th>\n",
              "      <th>...</th>\n",
              "      <th>pct_Asian</th>\n",
              "      <th>pct_AAPI</th>\n",
              "      <th>pct_Black</th>\n",
              "      <th>pct_Hispanic</th>\n",
              "      <th>pct_Multi-Racial/Ethnic</th>\n",
              "      <th>pct_Hawaiian/ Pacific Island</th>\n",
              "      <th>pct_White</th>\n",
              "      <th>pct_unemployed_2018</th>\n",
              "      <th>pct_u18_poverty_2017</th>\n",
              "      <th>median_hh_income_2017</th>\n",
              "    </tr>\n",
              "  </thead>\n",
              "  <tbody>\n",
              "    <tr>\n",
              "      <th>0</th>\n",
              "      <td>0.0</td>\n",
              "      <td>0.0</td>\n",
              "      <td>0.0</td>\n",
              "      <td>0.0</td>\n",
              "      <td>0.0</td>\n",
              "      <td>0.0</td>\n",
              "      <td>0.0</td>\n",
              "      <td>0.0</td>\n",
              "      <td>0.0</td>\n",
              "      <td>0.0</td>\n",
              "      <td>...</td>\n",
              "      <td>0.265963</td>\n",
              "      <td>0.27413</td>\n",
              "      <td>0.115603</td>\n",
              "      <td>0.234718</td>\n",
              "      <td>0.041847</td>\n",
              "      <td>0.008167</td>\n",
              "      <td>0.337067</td>\n",
              "      <td>0.03</td>\n",
              "      <td>0.105</td>\n",
              "      <td>95550.0</td>\n",
              "    </tr>\n",
              "    <tr>\n",
              "      <th>1</th>\n",
              "      <td>0.0</td>\n",
              "      <td>0.0</td>\n",
              "      <td>0.0</td>\n",
              "      <td>0.0</td>\n",
              "      <td>0.0</td>\n",
              "      <td>0.0</td>\n",
              "      <td>0.0</td>\n",
              "      <td>0.0</td>\n",
              "      <td>0.0</td>\n",
              "      <td>0.0</td>\n",
              "      <td>...</td>\n",
              "      <td>0.265963</td>\n",
              "      <td>0.27413</td>\n",
              "      <td>0.115603</td>\n",
              "      <td>0.234718</td>\n",
              "      <td>0.041847</td>\n",
              "      <td>0.008167</td>\n",
              "      <td>0.337067</td>\n",
              "      <td>0.03</td>\n",
              "      <td>0.105</td>\n",
              "      <td>95550.0</td>\n",
              "    </tr>\n",
              "  </tbody>\n",
              "</table>\n",
              "<p>2 rows × 161 columns</p>\n",
              "</div>"
            ],
            "text/plain": [
              "   SuspectsRaceAsAGroup_American Indian or Alaska Native  \\\n",
              "0                                                0.0       \n",
              "1                                                0.0       \n",
              "\n",
              "   SuspectsRaceAsAGroup_Asian  SuspectsRaceAsAGroup_Asian/Pacific Islander  \\\n",
              "0                         0.0                                          0.0   \n",
              "1                         0.0                                          0.0   \n",
              "\n",
              "   SuspectsRaceAsAGroup_Black or African American  \\\n",
              "0                                             0.0   \n",
              "1                                             0.0   \n",
              "\n",
              "   SuspectsRaceAsAGroup_East Indian  \\\n",
              "0                               0.0   \n",
              "1                               0.0   \n",
              "\n",
              "   SuspectsRaceAsAGroup_East Indian/Asian Indian  \\\n",
              "0                                            0.0   \n",
              "1                                            0.0   \n",
              "\n",
              "   SuspectsRaceAsAGroup_Group of Multiple Races  \\\n",
              "0                                           0.0   \n",
              "1                                           0.0   \n",
              "\n",
              "   SuspectsRaceAsAGroup_Hispanic  \\\n",
              "0                            0.0   \n",
              "1                            0.0   \n",
              "\n",
              "   SuspectsRaceAsAGroup_Native Hawaiian or Other Pacific Islander  \\\n",
              "0                                                0.0                \n",
              "1                                                0.0                \n",
              "\n",
              "   SuspectsRaceAsAGroup_Unknown  ...  pct_Asian  pct_AAPI  pct_Black  \\\n",
              "0                           0.0  ...   0.265963   0.27413   0.115603   \n",
              "1                           0.0  ...   0.265963   0.27413   0.115603   \n",
              "\n",
              "   pct_Hispanic  pct_Multi-Racial/Ethnic  pct_Hawaiian/ Pacific Island  \\\n",
              "0      0.234718                 0.041847                      0.008167   \n",
              "1      0.234718                 0.041847                      0.008167   \n",
              "\n",
              "   pct_White  pct_unemployed_2018  pct_u18_poverty_2017  median_hh_income_2017  \n",
              "0   0.337067                 0.03                 0.105                95550.0  \n",
              "1   0.337067                 0.03                 0.105                95550.0  \n",
              "\n",
              "[2 rows x 161 columns]"
            ]
          },
          "execution_count": 4,
          "metadata": {},
          "output_type": "execute_result"
        }
      ],
      "source": [
        "X_encoded.head(2)"
      ]
    },
    {
      "cell_type": "markdown",
      "metadata": {
        "id": "KJA6rgCuTo64"
      },
      "source": [
        "### Scaling"
      ]
    },
    {
      "cell_type": "code",
      "execution_count": 5,
      "metadata": {
        "id": "ivqn1958TJd2"
      },
      "outputs": [],
      "source": [
        "X_encoded_scaled = StandardScaler().fit_transform(X_encoded)"
      ]
    },
    {
      "cell_type": "markdown",
      "metadata": {
        "id": "jVqpjXlNUX2f"
      },
      "source": [
        "## Target"
      ]
    },
    {
      "cell_type": "code",
      "execution_count": 6,
      "metadata": {
        "id": "eBh1nMJ9Ua2T"
      },
      "outputs": [],
      "source": [
        "y = classification_data['labels']"
      ]
    },
    {
      "cell_type": "code",
      "execution_count": 7,
      "metadata": {
        "colab": {
          "base_uri": "https://localhost:8080/"
        },
        "id": "R5TFxO0cYTxk",
        "outputId": "acff6032-03b5-4970-b8a2-9c928c9b5c0d"
      },
      "outputs": [
        {
          "data": {
            "text/plain": [
              "array([1, 0, 2])"
            ]
          },
          "execution_count": 7,
          "metadata": {},
          "output_type": "execute_result"
        }
      ],
      "source": [
        "y.unique()"
      ]
    },
    {
      "cell_type": "code",
      "execution_count": 8,
      "metadata": {
        "id": "Ewj1XDV-YJ2S"
      },
      "outputs": [],
      "source": [
        "y_categorical = to_categorical(y, 3)"
      ]
    },
    {
      "cell_type": "markdown",
      "metadata": {
        "id": "BCeD7nW6bF4s"
      },
      "source": [
        "## Baseline"
      ]
    },
    {
      "cell_type": "code",
      "execution_count": 9,
      "metadata": {
        "colab": {
          "base_uri": "https://localhost:8080/"
        },
        "id": "HleWp1KtbOao",
        "outputId": "638af655-edcf-44da-9961-ba3464f9e16b"
      },
      "outputs": [
        {
          "data": {
            "text/plain": [
              "1    0.728433\n",
              "0    0.168726\n",
              "2    0.102840\n",
              "Name: labels, dtype: float64"
            ]
          },
          "execution_count": 9,
          "metadata": {},
          "output_type": "execute_result"
        }
      ],
      "source": [
        "y.value_counts(normalize=True)"
      ]
    },
    {
      "cell_type": "markdown",
      "metadata": {
        "id": "MnZEgg95UMBq"
      },
      "source": [
        "## Test/Train Split"
      ]
    },
    {
      "cell_type": "code",
      "execution_count": 10,
      "metadata": {
        "id": "ttHqcjDQUIGM"
      },
      "outputs": [],
      "source": [
        "X_train, X_test, y_train, y_test = train_test_split(X_encoded_scaled, y_categorical, stratify=y, random_state=13)"
      ]
    },
    {
      "cell_type": "code",
      "execution_count": 11,
      "metadata": {
        "colab": {
          "base_uri": "https://localhost:8080/"
        },
        "id": "Q-dykybCWnEC",
        "outputId": "1f0af595-5d57-45fd-efbc-d271b080aea0"
      },
      "outputs": [
        {
          "data": {
            "text/plain": [
              "(18327, 161)"
            ]
          },
          "execution_count": 11,
          "metadata": {},
          "output_type": "execute_result"
        }
      ],
      "source": [
        "X_train.shape"
      ]
    },
    {
      "cell_type": "code",
      "execution_count": 12,
      "metadata": {
        "colab": {
          "base_uri": "https://localhost:8080/"
        },
        "id": "nUP9lJLNXN6P",
        "outputId": "e764d18f-c884-4dc0-8eaf-a40219b22426"
      },
      "outputs": [
        {
          "data": {
            "text/plain": [
              "(18327, 3)"
            ]
          },
          "execution_count": 12,
          "metadata": {},
          "output_type": "execute_result"
        }
      ],
      "source": [
        "y_train.shape"
      ]
    },
    {
      "cell_type": "markdown",
      "metadata": {
        "id": "v_smC88k44XY"
      },
      "source": [
        "## Neural Network Classification with Grid Searching\n",
        "\n",
        "**Only run this in Colab**\n",
        "\n",
        "With help from Lab 7.01"
      ]
    },
    {
      "cell_type": "code",
      "execution_count": 13,
      "metadata": {
        "id": "jidqOlcbNlnb"
      },
      "outputs": [],
      "source": [
        "# Got input shape error in grid search. Using this from lesson with Chuck given: \"Model <keras.engine.sequential.Sequential object at 0x7fdf22f98410> cannot be saved because the input shapes have not been set. Usually, input shapes are automatically determined when calling `.fit()` or `.predict()`. To manually set the shapes, call `model.build(input_shape)\"\n",
        "n_input = X_train.shape[1]"
      ]
    },
    {
      "cell_type": "code",
      "execution_count": 14,
      "metadata": {
        "id": "HGMzqDwKJlQn"
      },
      "outputs": [],
      "source": [
        "# Create model function. Required by KerasClassifier\n",
        "def create_model(dropout_rate, neurons):\n",
        "  model = Sequential()\n",
        "  model.add(Dense(neurons, input_dim=n_input, activation='relu'))\n",
        "  model.add(Dropout(dropout_rate))\n",
        "  model.add(Dense(3, activation='softmax'))\n",
        "  # Model compile\n",
        "  model.compile(\n",
        "    optimizer='adam',\n",
        "    loss='categorical_crossentropy',\n",
        "    metrics=['accuracy']\n",
        "  )\n",
        "  return model\n"
      ]
    },
    {
      "cell_type": "code",
      "execution_count": 15,
      "metadata": {
        "id": "xslI3cS8V1Np"
      },
      "outputs": [],
      "source": [
        "# Create/Instantiate? model.\n",
        "model = KerasClassifier(model=create_model, verbose=1)\n"
      ]
    },
    {
      "cell_type": "code",
      "execution_count": null,
      "metadata": {
        "colab": {
          "base_uri": "https://localhost:8080/"
        },
        "id": "kVBZ0lTLV3KC",
        "outputId": "eb80b293-6e99-4d13-b07e-f3b54362894e"
      },
      "outputs": [
        {
          "name": "stderr",
          "output_type": "stream",
          "text": [
            "/usr/local/lib/python3.7/dist-packages/joblib/externals/loky/process_executor.py:705: UserWarning: A worker stopped while some jobs were given to the executor. This can be caused by a too short worker timeout or by a memory leak.\n",
            "  \"timeout or by a memory leak.\", UserWarning\n"
          ]
        },
        {
          "name": "stdout",
          "output_type": "stream",
          "text": [
            "Epoch 1/100\n",
            "573/573 [==============================] - 3s 3ms/step - loss: 0.6653 - accuracy: 0.7553\n",
            "Epoch 2/100\n",
            "573/573 [==============================] - 2s 3ms/step - loss: 0.4233 - accuracy: 0.8411\n",
            "Epoch 3/100\n",
            "573/573 [==============================] - 2s 3ms/step - loss: 0.3554 - accuracy: 0.8682\n",
            "Epoch 4/100\n",
            "573/573 [==============================] - 2s 3ms/step - loss: 0.2990 - accuracy: 0.8894\n",
            "Epoch 5/100\n",
            "573/573 [==============================] - 2s 3ms/step - loss: 0.2678 - accuracy: 0.9035\n",
            "Epoch 6/100\n",
            "573/573 [==============================] - 2s 3ms/step - loss: 0.2332 - accuracy: 0.9173\n",
            "Epoch 7/100\n",
            "573/573 [==============================] - 2s 3ms/step - loss: 0.2126 - accuracy: 0.9271\n",
            "Epoch 8/100\n",
            "573/573 [==============================] - 2s 3ms/step - loss: 0.1866 - accuracy: 0.9380\n",
            "Epoch 9/100\n",
            "573/573 [==============================] - 2s 3ms/step - loss: 0.1738 - accuracy: 0.9431\n",
            "Epoch 10/100\n",
            "573/573 [==============================] - 2s 3ms/step - loss: 0.1608 - accuracy: 0.9458\n",
            "Epoch 11/100\n",
            "573/573 [==============================] - 2s 3ms/step - loss: 0.1490 - accuracy: 0.9518\n",
            "Epoch 12/100\n",
            "573/573 [==============================] - 2s 3ms/step - loss: 0.1337 - accuracy: 0.9545\n",
            "Epoch 13/100\n",
            "573/573 [==============================] - 2s 4ms/step - loss: 0.1274 - accuracy: 0.9583\n",
            "Epoch 14/100\n",
            "573/573 [==============================] - 2s 3ms/step - loss: 0.1244 - accuracy: 0.9580\n",
            "Epoch 15/100\n",
            "573/573 [==============================] - 2s 3ms/step - loss: 0.1211 - accuracy: 0.9603\n",
            "Epoch 16/100\n",
            "573/573 [==============================] - 2s 3ms/step - loss: 0.1177 - accuracy: 0.9625\n",
            "Epoch 17/100\n",
            "573/573 [==============================] - 2s 3ms/step - loss: 0.1075 - accuracy: 0.9644\n",
            "Epoch 18/100\n",
            "573/573 [==============================] - 2s 3ms/step - loss: 0.1034 - accuracy: 0.9655\n",
            "Epoch 19/100\n",
            "573/573 [==============================] - 2s 3ms/step - loss: 0.1012 - accuracy: 0.9663\n",
            "Epoch 20/100\n",
            "573/573 [==============================] - 2s 3ms/step - loss: 0.1013 - accuracy: 0.9666\n",
            "Epoch 21/100\n",
            "573/573 [==============================] - 2s 3ms/step - loss: 0.0925 - accuracy: 0.9688\n",
            "Epoch 22/100\n",
            "573/573 [==============================] - 2s 3ms/step - loss: 0.0914 - accuracy: 0.9700\n",
            "Epoch 23/100\n",
            "573/573 [==============================] - 2s 3ms/step - loss: 0.0884 - accuracy: 0.9714\n",
            "Epoch 24/100\n",
            "573/573 [==============================] - 2s 3ms/step - loss: 0.0815 - accuracy: 0.9739\n",
            "Epoch 25/100\n",
            "573/573 [==============================] - 2s 3ms/step - loss: 0.0865 - accuracy: 0.9724\n",
            "Epoch 26/100\n",
            "573/573 [==============================] - 2s 3ms/step - loss: 0.0798 - accuracy: 0.9730\n",
            "Epoch 27/100\n",
            "573/573 [==============================] - 2s 3ms/step - loss: 0.0832 - accuracy: 0.9733\n",
            "Epoch 28/100\n",
            "573/573 [==============================] - 2s 3ms/step - loss: 0.0815 - accuracy: 0.9737\n",
            "Epoch 29/100\n",
            "573/573 [==============================] - 2s 3ms/step - loss: 0.0784 - accuracy: 0.9744\n",
            "Epoch 30/100\n",
            "573/573 [==============================] - 2s 3ms/step - loss: 0.0743 - accuracy: 0.9765\n",
            "Epoch 31/100\n",
            "573/573 [==============================] - 2s 3ms/step - loss: 0.0724 - accuracy: 0.9764\n",
            "Epoch 32/100\n",
            "573/573 [==============================] - 2s 3ms/step - loss: 0.0760 - accuracy: 0.9759\n",
            "Epoch 33/100\n",
            "573/573 [==============================] - 2s 4ms/step - loss: 0.0720 - accuracy: 0.9768\n",
            "Epoch 34/100\n",
            "573/573 [==============================] - 2s 3ms/step - loss: 0.0676 - accuracy: 0.9772\n",
            "Epoch 35/100\n",
            "573/573 [==============================] - 2s 4ms/step - loss: 0.0703 - accuracy: 0.9771\n",
            "Epoch 36/100\n",
            "573/573 [==============================] - 2s 3ms/step - loss: 0.0704 - accuracy: 0.9761\n",
            "Epoch 37/100\n",
            "573/573 [==============================] - 2s 3ms/step - loss: 0.0661 - accuracy: 0.9780\n",
            "Epoch 38/100\n",
            "573/573 [==============================] - 2s 3ms/step - loss: 0.0678 - accuracy: 0.9771\n",
            "Epoch 39/100\n",
            "573/573 [==============================] - 2s 3ms/step - loss: 0.0636 - accuracy: 0.9789\n",
            "Epoch 40/100\n",
            "573/573 [==============================] - 2s 4ms/step - loss: 0.0626 - accuracy: 0.9786\n",
            "Epoch 41/100\n",
            "573/573 [==============================] - 2s 3ms/step - loss: 0.0644 - accuracy: 0.9782\n",
            "Epoch 42/100\n",
            "573/573 [==============================] - 2s 3ms/step - loss: 0.0647 - accuracy: 0.9769\n",
            "Epoch 43/100\n",
            "573/573 [==============================] - 2s 3ms/step - loss: 0.0607 - accuracy: 0.9789\n",
            "Epoch 44/100\n",
            "573/573 [==============================] - 2s 3ms/step - loss: 0.0621 - accuracy: 0.9781\n",
            "Epoch 45/100\n",
            "573/573 [==============================] - 2s 3ms/step - loss: 0.0664 - accuracy: 0.9784\n",
            "Epoch 46/100\n",
            "573/573 [==============================] - 2s 3ms/step - loss: 0.0594 - accuracy: 0.9797\n",
            "Epoch 47/100\n",
            "573/573 [==============================] - 2s 3ms/step - loss: 0.0608 - accuracy: 0.9780\n",
            "Epoch 48/100\n",
            "573/573 [==============================] - 2s 3ms/step - loss: 0.0614 - accuracy: 0.9778\n",
            "Epoch 49/100\n",
            "573/573 [==============================] - 2s 3ms/step - loss: 0.0581 - accuracy: 0.9793\n",
            "Epoch 50/100\n",
            "573/573 [==============================] - 2s 3ms/step - loss: 0.0643 - accuracy: 0.9782\n",
            "Epoch 51/100\n",
            "573/573 [==============================] - 2s 3ms/step - loss: 0.0667 - accuracy: 0.9774\n",
            "Epoch 52/100\n",
            "573/573 [==============================] - 2s 3ms/step - loss: 0.0600 - accuracy: 0.9800\n",
            "Best score: 0.9773559771626591. Used these parameters: {'batch_size': 32, 'callbacks': <keras.callbacks.EarlyStopping object at 0x7fa9fde58950>, 'epochs': 100, 'model__dropout_rate': 0.5, 'model__neurons': 50}\n",
            "0.974683 (0.004067) with: {'batch_size': 32, 'callbacks': <keras.callbacks.EarlyStopping object at 0x7fa9fde58950>, 'epochs': 100, 'model__dropout_rate': 0.5, 'model__neurons': 20}\n",
            "0.975119 (0.002619) with: {'batch_size': 32, 'callbacks': <keras.callbacks.EarlyStopping object at 0x7fa9fde58950>, 'epochs': 100, 'model__dropout_rate': 0.5, 'model__neurons': 30}\n",
            "0.977356 (0.001927) with: {'batch_size': 32, 'callbacks': <keras.callbacks.EarlyStopping object at 0x7fa9fde58950>, 'epochs': 100, 'model__dropout_rate': 0.5, 'model__neurons': 50}\n",
            "0.904242 (0.018075) with: {'batch_size': 32, 'callbacks': <keras.callbacks.EarlyStopping object at 0x7fa9fde58950>, 'epochs': 100, 'model__dropout_rate': 0.75, 'model__neurons': 20}\n",
            "0.941126 (0.009968) with: {'batch_size': 32, 'callbacks': <keras.callbacks.EarlyStopping object at 0x7fa9fde58950>, 'epochs': 100, 'model__dropout_rate': 0.75, 'model__neurons': 30}\n",
            "0.968189 (0.004972) with: {'batch_size': 32, 'callbacks': <keras.callbacks.EarlyStopping object at 0x7fa9fde58950>, 'epochs': 100, 'model__dropout_rate': 0.75, 'model__neurons': 50}\n",
            "0.837507 (0.007178) with: {'batch_size': 32, 'callbacks': <keras.callbacks.EarlyStopping object at 0x7fa9fde58950>, 'epochs': 100, 'model__dropout_rate': 0.9, 'model__neurons': 20}\n",
            "0.842145 (0.006232) with: {'batch_size': 32, 'callbacks': <keras.callbacks.EarlyStopping object at 0x7fa9fde58950>, 'epochs': 100, 'model__dropout_rate': 0.9, 'model__neurons': 30}\n",
            "0.871719 (0.007593) with: {'batch_size': 32, 'callbacks': <keras.callbacks.EarlyStopping object at 0x7fa9fde58950>, 'epochs': 100, 'model__dropout_rate': 0.9, 'model__neurons': 50}\n"
          ]
        }
      ],
      "source": [
        "# Define grid search parameters. I'm using the same from my tutorial to start it off.\n",
        "params= {\n",
        "    'batch_size': [32],\n",
        "    'epochs': [100],\n",
        "    'callbacks': [EarlyStopping(monitor='loss', patience=3)],\n",
        "    'model__dropout_rate': [.5, .75, .9],\n",
        "    'model__neurons': [20, 30, 50]\n",
        "}\n",
        "# Grid Search\n",
        "gs = GridSearchCV(\n",
        "    estimator=model,\n",
        "    param_grid=params,\n",
        "    n_jobs=-1,\n",
        ")\n",
        "gs_result = gs.fit(X_train, y_train)\n",
        "\n",
        "# Result summary\n",
        "print(f\"Best score: {gs_result.best_score_}. Used these parameters: {gs_result.best_params_}\")\n",
        "\n",
        "# This part copied from machine learning mastery prints out all results to check where improvements can be made\n",
        "means = gs_result.cv_results_['mean_test_score']\n",
        "stds = gs_result.cv_results_['std_test_score']\n",
        "params = gs_result.cv_results_['params']\n",
        "for mean, stdev, param in zip(means, stds, params):\n",
        "    print(\"%f (%f) with: %r\" % (mean, stdev, param))"
      ]
    },
    {
      "cell_type": "markdown",
      "metadata": {
        "id": "6mb4B1ROGU4Z"
      },
      "source": [
        "### Evaluate Model"
      ]
    },
    {
      "cell_type": "code",
      "execution_count": null,
      "metadata": {
        "colab": {
          "base_uri": "https://localhost:8080/"
        },
        "id": "oRYUQuBVWYoJ",
        "outputId": "713fd5db-eb93-4280-8552-d6c7601853c4"
      },
      "outputs": [
        {
          "name": "stdout",
          "output_type": "stream",
          "text": [
            "191/191 [==============================] - 1s 3ms/step - loss: 0.0891 - accuracy: 0.9820\n"
          ]
        },
        {
          "data": {
            "text/plain": [
              "[0.08910281211137772, 0.9819937944412231]"
            ]
          },
          "execution_count": 18,
          "metadata": {},
          "output_type": "execute_result"
        }
      ],
      "source": [
        "gs_result.best_estimator_.model_.evaluate(X_test, y_test)"
      ]
    }
  ],
  "metadata": {
    "accelerator": "GPU",
    "colab": {
      "name": "4-project-models.ipynb",
      "provenance": []
    },
    "kernelspec": {
      "display_name": "Python 3",
      "name": "python3"
    },
    "language_info": {
      "codemirror_mode": {
        "name": "ipython",
        "version": 3
      },
      "file_extension": ".py",
      "mimetype": "text/x-python",
      "name": "python",
      "nbconvert_exporter": "python",
      "pygments_lexer": "ipython3",
      "version": "3.9.7"
    }
  },
  "nbformat": 4,
  "nbformat_minor": 0
}
