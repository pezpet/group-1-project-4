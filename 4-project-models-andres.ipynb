{
  "cells": [
    {
      "cell_type": "markdown",
      "metadata": {
        "id": "Xh92LKxe9tvG"
      },
      "source": [
        "# Project 4 Models - Andres\n"
      ]
    },
    {
      "cell_type": "markdown",
      "metadata": {
        "id": "5B5VRzPU9HFa"
      },
      "source": [
        "## Imports"
      ]
    },
    {
      "cell_type": "code",
      "execution_count": 2,
      "metadata": {
        "id": "O6t4GbqR7c6L"
      },
      "outputs": [],
      "source": [
        "# !pip install scikeras\n",
        "\n",
        "import pandas as pd\n",
        "import numpy as np\n",
        "import matplotlib.pyplot as plt\n",
        "import tensorflow as tf\n",
        "\n",
        "from sklearn.model_selection import train_test_split, GridSearchCV\n",
        "from sklearn.compose import make_column_selector, make_column_transformer\n",
        "from sklearn.preprocessing import OneHotEncoder, StandardScaler\n",
        "from sklearn.metrics import ConfusionMatrixDisplay\n",
        "from sklearn.dummy import DummyClassifier\n",
        "\n",
        "from scikeras.wrappers import KerasClassifier\n",
        "\n",
        "from tensorflow.keras.utils import to_categorical\n",
        "from tensorflow.keras.models import Sequential\n",
        "from tensorflow.keras.layers import Dense, Dropout\n",
        "from tensorflow.keras.callbacks import EarlyStopping"
      ]
    },
    {
      "cell_type": "markdown",
      "metadata": {
        "id": "vc47bFaS9NCP"
      },
      "source": [
        "## Import Data"
      ]
    },
    {
      "cell_type": "code",
      "execution_count": 3,
      "metadata": {
        "colab": {
          "base_uri": "https://localhost:8080/",
          "height": 246
        },
        "id": "REzjgP-V85RA",
        "outputId": "560d1d5c-2d5f-4ba3-cae5-dac5df5a7dab"
      },
      "outputs": [
        {
          "data": {
            "text/html": [
              "<div>\n",
              "<style scoped>\n",
              "    .dataframe tbody tr th:only-of-type {\n",
              "        vertical-align: middle;\n",
              "    }\n",
              "\n",
              "    .dataframe tbody tr th {\n",
              "        vertical-align: top;\n",
              "    }\n",
              "\n",
              "    .dataframe thead th {\n",
              "        text-align: right;\n",
              "    }\n",
              "</style>\n",
              "<table border=\"1\" class=\"dataframe\">\n",
              "  <thead>\n",
              "    <tr style=\"text-align: right;\">\n",
              "      <th></th>\n",
              "      <th>RecordId</th>\n",
              "      <th>ClosedYear</th>\n",
              "      <th>MonthOccurrence</th>\n",
              "      <th>County</th>\n",
              "      <th>NCIC</th>\n",
              "      <th>TotalNumberOfVictims</th>\n",
              "      <th>TotalNumberOfIndividualVictims</th>\n",
              "      <th>SuspectsRaceAsAGroup</th>\n",
              "      <th>TotalNumberOfSuspects</th>\n",
              "      <th>MostSeriousUcr</th>\n",
              "      <th>MostSeriousUcrType</th>\n",
              "      <th>MostSeriousLocation</th>\n",
              "      <th>MostSeriousBias</th>\n",
              "      <th>MostSeriousBiasType</th>\n",
              "      <th>MostSeriousVictimType</th>\n",
              "      <th>WeaponType</th>\n",
              "      <th>Offensive_Act</th>\n",
              "      <th>label</th>\n",
              "    </tr>\n",
              "  </thead>\n",
              "  <tbody>\n",
              "    <tr>\n",
              "      <th>5411</th>\n",
              "      <td>CA00-0000015217</td>\n",
              "      <td>2004</td>\n",
              "      <td>2</td>\n",
              "      <td>Alameda</td>\n",
              "      <td>Alameda Co. Sheriff's Department</td>\n",
              "      <td>2</td>\n",
              "      <td>2</td>\n",
              "      <td>Unknown</td>\n",
              "      <td>0</td>\n",
              "      <td>Intimidation</td>\n",
              "      <td>Violent Crimes</td>\n",
              "      <td>Residence/Home/Driveway</td>\n",
              "      <td>Anti-Black or African American</td>\n",
              "      <td>Race/Ethnicity/Ancestry</td>\n",
              "      <td>Person</td>\n",
              "      <td>None</td>\n",
              "      <td>Daubing of swastika</td>\n",
              "      <td>4.0</td>\n",
              "    </tr>\n",
              "    <tr>\n",
              "      <th>5412</th>\n",
              "      <td>CA00-0000015122</td>\n",
              "      <td>2004</td>\n",
              "      <td>3</td>\n",
              "      <td>Alameda</td>\n",
              "      <td>Alameda</td>\n",
              "      <td>1</td>\n",
              "      <td>1</td>\n",
              "      <td>White</td>\n",
              "      <td>1</td>\n",
              "      <td>Destruction/Damage/Vandalism</td>\n",
              "      <td>Property Crimes</td>\n",
              "      <td>Residence/Home/Driveway</td>\n",
              "      <td>Anti-Asian</td>\n",
              "      <td>Race/Ethnicity/Ancestry</td>\n",
              "      <td>Person</td>\n",
              "      <td>None</td>\n",
              "      <td>Threatening letters/flyers/email</td>\n",
              "      <td>4.0</td>\n",
              "    </tr>\n",
              "  </tbody>\n",
              "</table>\n",
              "</div>"
            ],
            "text/plain": [
              "             RecordId  ClosedYear  MonthOccurrence   County  \\\n",
              "5411  CA00-0000015217        2004                2  Alameda   \n",
              "5412  CA00-0000015122        2004                3  Alameda   \n",
              "\n",
              "                                  NCIC  TotalNumberOfVictims  \\\n",
              "5411  Alameda Co. Sheriff's Department                     2   \n",
              "5412                           Alameda                     1   \n",
              "\n",
              "      TotalNumberOfIndividualVictims SuspectsRaceAsAGroup  \\\n",
              "5411                               2              Unknown   \n",
              "5412                               1                White   \n",
              "\n",
              "      TotalNumberOfSuspects                MostSeriousUcr MostSeriousUcrType  \\\n",
              "5411                      0                  Intimidation     Violent Crimes   \n",
              "5412                      1  Destruction/Damage/Vandalism    Property Crimes   \n",
              "\n",
              "          MostSeriousLocation                 MostSeriousBias  \\\n",
              "5411  Residence/Home/Driveway  Anti-Black or African American   \n",
              "5412  Residence/Home/Driveway                      Anti-Asian   \n",
              "\n",
              "          MostSeriousBiasType MostSeriousVictimType WeaponType  \\\n",
              "5411  Race/Ethnicity/Ancestry                Person       None   \n",
              "5412  Race/Ethnicity/Ancestry                Person       None   \n",
              "\n",
              "                         Offensive_Act label  \n",
              "5411               Daubing of swastika   4.0  \n",
              "5412  Threatening letters/flyers/email   4.0  "
            ]
          },
          "execution_count": 3,
          "metadata": {},
          "output_type": "execute_result"
        }
      ],
      "source": [
        "data = pd.read_csv('./cleaned_hatecrime.csv', index_col=0)\n",
        "data.head(2)"
      ]
    },
    {
      "cell_type": "markdown",
      "metadata": {
        "id": "jGDjEfoO9nLc"
      },
      "source": [
        "## Transform and Scale Data"
      ]
    },
    {
      "cell_type": "markdown",
      "metadata": {
        "id": "OuekfbQeTlML"
      },
      "source": [
        "### Column Transformer"
      ]
    },
    {
      "cell_type": "code",
      "execution_count": 5,
      "metadata": {
        "id": "3JIoYlSt9amO"
      },
      "outputs": [],
      "source": [
        "X = data.drop(columns=['RecordId', 'label'])\n",
        "ct = make_column_transformer(\n",
        "    (OneHotEncoder(sparse=False, handle_unknown='ignore'), make_column_selector(dtype_include=object)),\n",
        "    remainder='passthrough',\n",
        "    verbose_feature_names_out=False\n",
        ")\n",
        "X_encoded = ct.fit_transform(X)\n",
        "X_encoded\n",
        "ct.get_feature_names_out()\n",
        "X_encoded = pd.DataFrame(X_encoded, columns=ct.get_feature_names_out())"
      ]
    },
    {
      "cell_type": "code",
      "execution_count": 6,
      "metadata": {
        "colab": {
          "base_uri": "https://localhost:8080/",
          "height": 258
        },
        "id": "mkd7Z4_gTH2l",
        "outputId": "c3448403-dce3-4639-da97-566478bad7ab"
      },
      "outputs": [
        {
          "data": {
            "text/html": [
              "\n",
              "  <div id=\"df-1b311176-d7df-40b0-933d-8c82588dba93\">\n",
              "    <div class=\"colab-df-container\">\n",
              "      <div>\n",
              "<style scoped>\n",
              "    .dataframe tbody tr th:only-of-type {\n",
              "        vertical-align: middle;\n",
              "    }\n",
              "\n",
              "    .dataframe tbody tr th {\n",
              "        vertical-align: top;\n",
              "    }\n",
              "\n",
              "    .dataframe thead th {\n",
              "        text-align: right;\n",
              "    }\n",
              "</style>\n",
              "<table border=\"1\" class=\"dataframe\">\n",
              "  <thead>\n",
              "    <tr style=\"text-align: right;\">\n",
              "      <th></th>\n",
              "      <th>County_Alameda</th>\n",
              "      <th>County_Alpine</th>\n",
              "      <th>County_Amador</th>\n",
              "      <th>County_Butte</th>\n",
              "      <th>County_Calaveras</th>\n",
              "      <th>County_Colusa</th>\n",
              "      <th>County_Contra Costa</th>\n",
              "      <th>County_Del Norte</th>\n",
              "      <th>County_El Dorado</th>\n",
              "      <th>County_Fresno</th>\n",
              "      <th>County_Glenn</th>\n",
              "      <th>County_Humboldt</th>\n",
              "      <th>County_Imperial</th>\n",
              "      <th>County_Inyo</th>\n",
              "      <th>County_Kern</th>\n",
              "      <th>County_Kings</th>\n",
              "      <th>County_Lake</th>\n",
              "      <th>County_Lassen</th>\n",
              "      <th>County_Los Angeles</th>\n",
              "      <th>County_Madera</th>\n",
              "      <th>County_Marin</th>\n",
              "      <th>County_Mariposa</th>\n",
              "      <th>County_Mendocino</th>\n",
              "      <th>County_Merced</th>\n",
              "      <th>County_Mono</th>\n",
              "      <th>County_Monterey</th>\n",
              "      <th>County_Napa</th>\n",
              "      <th>County_Nevada</th>\n",
              "      <th>County_Orange</th>\n",
              "      <th>County_Placer</th>\n",
              "      <th>County_Plumas</th>\n",
              "      <th>County_Riverside</th>\n",
              "      <th>County_Sacramento</th>\n",
              "      <th>County_San Benito</th>\n",
              "      <th>County_San Bernardino</th>\n",
              "      <th>County_San Diego</th>\n",
              "      <th>County_San Francisco</th>\n",
              "      <th>County_San Joaquin</th>\n",
              "      <th>County_San Luis Obispo</th>\n",
              "      <th>County_San Mateo</th>\n",
              "      <th>...</th>\n",
              "      <th>MostSeriousVictimType_Business</th>\n",
              "      <th>MostSeriousVictimType_Financial</th>\n",
              "      <th>MostSeriousVictimType_Government</th>\n",
              "      <th>MostSeriousVictimType_Other</th>\n",
              "      <th>MostSeriousVictimType_Person</th>\n",
              "      <th>MostSeriousVictimType_Religious</th>\n",
              "      <th>WeaponType_Arson, fire</th>\n",
              "      <th>WeaponType_Blunt object (blugeon, club, etc.)</th>\n",
              "      <th>WeaponType_Firearm (unknown whether handgun, rifle or shotgun)</th>\n",
              "      <th>WeaponType_Handgun</th>\n",
              "      <th>WeaponType_Knife or other cutting or stabbing instrument</th>\n",
              "      <th>WeaponType_None</th>\n",
              "      <th>WeaponType_Other ( bottle, rocks, spitting)</th>\n",
              "      <th>WeaponType_Other gun (pellet, BB, stun gun, etc.)</th>\n",
              "      <th>WeaponType_Personal weapons (hands, feet, teeth, etc.)</th>\n",
              "      <th>WeaponType_Poison</th>\n",
              "      <th>WeaponType_Rifle</th>\n",
              "      <th>WeaponType_Ropes or garrote strangulation or hanging</th>\n",
              "      <th>WeaponType_Shotgun</th>\n",
              "      <th>WeaponType_Unknown</th>\n",
              "      <th>WeaponType_Vehicle</th>\n",
              "      <th>Offensive_Act_Annoying telephone calls/fax</th>\n",
              "      <th>Offensive_Act_Bombing</th>\n",
              "      <th>Offensive_Act_Cross burning</th>\n",
              "      <th>Offensive_Act_Damage to vehicle</th>\n",
              "      <th>Offensive_Act_Daubing of swastika</th>\n",
              "      <th>Offensive_Act_Disturbing public assembly/meeting</th>\n",
              "      <th>Offensive_Act_Explosion</th>\n",
              "      <th>Offensive_Act_Graffiti</th>\n",
              "      <th>Offensive_Act_Hanging in Effigy</th>\n",
              "      <th>Offensive_Act_Other</th>\n",
              "      <th>Offensive_Act_Rock throwing</th>\n",
              "      <th>Offensive_Act_Threatening letters/flyers/email</th>\n",
              "      <th>Offensive_Act_Unknown</th>\n",
              "      <th>Offensive_Act_Verbal slurs</th>\n",
              "      <th>ClosedYear</th>\n",
              "      <th>MonthOccurrence</th>\n",
              "      <th>TotalNumberOfVictims</th>\n",
              "      <th>TotalNumberOfIndividualVictims</th>\n",
              "      <th>TotalNumberOfSuspects</th>\n",
              "    </tr>\n",
              "  </thead>\n",
              "  <tbody>\n",
              "    <tr>\n",
              "      <th>0</th>\n",
              "      <td>1.0</td>\n",
              "      <td>0.0</td>\n",
              "      <td>0.0</td>\n",
              "      <td>0.0</td>\n",
              "      <td>0.0</td>\n",
              "      <td>0.0</td>\n",
              "      <td>0.0</td>\n",
              "      <td>0.0</td>\n",
              "      <td>0.0</td>\n",
              "      <td>0.0</td>\n",
              "      <td>0.0</td>\n",
              "      <td>0.0</td>\n",
              "      <td>0.0</td>\n",
              "      <td>0.0</td>\n",
              "      <td>0.0</td>\n",
              "      <td>0.0</td>\n",
              "      <td>0.0</td>\n",
              "      <td>0.0</td>\n",
              "      <td>0.0</td>\n",
              "      <td>0.0</td>\n",
              "      <td>0.0</td>\n",
              "      <td>0.0</td>\n",
              "      <td>0.0</td>\n",
              "      <td>0.0</td>\n",
              "      <td>0.0</td>\n",
              "      <td>0.0</td>\n",
              "      <td>0.0</td>\n",
              "      <td>0.0</td>\n",
              "      <td>0.0</td>\n",
              "      <td>0.0</td>\n",
              "      <td>0.0</td>\n",
              "      <td>0.0</td>\n",
              "      <td>0.0</td>\n",
              "      <td>0.0</td>\n",
              "      <td>0.0</td>\n",
              "      <td>0.0</td>\n",
              "      <td>0.0</td>\n",
              "      <td>0.0</td>\n",
              "      <td>0.0</td>\n",
              "      <td>0.0</td>\n",
              "      <td>...</td>\n",
              "      <td>0.0</td>\n",
              "      <td>0.0</td>\n",
              "      <td>0.0</td>\n",
              "      <td>0.0</td>\n",
              "      <td>1.0</td>\n",
              "      <td>0.0</td>\n",
              "      <td>0.0</td>\n",
              "      <td>0.0</td>\n",
              "      <td>0.0</td>\n",
              "      <td>0.0</td>\n",
              "      <td>0.0</td>\n",
              "      <td>1.0</td>\n",
              "      <td>0.0</td>\n",
              "      <td>0.0</td>\n",
              "      <td>0.0</td>\n",
              "      <td>0.0</td>\n",
              "      <td>0.0</td>\n",
              "      <td>0.0</td>\n",
              "      <td>0.0</td>\n",
              "      <td>0.0</td>\n",
              "      <td>0.0</td>\n",
              "      <td>0.0</td>\n",
              "      <td>0.0</td>\n",
              "      <td>0.0</td>\n",
              "      <td>0.0</td>\n",
              "      <td>1.0</td>\n",
              "      <td>0.0</td>\n",
              "      <td>0.0</td>\n",
              "      <td>0.0</td>\n",
              "      <td>0.0</td>\n",
              "      <td>0.0</td>\n",
              "      <td>0.0</td>\n",
              "      <td>0.0</td>\n",
              "      <td>0.0</td>\n",
              "      <td>0.0</td>\n",
              "      <td>2004.0</td>\n",
              "      <td>2.0</td>\n",
              "      <td>2.0</td>\n",
              "      <td>2.0</td>\n",
              "      <td>0.0</td>\n",
              "    </tr>\n",
              "    <tr>\n",
              "      <th>1</th>\n",
              "      <td>1.0</td>\n",
              "      <td>0.0</td>\n",
              "      <td>0.0</td>\n",
              "      <td>0.0</td>\n",
              "      <td>0.0</td>\n",
              "      <td>0.0</td>\n",
              "      <td>0.0</td>\n",
              "      <td>0.0</td>\n",
              "      <td>0.0</td>\n",
              "      <td>0.0</td>\n",
              "      <td>0.0</td>\n",
              "      <td>0.0</td>\n",
              "      <td>0.0</td>\n",
              "      <td>0.0</td>\n",
              "      <td>0.0</td>\n",
              "      <td>0.0</td>\n",
              "      <td>0.0</td>\n",
              "      <td>0.0</td>\n",
              "      <td>0.0</td>\n",
              "      <td>0.0</td>\n",
              "      <td>0.0</td>\n",
              "      <td>0.0</td>\n",
              "      <td>0.0</td>\n",
              "      <td>0.0</td>\n",
              "      <td>0.0</td>\n",
              "      <td>0.0</td>\n",
              "      <td>0.0</td>\n",
              "      <td>0.0</td>\n",
              "      <td>0.0</td>\n",
              "      <td>0.0</td>\n",
              "      <td>0.0</td>\n",
              "      <td>0.0</td>\n",
              "      <td>0.0</td>\n",
              "      <td>0.0</td>\n",
              "      <td>0.0</td>\n",
              "      <td>0.0</td>\n",
              "      <td>0.0</td>\n",
              "      <td>0.0</td>\n",
              "      <td>0.0</td>\n",
              "      <td>0.0</td>\n",
              "      <td>...</td>\n",
              "      <td>0.0</td>\n",
              "      <td>0.0</td>\n",
              "      <td>0.0</td>\n",
              "      <td>0.0</td>\n",
              "      <td>1.0</td>\n",
              "      <td>0.0</td>\n",
              "      <td>0.0</td>\n",
              "      <td>0.0</td>\n",
              "      <td>0.0</td>\n",
              "      <td>0.0</td>\n",
              "      <td>0.0</td>\n",
              "      <td>1.0</td>\n",
              "      <td>0.0</td>\n",
              "      <td>0.0</td>\n",
              "      <td>0.0</td>\n",
              "      <td>0.0</td>\n",
              "      <td>0.0</td>\n",
              "      <td>0.0</td>\n",
              "      <td>0.0</td>\n",
              "      <td>0.0</td>\n",
              "      <td>0.0</td>\n",
              "      <td>0.0</td>\n",
              "      <td>0.0</td>\n",
              "      <td>0.0</td>\n",
              "      <td>0.0</td>\n",
              "      <td>0.0</td>\n",
              "      <td>0.0</td>\n",
              "      <td>0.0</td>\n",
              "      <td>0.0</td>\n",
              "      <td>0.0</td>\n",
              "      <td>0.0</td>\n",
              "      <td>0.0</td>\n",
              "      <td>1.0</td>\n",
              "      <td>0.0</td>\n",
              "      <td>0.0</td>\n",
              "      <td>2004.0</td>\n",
              "      <td>3.0</td>\n",
              "      <td>1.0</td>\n",
              "      <td>1.0</td>\n",
              "      <td>1.0</td>\n",
              "    </tr>\n",
              "  </tbody>\n",
              "</table>\n",
              "<p>2 rows × 745 columns</p>\n",
              "</div>\n",
              "      <button class=\"colab-df-convert\" onclick=\"convertToInteractive('df-1b311176-d7df-40b0-933d-8c82588dba93')\"\n",
              "              title=\"Convert this dataframe to an interactive table.\"\n",
              "              style=\"display:none;\">\n",
              "        \n",
              "  <svg xmlns=\"http://www.w3.org/2000/svg\" height=\"24px\"viewBox=\"0 0 24 24\"\n",
              "       width=\"24px\">\n",
              "    <path d=\"M0 0h24v24H0V0z\" fill=\"none\"/>\n",
              "    <path d=\"M18.56 5.44l.94 2.06.94-2.06 2.06-.94-2.06-.94-.94-2.06-.94 2.06-2.06.94zm-11 1L8.5 8.5l.94-2.06 2.06-.94-2.06-.94L8.5 2.5l-.94 2.06-2.06.94zm10 10l.94 2.06.94-2.06 2.06-.94-2.06-.94-.94-2.06-.94 2.06-2.06.94z\"/><path d=\"M17.41 7.96l-1.37-1.37c-.4-.4-.92-.59-1.43-.59-.52 0-1.04.2-1.43.59L10.3 9.45l-7.72 7.72c-.78.78-.78 2.05 0 2.83L4 21.41c.39.39.9.59 1.41.59.51 0 1.02-.2 1.41-.59l7.78-7.78 2.81-2.81c.8-.78.8-2.07 0-2.86zM5.41 20L4 18.59l7.72-7.72 1.47 1.35L5.41 20z\"/>\n",
              "  </svg>\n",
              "      </button>\n",
              "      \n",
              "  <style>\n",
              "    .colab-df-container {\n",
              "      display:flex;\n",
              "      flex-wrap:wrap;\n",
              "      gap: 12px;\n",
              "    }\n",
              "\n",
              "    .colab-df-convert {\n",
              "      background-color: #E8F0FE;\n",
              "      border: none;\n",
              "      border-radius: 50%;\n",
              "      cursor: pointer;\n",
              "      display: none;\n",
              "      fill: #1967D2;\n",
              "      height: 32px;\n",
              "      padding: 0 0 0 0;\n",
              "      width: 32px;\n",
              "    }\n",
              "\n",
              "    .colab-df-convert:hover {\n",
              "      background-color: #E2EBFA;\n",
              "      box-shadow: 0px 1px 2px rgba(60, 64, 67, 0.3), 0px 1px 3px 1px rgba(60, 64, 67, 0.15);\n",
              "      fill: #174EA6;\n",
              "    }\n",
              "\n",
              "    [theme=dark] .colab-df-convert {\n",
              "      background-color: #3B4455;\n",
              "      fill: #D2E3FC;\n",
              "    }\n",
              "\n",
              "    [theme=dark] .colab-df-convert:hover {\n",
              "      background-color: #434B5C;\n",
              "      box-shadow: 0px 1px 3px 1px rgba(0, 0, 0, 0.15);\n",
              "      filter: drop-shadow(0px 1px 2px rgba(0, 0, 0, 0.3));\n",
              "      fill: #FFFFFF;\n",
              "    }\n",
              "  </style>\n",
              "\n",
              "      <script>\n",
              "        const buttonEl =\n",
              "          document.querySelector('#df-1b311176-d7df-40b0-933d-8c82588dba93 button.colab-df-convert');\n",
              "        buttonEl.style.display =\n",
              "          google.colab.kernel.accessAllowed ? 'block' : 'none';\n",
              "\n",
              "        async function convertToInteractive(key) {\n",
              "          const element = document.querySelector('#df-1b311176-d7df-40b0-933d-8c82588dba93');\n",
              "          const dataTable =\n",
              "            await google.colab.kernel.invokeFunction('convertToInteractive',\n",
              "                                                     [key], {});\n",
              "          if (!dataTable) return;\n",
              "\n",
              "          const docLinkHtml = 'Like what you see? Visit the ' +\n",
              "            '<a target=\"_blank\" href=https://colab.research.google.com/notebooks/data_table.ipynb>data table notebook</a>'\n",
              "            + ' to learn more about interactive tables.';\n",
              "          element.innerHTML = '';\n",
              "          dataTable['output_type'] = 'display_data';\n",
              "          await google.colab.output.renderOutput(dataTable, element);\n",
              "          const docLink = document.createElement('div');\n",
              "          docLink.innerHTML = docLinkHtml;\n",
              "          element.appendChild(docLink);\n",
              "        }\n",
              "      </script>\n",
              "    </div>\n",
              "  </div>\n",
              "  "
            ],
            "text/plain": [
              "   County_Alameda  ...  TotalNumberOfSuspects\n",
              "0             1.0  ...                    0.0\n",
              "1             1.0  ...                    1.0\n",
              "\n",
              "[2 rows x 745 columns]"
            ]
          },
          "execution_count": 6,
          "metadata": {},
          "output_type": "execute_result"
        }
      ],
      "source": [
        "X_encoded.head(2)"
      ]
    },
    {
      "cell_type": "markdown",
      "metadata": {
        "id": "KJA6rgCuTo64"
      },
      "source": [
        "### Scaling"
      ]
    },
    {
      "cell_type": "code",
      "execution_count": 7,
      "metadata": {
        "id": "ivqn1958TJd2"
      },
      "outputs": [],
      "source": [
        "X_encoded_scaled = StandardScaler().fit_transform(X_encoded)"
      ]
    },
    {
      "cell_type": "markdown",
      "metadata": {
        "id": "jVqpjXlNUX2f"
      },
      "source": [
        "## Target"
      ]
    },
    {
      "cell_type": "code",
      "execution_count": 8,
      "metadata": {
        "id": "eBh1nMJ9Ua2T"
      },
      "outputs": [],
      "source": [
        "y = data['label']"
      ]
    },
    {
      "cell_type": "code",
      "execution_count": 9,
      "metadata": {
        "colab": {
          "base_uri": "https://localhost:8080/"
        },
        "id": "R5TFxO0cYTxk",
        "outputId": "ef69a9c8-6507-496d-cbb1-7093241f3664"
      },
      "outputs": [
        {
          "data": {
            "text/plain": [
              "array(['4.0', '2.0', '0.0', '1.0', '3.0', 'None'], dtype=object)"
            ]
          },
          "execution_count": 9,
          "metadata": {},
          "output_type": "execute_result"
        }
      ],
      "source": [
        "y.unique()"
      ]
    },
    {
      "cell_type": "code",
      "execution_count": 10,
      "metadata": {
        "id": "F35KyCShYJEa"
      },
      "outputs": [],
      "source": [
        "y_mapped = y.map(\n",
        "    {'4.0': 4,\n",
        "     '2.0': 2,\n",
        "     '0.0': 0,\n",
        "     '1.0': 1, \n",
        "     '3.0': 3,\n",
        "     'None': 5}\n",
        ")"
      ]
    },
    {
      "cell_type": "code",
      "execution_count": 11,
      "metadata": {
        "id": "Ewj1XDV-YJ2S"
      },
      "outputs": [],
      "source": [
        "y_categorical = to_categorical(y_mapped, 6)"
      ]
    },
    {
      "cell_type": "markdown",
      "metadata": {
        "id": "BCeD7nW6bF4s"
      },
      "source": [
        "## Baseline"
      ]
    },
    {
      "cell_type": "code",
      "execution_count": 13,
      "metadata": {
        "colab": {
          "base_uri": "https://localhost:8080/"
        },
        "id": "HleWp1KtbOao",
        "outputId": "d676f18c-056d-4c91-8139-a03f5fafe550"
      },
      "outputs": [
        {
          "data": {
            "text/plain": [
              "4    0.521314\n",
              "2    0.338187\n",
              "0    0.095769\n",
              "5    0.038265\n",
              "1    0.005204\n",
              "3    0.001261\n",
              "Name: label, dtype: float64"
            ]
          },
          "execution_count": 13,
          "metadata": {},
          "output_type": "execute_result"
        }
      ],
      "source": [
        "y_mapped.value_counts(normalize=True)"
      ]
    },
    {
      "cell_type": "markdown",
      "metadata": {
        "id": "MnZEgg95UMBq"
      },
      "source": [
        "## Test/Train Split"
      ]
    },
    {
      "cell_type": "code",
      "execution_count": 14,
      "metadata": {
        "id": "ttHqcjDQUIGM"
      },
      "outputs": [],
      "source": [
        "X_train, X_test, y_train, y_test = train_test_split(X_encoded_scaled, y_categorical, stratify=y, random_state=13)"
      ]
    },
    {
      "cell_type": "code",
      "execution_count": 15,
      "metadata": {
        "colab": {
          "base_uri": "https://localhost:8080/"
        },
        "id": "Q-dykybCWnEC",
        "outputId": "14eb8afd-6426-4a04-9348-4c4211dafa45"
      },
      "outputs": [
        {
          "data": {
            "text/plain": [
              "(14268, 745)"
            ]
          },
          "execution_count": 15,
          "metadata": {},
          "output_type": "execute_result"
        }
      ],
      "source": [
        "X_train.shape"
      ]
    },
    {
      "cell_type": "code",
      "execution_count": 16,
      "metadata": {
        "colab": {
          "base_uri": "https://localhost:8080/"
        },
        "id": "nUP9lJLNXN6P",
        "outputId": "ab933822-dd9d-4c1c-fef8-76f21136d044"
      },
      "outputs": [
        {
          "data": {
            "text/plain": [
              "(14268, 6)"
            ]
          },
          "execution_count": 16,
          "metadata": {},
          "output_type": "execute_result"
        }
      ],
      "source": [
        "y_train.shape"
      ]
    },
    {
      "cell_type": "markdown",
      "metadata": {
        "id": "v_smC88k44XY"
      },
      "source": [
        "## Neural Network Models with Grid Searching\n",
        "\n",
        "With help from Lab 7.01"
      ]
    },
    {
      "cell_type": "code",
      "execution_count": 17,
      "metadata": {
        "id": "jidqOlcbNlnb"
      },
      "outputs": [],
      "source": [
        "# Got input shape error in grid search. Using this from lesson with Chuck given: \"Model <keras.engine.sequential.Sequential object at 0x7fdf22f98410> cannot be saved because the input shapes have not been set. Usually, input shapes are automatically determined when calling `.fit()` or `.predict()`. To manually set the shapes, call `model.build(input_shape)\"\n",
        "n_input = X_train.shape[1]"
      ]
    },
    {
      "cell_type": "code",
      "execution_count": 23,
      "metadata": {
        "id": "HGMzqDwKJlQn"
      },
      "outputs": [],
      "source": [
        "# # Create model function. Required by KerasClassifier\n",
        "# def create_model(dropout_rate, neurons):\n",
        "#   model = Sequential()\n",
        "#   model.add(Dense(neurons, input_dim=n_input, activation='relu'))\n",
        "#   model.add(Dropout(dropout_rate))\n",
        "#   model.add(Dense(6, activation='softmax'))\n",
        "#   # Model compile\n",
        "#   model.compile(\n",
        "#     optimizer='adam',\n",
        "#     loss='categorical_crossentropy',\n",
        "#     metrics=['accuracy']\n",
        "#   )\n",
        "#   return model\n"
      ]
    },
    {
      "cell_type": "code",
      "execution_count": 24,
      "metadata": {
        "id": "xslI3cS8V1Np"
      },
      "outputs": [],
      "source": [
        "# # Create/Instantiate? model.\n",
        "# model = KerasClassifier(model=create_model, verbose=2)\n"
      ]
    },
    {
      "cell_type": "code",
      "execution_count": 28,
      "metadata": {
        "colab": {
          "base_uri": "https://localhost:8080/"
        },
        "id": "rehoYdVSV30v",
        "outputId": "fc670daa-4f46-4386-f614-6f2929b44d53"
      },
      "outputs": [
        {
          "data": {
            "text/plain": [
              "<function __main__.create_model>"
            ]
          },
          "execution_count": 28,
          "metadata": {},
          "output_type": "execute_result"
        }
      ],
      "source": [
        "# model.model"
      ]
    },
    {
      "cell_type": "code",
      "execution_count": 29,
      "metadata": {
        "colab": {
          "base_uri": "https://localhost:8080/"
        },
        "id": "kVBZ0lTLV3KC",
        "outputId": "eab254d7-9a55-4b83-decf-2156dac882a7"
      },
      "outputs": [
        {
          "name": "stderr",
          "output_type": "stream",
          "text": [
            "/usr/local/lib/python3.7/dist-packages/joblib/externals/loky/process_executor.py:705: UserWarning: A worker stopped while some jobs were given to the executor. This can be caused by a too short worker timeout or by a memory leak.\n",
            "  \"timeout or by a memory leak.\", UserWarning\n"
          ]
        },
        {
          "name": "stdout",
          "output_type": "stream",
          "text": [
            "Epoch 1/100\n",
            "286/286 - 1s - loss: 1.7721 - accuracy: 0.4849 - 1s/epoch - 5ms/step\n",
            "Epoch 2/100\n",
            "286/286 - 1s - loss: 1.0605 - accuracy: 0.6236 - 602ms/epoch - 2ms/step\n",
            "Epoch 3/100\n",
            "286/286 - 1s - loss: 0.9037 - accuracy: 0.6543 - 596ms/epoch - 2ms/step\n",
            "Epoch 4/100\n",
            "286/286 - 1s - loss: 0.8330 - accuracy: 0.6740 - 589ms/epoch - 2ms/step\n",
            "Epoch 5/100\n",
            "286/286 - 1s - loss: 0.7595 - accuracy: 0.6913 - 598ms/epoch - 2ms/step\n",
            "Epoch 6/100\n",
            "286/286 - 1s - loss: 0.7277 - accuracy: 0.7044 - 572ms/epoch - 2ms/step\n",
            "Epoch 7/100\n",
            "286/286 - 1s - loss: 0.7101 - accuracy: 0.7053 - 584ms/epoch - 2ms/step\n",
            "Epoch 8/100\n",
            "286/286 - 1s - loss: 0.6864 - accuracy: 0.7088 - 583ms/epoch - 2ms/step\n",
            "Epoch 9/100\n",
            "286/286 - 1s - loss: 0.6740 - accuracy: 0.7144 - 610ms/epoch - 2ms/step\n",
            "Epoch 10/100\n",
            "286/286 - 1s - loss: 0.6604 - accuracy: 0.7218 - 590ms/epoch - 2ms/step\n",
            "Epoch 11/100\n",
            "286/286 - 1s - loss: 0.6438 - accuracy: 0.7251 - 584ms/epoch - 2ms/step\n",
            "Epoch 12/100\n",
            "286/286 - 1s - loss: 0.6311 - accuracy: 0.7274 - 625ms/epoch - 2ms/step\n",
            "Epoch 13/100\n",
            "286/286 - 1s - loss: 0.6225 - accuracy: 0.7300 - 600ms/epoch - 2ms/step\n",
            "Epoch 14/100\n",
            "286/286 - 1s - loss: 0.6121 - accuracy: 0.7323 - 589ms/epoch - 2ms/step\n",
            "Epoch 15/100\n",
            "286/286 - 1s - loss: 0.6067 - accuracy: 0.7329 - 612ms/epoch - 2ms/step\n",
            "Epoch 16/100\n",
            "286/286 - 1s - loss: 0.5962 - accuracy: 0.7386 - 599ms/epoch - 2ms/step\n",
            "Epoch 17/100\n",
            "286/286 - 1s - loss: 0.5823 - accuracy: 0.7410 - 614ms/epoch - 2ms/step\n",
            "Epoch 18/100\n",
            "286/286 - 1s - loss: 0.5822 - accuracy: 0.7382 - 579ms/epoch - 2ms/step\n",
            "Epoch 19/100\n",
            "286/286 - 1s - loss: 0.5718 - accuracy: 0.7435 - 588ms/epoch - 2ms/step\n",
            "Epoch 20/100\n",
            "286/286 - 1s - loss: 0.5730 - accuracy: 0.7394 - 602ms/epoch - 2ms/step\n",
            "Epoch 21/100\n",
            "286/286 - 1s - loss: 0.5635 - accuracy: 0.7456 - 582ms/epoch - 2ms/step\n",
            "Epoch 22/100\n",
            "286/286 - 1s - loss: 0.5537 - accuracy: 0.7495 - 590ms/epoch - 2ms/step\n",
            "Epoch 23/100\n",
            "286/286 - 1s - loss: 0.5509 - accuracy: 0.7480 - 577ms/epoch - 2ms/step\n",
            "Epoch 24/100\n",
            "286/286 - 1s - loss: 0.5474 - accuracy: 0.7526 - 596ms/epoch - 2ms/step\n",
            "Epoch 25/100\n",
            "286/286 - 1s - loss: 0.5407 - accuracy: 0.7553 - 599ms/epoch - 2ms/step\n",
            "Epoch 26/100\n",
            "286/286 - 1s - loss: 0.5414 - accuracy: 0.7517 - 593ms/epoch - 2ms/step\n",
            "Epoch 27/100\n",
            "286/286 - 1s - loss: 0.5314 - accuracy: 0.7589 - 592ms/epoch - 2ms/step\n",
            "Epoch 28/100\n",
            "286/286 - 1s - loss: 0.5289 - accuracy: 0.7586 - 580ms/epoch - 2ms/step\n",
            "Epoch 29/100\n",
            "286/286 - 1s - loss: 0.5231 - accuracy: 0.7594 - 607ms/epoch - 2ms/step\n",
            "Epoch 30/100\n",
            "286/286 - 1s - loss: 0.5202 - accuracy: 0.7576 - 589ms/epoch - 2ms/step\n",
            "Epoch 31/100\n",
            "286/286 - 1s - loss: 0.5231 - accuracy: 0.7595 - 573ms/epoch - 2ms/step\n",
            "Epoch 32/100\n",
            "286/286 - 1s - loss: 0.5146 - accuracy: 0.7626 - 599ms/epoch - 2ms/step\n",
            "Epoch 33/100\n",
            "286/286 - 1s - loss: 0.5098 - accuracy: 0.7619 - 591ms/epoch - 2ms/step\n",
            "Epoch 34/100\n",
            "286/286 - 1s - loss: 0.5081 - accuracy: 0.7644 - 577ms/epoch - 2ms/step\n",
            "Epoch 35/100\n",
            "286/286 - 1s - loss: 0.5103 - accuracy: 0.7617 - 578ms/epoch - 2ms/step\n",
            "Epoch 36/100\n",
            "286/286 - 1s - loss: 0.5060 - accuracy: 0.7684 - 591ms/epoch - 2ms/step\n",
            "Epoch 37/100\n",
            "286/286 - 1s - loss: 0.5022 - accuracy: 0.7675 - 576ms/epoch - 2ms/step\n",
            "Epoch 38/100\n",
            "286/286 - 1s - loss: 0.4958 - accuracy: 0.7692 - 570ms/epoch - 2ms/step\n",
            "Epoch 39/100\n",
            "286/286 - 1s - loss: 0.4930 - accuracy: 0.7685 - 600ms/epoch - 2ms/step\n",
            "Epoch 40/100\n",
            "286/286 - 1s - loss: 0.4933 - accuracy: 0.7719 - 584ms/epoch - 2ms/step\n",
            "Epoch 41/100\n",
            "286/286 - 1s - loss: 0.4905 - accuracy: 0.7677 - 580ms/epoch - 2ms/step\n",
            "Epoch 42/100\n",
            "286/286 - 1s - loss: 0.4897 - accuracy: 0.7711 - 570ms/epoch - 2ms/step\n",
            "Epoch 43/100\n",
            "286/286 - 1s - loss: 0.4879 - accuracy: 0.7728 - 621ms/epoch - 2ms/step\n",
            "Epoch 44/100\n",
            "286/286 - 1s - loss: 0.4769 - accuracy: 0.7740 - 591ms/epoch - 2ms/step\n",
            "Epoch 45/100\n",
            "286/286 - 1s - loss: 0.4828 - accuracy: 0.7782 - 578ms/epoch - 2ms/step\n",
            "Epoch 46/100\n",
            "286/286 - 1s - loss: 0.4804 - accuracy: 0.7759 - 612ms/epoch - 2ms/step\n",
            "Epoch 47/100\n",
            "286/286 - 1s - loss: 0.4826 - accuracy: 0.7748 - 583ms/epoch - 2ms/step\n",
            "Epoch 48/100\n",
            "286/286 - 1s - loss: 0.4784 - accuracy: 0.7713 - 587ms/epoch - 2ms/step\n",
            "Epoch 49/100\n",
            "286/286 - 1s - loss: 0.4705 - accuracy: 0.7776 - 584ms/epoch - 2ms/step\n",
            "Epoch 50/100\n",
            "286/286 - 1s - loss: 0.4668 - accuracy: 0.7791 - 569ms/epoch - 2ms/step\n",
            "Epoch 51/100\n",
            "286/286 - 1s - loss: 0.4683 - accuracy: 0.7770 - 587ms/epoch - 2ms/step\n",
            "Epoch 52/100\n",
            "286/286 - 1s - loss: 0.4749 - accuracy: 0.7796 - 585ms/epoch - 2ms/step\n",
            "Epoch 53/100\n",
            "286/286 - 1s - loss: 0.4680 - accuracy: 0.7747 - 582ms/epoch - 2ms/step\n",
            "Epoch 54/100\n",
            "286/286 - 1s - loss: 0.4680 - accuracy: 0.7800 - 564ms/epoch - 2ms/step\n",
            "Epoch 55/100\n",
            "286/286 - 1s - loss: 0.4571 - accuracy: 0.7841 - 606ms/epoch - 2ms/step\n",
            "Epoch 56/100\n",
            "286/286 - 1s - loss: 0.4666 - accuracy: 0.7757 - 585ms/epoch - 2ms/step\n",
            "Epoch 57/100\n",
            "286/286 - 1s - loss: 0.4623 - accuracy: 0.7832 - 576ms/epoch - 2ms/step\n",
            "Epoch 58/100\n",
            "286/286 - 1s - loss: 0.4656 - accuracy: 0.7863 - 580ms/epoch - 2ms/step\n",
            "Epoch 59/100\n",
            "286/286 - 1s - loss: 0.4564 - accuracy: 0.7870 - 562ms/epoch - 2ms/step\n",
            "Epoch 60/100\n",
            "286/286 - 1s - loss: 0.4587 - accuracy: 0.7804 - 592ms/epoch - 2ms/step\n",
            "Epoch 61/100\n",
            "286/286 - 1s - loss: 0.4537 - accuracy: 0.7846 - 609ms/epoch - 2ms/step\n",
            "Epoch 62/100\n",
            "286/286 - 1s - loss: 0.4581 - accuracy: 0.7846 - 584ms/epoch - 2ms/step\n",
            "Epoch 63/100\n",
            "286/286 - 1s - loss: 0.4534 - accuracy: 0.7841 - 592ms/epoch - 2ms/step\n",
            "Epoch 64/100\n",
            "286/286 - 1s - loss: 0.4562 - accuracy: 0.7869 - 597ms/epoch - 2ms/step\n",
            "Epoch 65/100\n",
            "286/286 - 1s - loss: 0.4495 - accuracy: 0.7867 - 595ms/epoch - 2ms/step\n",
            "Epoch 66/100\n",
            "286/286 - 1s - loss: 0.4479 - accuracy: 0.7844 - 586ms/epoch - 2ms/step\n",
            "Epoch 67/100\n",
            "286/286 - 1s - loss: 0.4550 - accuracy: 0.7855 - 615ms/epoch - 2ms/step\n",
            "Epoch 68/100\n",
            "286/286 - 1s - loss: 0.4439 - accuracy: 0.7877 - 595ms/epoch - 2ms/step\n",
            "Epoch 69/100\n",
            "286/286 - 1s - loss: 0.4431 - accuracy: 0.7897 - 582ms/epoch - 2ms/step\n",
            "Epoch 70/100\n",
            "286/286 - 1s - loss: 0.4409 - accuracy: 0.7900 - 606ms/epoch - 2ms/step\n",
            "Epoch 71/100\n",
            "286/286 - 1s - loss: 0.4463 - accuracy: 0.7871 - 586ms/epoch - 2ms/step\n",
            "Epoch 72/100\n",
            "286/286 - 1s - loss: 0.4343 - accuracy: 0.7903 - 610ms/epoch - 2ms/step\n",
            "Epoch 73/100\n",
            "286/286 - 1s - loss: 0.4448 - accuracy: 0.7915 - 593ms/epoch - 2ms/step\n",
            "Epoch 74/100\n",
            "286/286 - 1s - loss: 0.4419 - accuracy: 0.7942 - 597ms/epoch - 2ms/step\n",
            "Epoch 75/100\n",
            "286/286 - 1s - loss: 0.4404 - accuracy: 0.7891 - 620ms/epoch - 2ms/step\n",
            "Epoch 76/100\n",
            "286/286 - 1s - loss: 0.4364 - accuracy: 0.7947 - 609ms/epoch - 2ms/step\n",
            "Epoch 77/100\n",
            "286/286 - 1s - loss: 0.4375 - accuracy: 0.7917 - 614ms/epoch - 2ms/step\n",
            "Best score: 0.7233669374201561. Used these parameters: {'batch_size': 50, 'callbacks': <keras.callbacks.EarlyStopping object at 0x7f8743f90910>, 'epochs': 100, 'model__dropout_rate': 0.5, 'model__neurons': 36}\n",
            "0.716358 (0.007874) with: {'batch_size': 50, 'callbacks': <keras.callbacks.EarlyStopping object at 0x7f8743f90910>, 'epochs': 100, 'model__dropout_rate': 0.25, 'model__neurons': 12}\n",
            "0.720915 (0.010447) with: {'batch_size': 50, 'callbacks': <keras.callbacks.EarlyStopping object at 0x7f8743f90910>, 'epochs': 100, 'model__dropout_rate': 0.25, 'model__neurons': 24}\n",
            "0.711662 (0.008540) with: {'batch_size': 50, 'callbacks': <keras.callbacks.EarlyStopping object at 0x7f8743f90910>, 'epochs': 100, 'model__dropout_rate': 0.25, 'model__neurons': 36}\n",
            "0.709700 (0.002329) with: {'batch_size': 50, 'callbacks': <keras.callbacks.EarlyStopping object at 0x7f8743f90910>, 'epochs': 100, 'model__dropout_rate': 0.5, 'model__neurons': 12}\n",
            "0.721965 (0.006924) with: {'batch_size': 50, 'callbacks': <keras.callbacks.EarlyStopping object at 0x7f8743f90910>, 'epochs': 100, 'model__dropout_rate': 0.5, 'model__neurons': 24}\n",
            "0.723367 (0.010222) with: {'batch_size': 50, 'callbacks': <keras.callbacks.EarlyStopping object at 0x7f8743f90910>, 'epochs': 100, 'model__dropout_rate': 0.5, 'model__neurons': 36}\n",
            "0.699257 (0.006845) with: {'batch_size': 50, 'callbacks': <keras.callbacks.EarlyStopping object at 0x7f8743f90910>, 'epochs': 100, 'model__dropout_rate': 0.75, 'model__neurons': 12}\n",
            "0.707597 (0.008114) with: {'batch_size': 50, 'callbacks': <keras.callbacks.EarlyStopping object at 0x7f8743f90910>, 'epochs': 100, 'model__dropout_rate': 0.75, 'model__neurons': 24}\n",
            "0.710331 (0.007223) with: {'batch_size': 50, 'callbacks': <keras.callbacks.EarlyStopping object at 0x7f8743f90910>, 'epochs': 100, 'model__dropout_rate': 0.75, 'model__neurons': 36}\n",
            "0.600574 (0.017600) with: {'batch_size': 50, 'callbacks': <keras.callbacks.EarlyStopping object at 0x7f8743f90910>, 'epochs': 100, 'model__dropout_rate': 0.9, 'model__neurons': 12}\n",
            "0.651947 (0.012786) with: {'batch_size': 50, 'callbacks': <keras.callbacks.EarlyStopping object at 0x7f8743f90910>, 'epochs': 100, 'model__dropout_rate': 0.9, 'model__neurons': 24}\n",
            "0.675708 (0.009543) with: {'batch_size': 50, 'callbacks': <keras.callbacks.EarlyStopping object at 0x7f8743f90910>, 'epochs': 100, 'model__dropout_rate': 0.9, 'model__neurons': 36}\n"
          ]
        }
      ],
      "source": [
        "\n",
        "# # Define grid search parameters. I'm using the same from my tutorial to start it off.\n",
        "# params= {\n",
        "#     'batch_size': [50],\n",
        "#     'epochs': [100],\n",
        "#     'callbacks': [EarlyStopping(monitor='loss', patience=5)],\n",
        "#     'model__dropout_rate': [.25, .5, .75, .9],\n",
        "#     'model__neurons': [12, 24, 36]\n",
        "# }\n",
        "# # Grid Search\n",
        "# gs = GridSearchCV(\n",
        "#     estimator=model,\n",
        "#     param_grid=params,\n",
        "#     n_jobs=-1,\n",
        "# )\n",
        "# gs_result = gs.fit(X_train, y_train)\n",
        "\n",
        "# # Result summary\n",
        "# print(f\"Best score: {gs_result.best_score_}. Used these parameters: {gs_result.best_params_}\")\n",
        "\n",
        "# # This part copied from machine learning mastery prints out all results to check where improvements can be made\n",
        "# means = gs_result.cv_results_['mean_test_score']\n",
        "# stds = gs_result.cv_results_['std_test_score']\n",
        "# params = gs_result.cv_results_['params']\n",
        "# for mean, stdev, param in zip(means, stds, params):\n",
        "#     print(\"%f (%f) with: %r\" % (mean, stdev, param))"
      ]
    },
    {
      "cell_type": "code",
      "execution_count": 34,
      "metadata": {
        "colab": {
          "base_uri": "https://localhost:8080/"
        },
        "id": "oRYUQuBVWYoJ",
        "outputId": "b46578dc-2a12-42b3-a9a6-f6464dfec165"
      },
      "outputs": [
        {
          "data": {
            "text/plain": [
              "<method-wrapper '__getattribute__' of function object at 0x7f87440ad3b0>"
            ]
          },
          "execution_count": 34,
          "metadata": {},
          "output_type": "execute_result"
        }
      ],
      "source": [
        "# gs_result.best_estimator_.model.__getattribute__"
      ]
    },
    {
      "cell_type": "markdown",
      "metadata": {
        "id": "x_qN_qJ8mJXw"
      },
      "source": [
        "## Neural Network with parameters from GS"
      ]
    },
    {
      "cell_type": "code",
      "execution_count": 35,
      "metadata": {
        "id": "oqXwb_bylK9I"
      },
      "outputs": [],
      "source": [
        "model2 = Sequential()\n",
        "model2.add(Dense(36, input_dim=n_input, activation='relu'))\n",
        "model2.add(Dropout(.5))\n",
        "model2.add(Dense(6, activation='softmax'))\n",
        "# Model compile\n",
        "model2.compile(\n",
        "  optimizer='adam',\n",
        "  loss='categorical_crossentropy',\n",
        "  metrics=['accuracy']\n",
        ")"
      ]
    },
    {
      "cell_type": "code",
      "execution_count": 36,
      "metadata": {
        "colab": {
          "base_uri": "https://localhost:8080/"
        },
        "id": "fY1gZgfMmeDw",
        "outputId": "8872f865-6ee6-4a44-ea6c-4ca5531acdde"
      },
      "outputs": [
        {
          "name": "stdout",
          "output_type": "stream",
          "text": [
            "Epoch 1/100\n",
            "286/286 - 2s - loss: 1.4575 - accuracy: 0.5178 - val_loss: 0.9533 - val_accuracy: 0.6264 - 2s/epoch - 9ms/step\n",
            "Epoch 2/100\n",
            "286/286 - 1s - loss: 1.0029 - accuracy: 0.6241 - val_loss: 0.8573 - val_accuracy: 0.6624 - 1s/epoch - 4ms/step\n",
            "Epoch 3/100\n",
            "286/286 - 1s - loss: 0.8735 - accuracy: 0.6602 - val_loss: 0.8099 - val_accuracy: 0.6765 - 1s/epoch - 4ms/step\n",
            "Epoch 4/100\n",
            "286/286 - 1s - loss: 0.7928 - accuracy: 0.6793 - val_loss: 0.7870 - val_accuracy: 0.6824 - 1s/epoch - 4ms/step\n",
            "Epoch 5/100\n",
            "286/286 - 1s - loss: 0.7510 - accuracy: 0.6920 - val_loss: 0.7748 - val_accuracy: 0.6809 - 1s/epoch - 4ms/step\n",
            "Epoch 6/100\n",
            "286/286 - 1s - loss: 0.7196 - accuracy: 0.6994 - val_loss: 0.7555 - val_accuracy: 0.6845 - 1s/epoch - 4ms/step\n",
            "Epoch 7/100\n",
            "286/286 - 1s - loss: 0.7015 - accuracy: 0.7034 - val_loss: 0.7455 - val_accuracy: 0.6836 - 1s/epoch - 4ms/step\n",
            "Epoch 8/100\n",
            "286/286 - 1s - loss: 0.6729 - accuracy: 0.7131 - val_loss: 0.7411 - val_accuracy: 0.6952 - 1s/epoch - 4ms/step\n",
            "Epoch 9/100\n",
            "286/286 - 1s - loss: 0.6627 - accuracy: 0.7124 - val_loss: 0.7376 - val_accuracy: 0.6912 - 878ms/epoch - 3ms/step\n",
            "Epoch 10/100\n",
            "286/286 - 1s - loss: 0.6448 - accuracy: 0.7178 - val_loss: 0.7334 - val_accuracy: 0.6946 - 757ms/epoch - 3ms/step\n",
            "Epoch 11/100\n",
            "286/286 - 1s - loss: 0.6291 - accuracy: 0.7218 - val_loss: 0.7330 - val_accuracy: 0.7099 - 891ms/epoch - 3ms/step\n",
            "Epoch 12/100\n",
            "286/286 - 1s - loss: 0.6178 - accuracy: 0.7302 - val_loss: 0.7379 - val_accuracy: 0.7038 - 763ms/epoch - 3ms/step\n",
            "Epoch 13/100\n",
            "286/286 - 1s - loss: 0.6064 - accuracy: 0.7324 - val_loss: 0.7386 - val_accuracy: 0.7057 - 908ms/epoch - 3ms/step\n",
            "Epoch 14/100\n",
            "286/286 - 1s - loss: 0.6052 - accuracy: 0.7335 - val_loss: 0.7454 - val_accuracy: 0.7063 - 921ms/epoch - 3ms/step\n",
            "Epoch 15/100\n",
            "286/286 - 1s - loss: 0.5982 - accuracy: 0.7355 - val_loss: 0.7469 - val_accuracy: 0.7095 - 768ms/epoch - 3ms/step\n",
            "Epoch 16/100\n",
            "286/286 - 1s - loss: 0.5916 - accuracy: 0.7334 - val_loss: 0.7550 - val_accuracy: 0.7173 - 914ms/epoch - 3ms/step\n",
            "Epoch 17/100\n",
            "286/286 - 1s - loss: 0.5762 - accuracy: 0.7444 - val_loss: 0.7672 - val_accuracy: 0.7093 - 900ms/epoch - 3ms/step\n",
            "Epoch 18/100\n",
            "286/286 - 1s - loss: 0.5770 - accuracy: 0.7418 - val_loss: 0.7714 - val_accuracy: 0.7093 - 760ms/epoch - 3ms/step\n",
            "Epoch 19/100\n",
            "286/286 - 1s - loss: 0.5700 - accuracy: 0.7379 - val_loss: 0.7747 - val_accuracy: 0.7139 - 788ms/epoch - 3ms/step\n",
            "Epoch 20/100\n",
            "286/286 - 1s - loss: 0.5597 - accuracy: 0.7480 - val_loss: 0.7891 - val_accuracy: 0.7183 - 908ms/epoch - 3ms/step\n",
            "Epoch 21/100\n",
            "286/286 - 1s - loss: 0.5498 - accuracy: 0.7532 - val_loss: 0.8025 - val_accuracy: 0.7160 - 804ms/epoch - 3ms/step\n",
            "Epoch 22/100\n",
            "286/286 - 1s - loss: 0.5495 - accuracy: 0.7507 - val_loss: 0.8237 - val_accuracy: 0.7192 - 775ms/epoch - 3ms/step\n",
            "Epoch 23/100\n",
            "286/286 - 1s - loss: 0.5487 - accuracy: 0.7550 - val_loss: 0.8144 - val_accuracy: 0.7208 - 761ms/epoch - 3ms/step\n",
            "Epoch 24/100\n",
            "286/286 - 1s - loss: 0.5413 - accuracy: 0.7561 - val_loss: 0.8209 - val_accuracy: 0.7208 - 763ms/epoch - 3ms/step\n",
            "Epoch 25/100\n",
            "286/286 - 1s - loss: 0.5404 - accuracy: 0.7514 - val_loss: 0.8403 - val_accuracy: 0.7219 - 766ms/epoch - 3ms/step\n",
            "Epoch 26/100\n",
            "286/286 - 1s - loss: 0.5311 - accuracy: 0.7582 - val_loss: 0.8539 - val_accuracy: 0.7227 - 762ms/epoch - 3ms/step\n",
            "Epoch 27/100\n",
            "286/286 - 1s - loss: 0.5306 - accuracy: 0.7566 - val_loss: 0.8717 - val_accuracy: 0.7238 - 906ms/epoch - 3ms/step\n",
            "Epoch 28/100\n",
            "286/286 - 1s - loss: 0.5265 - accuracy: 0.7606 - val_loss: 0.8850 - val_accuracy: 0.7242 - 776ms/epoch - 3ms/step\n",
            "Epoch 29/100\n",
            "286/286 - 1s - loss: 0.5160 - accuracy: 0.7639 - val_loss: 0.9190 - val_accuracy: 0.7265 - 771ms/epoch - 3ms/step\n",
            "Epoch 30/100\n",
            "286/286 - 1s - loss: 0.5174 - accuracy: 0.7615 - val_loss: 0.9415 - val_accuracy: 0.7295 - 784ms/epoch - 3ms/step\n",
            "Epoch 31/100\n",
            "286/286 - 1s - loss: 0.5135 - accuracy: 0.7616 - val_loss: 0.9605 - val_accuracy: 0.7252 - 902ms/epoch - 3ms/step\n",
            "Epoch 32/100\n",
            "286/286 - 1s - loss: 0.5137 - accuracy: 0.7624 - val_loss: 0.9789 - val_accuracy: 0.7286 - 798ms/epoch - 3ms/step\n",
            "Epoch 33/100\n",
            "286/286 - 1s - loss: 0.5058 - accuracy: 0.7662 - val_loss: 1.0104 - val_accuracy: 0.7284 - 774ms/epoch - 3ms/step\n",
            "Epoch 34/100\n",
            "286/286 - 1s - loss: 0.5118 - accuracy: 0.7642 - val_loss: 1.0099 - val_accuracy: 0.7250 - 779ms/epoch - 3ms/step\n",
            "Epoch 35/100\n",
            "286/286 - 1s - loss: 0.5025 - accuracy: 0.7689 - val_loss: 1.0351 - val_accuracy: 0.7265 - 906ms/epoch - 3ms/step\n",
            "Epoch 36/100\n",
            "286/286 - 1s - loss: 0.5096 - accuracy: 0.7614 - val_loss: 1.0690 - val_accuracy: 0.7248 - 785ms/epoch - 3ms/step\n",
            "Epoch 37/100\n",
            "286/286 - 1s - loss: 0.5051 - accuracy: 0.7660 - val_loss: 1.0586 - val_accuracy: 0.7299 - 915ms/epoch - 3ms/step\n",
            "Epoch 38/100\n",
            "286/286 - 1s - loss: 0.4976 - accuracy: 0.7691 - val_loss: 1.1214 - val_accuracy: 0.7183 - 934ms/epoch - 3ms/step\n",
            "Epoch 39/100\n",
            "286/286 - 1s - loss: 0.4907 - accuracy: 0.7707 - val_loss: 1.1389 - val_accuracy: 0.7246 - 910ms/epoch - 3ms/step\n",
            "Epoch 40/100\n",
            "286/286 - 1s - loss: 0.4911 - accuracy: 0.7721 - val_loss: 1.1635 - val_accuracy: 0.7263 - 783ms/epoch - 3ms/step\n",
            "Epoch 41/100\n",
            "286/286 - 1s - loss: 0.4868 - accuracy: 0.7763 - val_loss: 1.1914 - val_accuracy: 0.7250 - 832ms/epoch - 3ms/step\n",
            "Epoch 42/100\n",
            "286/286 - 1s - loss: 0.4875 - accuracy: 0.7761 - val_loss: 1.1961 - val_accuracy: 0.7229 - 786ms/epoch - 3ms/step\n",
            "Epoch 43/100\n",
            "286/286 - 1s - loss: 0.4880 - accuracy: 0.7721 - val_loss: 1.2260 - val_accuracy: 0.7292 - 904ms/epoch - 3ms/step\n",
            "Epoch 44/100\n",
            "286/286 - 1s - loss: 0.4813 - accuracy: 0.7736 - val_loss: 1.2648 - val_accuracy: 0.7282 - 923ms/epoch - 3ms/step\n",
            "Epoch 45/100\n",
            "286/286 - 1s - loss: 0.4761 - accuracy: 0.7773 - val_loss: 1.2589 - val_accuracy: 0.7210 - 786ms/epoch - 3ms/step\n",
            "Epoch 46/100\n",
            "286/286 - 1s - loss: 0.4805 - accuracy: 0.7747 - val_loss: 1.2672 - val_accuracy: 0.7259 - 923ms/epoch - 3ms/step\n",
            "Epoch 47/100\n",
            "286/286 - 1s - loss: 0.4818 - accuracy: 0.7761 - val_loss: 1.2876 - val_accuracy: 0.7269 - 932ms/epoch - 3ms/step\n",
            "Epoch 48/100\n",
            "286/286 - 1s - loss: 0.4769 - accuracy: 0.7728 - val_loss: 1.3160 - val_accuracy: 0.7278 - 919ms/epoch - 3ms/step\n",
            "Epoch 49/100\n",
            "286/286 - 1s - loss: 0.4708 - accuracy: 0.7817 - val_loss: 1.3272 - val_accuracy: 0.7242 - 775ms/epoch - 3ms/step\n",
            "Epoch 50/100\n",
            "286/286 - 1s - loss: 0.4755 - accuracy: 0.7769 - val_loss: 1.3836 - val_accuracy: 0.7234 - 917ms/epoch - 3ms/step\n",
            "Epoch 51/100\n",
            "286/286 - 1s - loss: 0.4748 - accuracy: 0.7804 - val_loss: 1.3887 - val_accuracy: 0.7213 - 908ms/epoch - 3ms/step\n",
            "Epoch 52/100\n",
            "286/286 - 1s - loss: 0.4677 - accuracy: 0.7778 - val_loss: 1.3940 - val_accuracy: 0.7248 - 901ms/epoch - 3ms/step\n",
            "Epoch 53/100\n",
            "286/286 - 1s - loss: 0.4709 - accuracy: 0.7764 - val_loss: 1.4415 - val_accuracy: 0.7282 - 911ms/epoch - 3ms/step\n",
            "Epoch 54/100\n",
            "286/286 - 1s - loss: 0.4638 - accuracy: 0.7853 - val_loss: 1.4639 - val_accuracy: 0.7278 - 901ms/epoch - 3ms/step\n",
            "Epoch 55/100\n",
            "286/286 - 1s - loss: 0.4623 - accuracy: 0.7817 - val_loss: 1.4861 - val_accuracy: 0.7269 - 913ms/epoch - 3ms/step\n",
            "Epoch 56/100\n",
            "286/286 - 1s - loss: 0.4653 - accuracy: 0.7789 - val_loss: 1.5484 - val_accuracy: 0.7221 - 801ms/epoch - 3ms/step\n",
            "Epoch 57/100\n",
            "286/286 - 1s - loss: 0.4675 - accuracy: 0.7775 - val_loss: 1.5559 - val_accuracy: 0.7280 - 905ms/epoch - 3ms/step\n",
            "Epoch 58/100\n",
            "286/286 - 1s - loss: 0.4638 - accuracy: 0.7812 - val_loss: 1.5490 - val_accuracy: 0.7297 - 910ms/epoch - 3ms/step\n",
            "Epoch 59/100\n",
            "286/286 - 1s - loss: 0.4516 - accuracy: 0.7883 - val_loss: 1.6024 - val_accuracy: 0.7303 - 924ms/epoch - 3ms/step\n",
            "Epoch 60/100\n",
            "286/286 - 1s - loss: 0.4574 - accuracy: 0.7834 - val_loss: 1.6149 - val_accuracy: 0.7221 - 899ms/epoch - 3ms/step\n",
            "Epoch 61/100\n",
            "286/286 - 1s - loss: 0.4546 - accuracy: 0.7827 - val_loss: 1.6352 - val_accuracy: 0.7330 - 897ms/epoch - 3ms/step\n",
            "Epoch 62/100\n",
            "286/286 - 1s - loss: 0.4558 - accuracy: 0.7850 - val_loss: 1.6608 - val_accuracy: 0.7318 - 895ms/epoch - 3ms/step\n",
            "Epoch 63/100\n",
            "286/286 - 1s - loss: 0.4547 - accuracy: 0.7828 - val_loss: 1.6712 - val_accuracy: 0.7297 - 770ms/epoch - 3ms/step\n",
            "Epoch 64/100\n",
            "286/286 - 1s - loss: 0.4533 - accuracy: 0.7829 - val_loss: 1.6870 - val_accuracy: 0.7282 - 763ms/epoch - 3ms/step\n"
          ]
        }
      ],
      "source": [
        "history = model2.fit(\n",
        "    X_train,\n",
        "    y_train,\n",
        "    validation_data=(X_test, y_test),\n",
        "    epochs=100,\n",
        "    callbacks=EarlyStopping(monitor='loss', patience=5),\n",
        "    batch_size=50,\n",
        "    verbose=2\n",
        ")"
      ]
    },
    {
      "cell_type": "markdown",
      "metadata": {
        "id": "SdB0AoDeLUCW"
      },
      "source": [
        "## Neural Network, drop ClosedYear from X"
      ]
    },
    {
      "cell_type": "markdown",
      "metadata": {
        "id": "bOGqYDQPLs5k"
      },
      "source": [
        "### Transform and Scale Data\n"
      ]
    },
    {
      "cell_type": "code",
      "execution_count": null,
      "metadata": {
        "id": "l3Rw7HJ2Lq9P"
      },
      "outputs": [],
      "source": [
        "X = data.drop(columns=['RecordId', 'ClosedYear', 'label'])\n",
        "ct = make_column_transformer(\n",
        "    (OneHotEncoder(sparse=False, handle_unknown='ignore'), make_column_selector(dtype_include=object)),\n",
        "    remainder='passthrough',\n",
        "    verbose_feature_names_out=False\n",
        ")\n",
        "X_encoded = ct.fit_transform(X)\n",
        "X_encoded\n",
        "ct.get_feature_names_out()\n",
        "X_encoded = pd.DataFrame(X_encoded, columns=ct.get_feature_names_out())"
      ]
    },
    {
      "cell_type": "code",
      "execution_count": null,
      "metadata": {
        "colab": {
          "base_uri": "https://localhost:8080/",
          "height": 258
        },
        "id": "n6ShIi4zLq9d",
        "outputId": "f7843a9a-4579-4bc3-a227-021ab7119d90"
      },
      "outputs": [
        {
          "data": {
            "text/html": [
              "\n",
              "  <div id=\"df-b43e283e-f69b-469c-a690-7789014d2287\">\n",
              "    <div class=\"colab-df-container\">\n",
              "      <div>\n",
              "<style scoped>\n",
              "    .dataframe tbody tr th:only-of-type {\n",
              "        vertical-align: middle;\n",
              "    }\n",
              "\n",
              "    .dataframe tbody tr th {\n",
              "        vertical-align: top;\n",
              "    }\n",
              "\n",
              "    .dataframe thead th {\n",
              "        text-align: right;\n",
              "    }\n",
              "</style>\n",
              "<table border=\"1\" class=\"dataframe\">\n",
              "  <thead>\n",
              "    <tr style=\"text-align: right;\">\n",
              "      <th></th>\n",
              "      <th>County_Alameda</th>\n",
              "      <th>County_Alpine</th>\n",
              "      <th>County_Amador</th>\n",
              "      <th>County_Butte</th>\n",
              "      <th>County_Calaveras</th>\n",
              "      <th>County_Colusa</th>\n",
              "      <th>County_Contra Costa</th>\n",
              "      <th>County_Del Norte</th>\n",
              "      <th>County_El Dorado</th>\n",
              "      <th>County_Fresno</th>\n",
              "      <th>County_Glenn</th>\n",
              "      <th>County_Humboldt</th>\n",
              "      <th>County_Imperial</th>\n",
              "      <th>County_Inyo</th>\n",
              "      <th>County_Kern</th>\n",
              "      <th>County_Kings</th>\n",
              "      <th>County_Lake</th>\n",
              "      <th>County_Lassen</th>\n",
              "      <th>County_Los Angeles</th>\n",
              "      <th>County_Madera</th>\n",
              "      <th>County_Marin</th>\n",
              "      <th>County_Mariposa</th>\n",
              "      <th>County_Mendocino</th>\n",
              "      <th>County_Merced</th>\n",
              "      <th>County_Mono</th>\n",
              "      <th>County_Monterey</th>\n",
              "      <th>County_Napa</th>\n",
              "      <th>County_Nevada</th>\n",
              "      <th>County_Orange</th>\n",
              "      <th>County_Placer</th>\n",
              "      <th>County_Plumas</th>\n",
              "      <th>County_Riverside</th>\n",
              "      <th>County_Sacramento</th>\n",
              "      <th>County_San Benito</th>\n",
              "      <th>County_San Bernardino</th>\n",
              "      <th>County_San Diego</th>\n",
              "      <th>County_San Francisco</th>\n",
              "      <th>County_San Joaquin</th>\n",
              "      <th>County_San Luis Obispo</th>\n",
              "      <th>County_San Mateo</th>\n",
              "      <th>...</th>\n",
              "      <th>MostSeriousBiasType_Sexual Orientation</th>\n",
              "      <th>MostSeriousVictimType_Business</th>\n",
              "      <th>MostSeriousVictimType_Financial</th>\n",
              "      <th>MostSeriousVictimType_Government</th>\n",
              "      <th>MostSeriousVictimType_Other</th>\n",
              "      <th>MostSeriousVictimType_Person</th>\n",
              "      <th>MostSeriousVictimType_Religious</th>\n",
              "      <th>WeaponType_Arson, fire</th>\n",
              "      <th>WeaponType_Blunt object (blugeon, club, etc.)</th>\n",
              "      <th>WeaponType_Firearm (unknown whether handgun, rifle or shotgun)</th>\n",
              "      <th>WeaponType_Handgun</th>\n",
              "      <th>WeaponType_Knife or other cutting or stabbing instrument</th>\n",
              "      <th>WeaponType_None</th>\n",
              "      <th>WeaponType_Other ( bottle, rocks, spitting)</th>\n",
              "      <th>WeaponType_Other gun (pellet, BB, stun gun, etc.)</th>\n",
              "      <th>WeaponType_Personal weapons (hands, feet, teeth, etc.)</th>\n",
              "      <th>WeaponType_Poison</th>\n",
              "      <th>WeaponType_Rifle</th>\n",
              "      <th>WeaponType_Ropes or garrote strangulation or hanging</th>\n",
              "      <th>WeaponType_Shotgun</th>\n",
              "      <th>WeaponType_Unknown</th>\n",
              "      <th>WeaponType_Vehicle</th>\n",
              "      <th>Offensive_Act_Annoying telephone calls/fax</th>\n",
              "      <th>Offensive_Act_Bombing</th>\n",
              "      <th>Offensive_Act_Cross burning</th>\n",
              "      <th>Offensive_Act_Damage to vehicle</th>\n",
              "      <th>Offensive_Act_Daubing of swastika</th>\n",
              "      <th>Offensive_Act_Disturbing public assembly/meeting</th>\n",
              "      <th>Offensive_Act_Explosion</th>\n",
              "      <th>Offensive_Act_Graffiti</th>\n",
              "      <th>Offensive_Act_Hanging in Effigy</th>\n",
              "      <th>Offensive_Act_Other</th>\n",
              "      <th>Offensive_Act_Rock throwing</th>\n",
              "      <th>Offensive_Act_Threatening letters/flyers/email</th>\n",
              "      <th>Offensive_Act_Unknown</th>\n",
              "      <th>Offensive_Act_Verbal slurs</th>\n",
              "      <th>MonthOccurrence</th>\n",
              "      <th>TotalNumberOfVictims</th>\n",
              "      <th>TotalNumberOfIndividualVictims</th>\n",
              "      <th>TotalNumberOfSuspects</th>\n",
              "    </tr>\n",
              "  </thead>\n",
              "  <tbody>\n",
              "    <tr>\n",
              "      <th>0</th>\n",
              "      <td>1.0</td>\n",
              "      <td>0.0</td>\n",
              "      <td>0.0</td>\n",
              "      <td>0.0</td>\n",
              "      <td>0.0</td>\n",
              "      <td>0.0</td>\n",
              "      <td>0.0</td>\n",
              "      <td>0.0</td>\n",
              "      <td>0.0</td>\n",
              "      <td>0.0</td>\n",
              "      <td>0.0</td>\n",
              "      <td>0.0</td>\n",
              "      <td>0.0</td>\n",
              "      <td>0.0</td>\n",
              "      <td>0.0</td>\n",
              "      <td>0.0</td>\n",
              "      <td>0.0</td>\n",
              "      <td>0.0</td>\n",
              "      <td>0.0</td>\n",
              "      <td>0.0</td>\n",
              "      <td>0.0</td>\n",
              "      <td>0.0</td>\n",
              "      <td>0.0</td>\n",
              "      <td>0.0</td>\n",
              "      <td>0.0</td>\n",
              "      <td>0.0</td>\n",
              "      <td>0.0</td>\n",
              "      <td>0.0</td>\n",
              "      <td>0.0</td>\n",
              "      <td>0.0</td>\n",
              "      <td>0.0</td>\n",
              "      <td>0.0</td>\n",
              "      <td>0.0</td>\n",
              "      <td>0.0</td>\n",
              "      <td>0.0</td>\n",
              "      <td>0.0</td>\n",
              "      <td>0.0</td>\n",
              "      <td>0.0</td>\n",
              "      <td>0.0</td>\n",
              "      <td>0.0</td>\n",
              "      <td>...</td>\n",
              "      <td>0.0</td>\n",
              "      <td>0.0</td>\n",
              "      <td>0.0</td>\n",
              "      <td>0.0</td>\n",
              "      <td>0.0</td>\n",
              "      <td>1.0</td>\n",
              "      <td>0.0</td>\n",
              "      <td>0.0</td>\n",
              "      <td>0.0</td>\n",
              "      <td>0.0</td>\n",
              "      <td>0.0</td>\n",
              "      <td>0.0</td>\n",
              "      <td>1.0</td>\n",
              "      <td>0.0</td>\n",
              "      <td>0.0</td>\n",
              "      <td>0.0</td>\n",
              "      <td>0.0</td>\n",
              "      <td>0.0</td>\n",
              "      <td>0.0</td>\n",
              "      <td>0.0</td>\n",
              "      <td>0.0</td>\n",
              "      <td>0.0</td>\n",
              "      <td>0.0</td>\n",
              "      <td>0.0</td>\n",
              "      <td>0.0</td>\n",
              "      <td>0.0</td>\n",
              "      <td>1.0</td>\n",
              "      <td>0.0</td>\n",
              "      <td>0.0</td>\n",
              "      <td>0.0</td>\n",
              "      <td>0.0</td>\n",
              "      <td>0.0</td>\n",
              "      <td>0.0</td>\n",
              "      <td>0.0</td>\n",
              "      <td>0.0</td>\n",
              "      <td>0.0</td>\n",
              "      <td>2.0</td>\n",
              "      <td>2.0</td>\n",
              "      <td>2.0</td>\n",
              "      <td>0.0</td>\n",
              "    </tr>\n",
              "    <tr>\n",
              "      <th>1</th>\n",
              "      <td>1.0</td>\n",
              "      <td>0.0</td>\n",
              "      <td>0.0</td>\n",
              "      <td>0.0</td>\n",
              "      <td>0.0</td>\n",
              "      <td>0.0</td>\n",
              "      <td>0.0</td>\n",
              "      <td>0.0</td>\n",
              "      <td>0.0</td>\n",
              "      <td>0.0</td>\n",
              "      <td>0.0</td>\n",
              "      <td>0.0</td>\n",
              "      <td>0.0</td>\n",
              "      <td>0.0</td>\n",
              "      <td>0.0</td>\n",
              "      <td>0.0</td>\n",
              "      <td>0.0</td>\n",
              "      <td>0.0</td>\n",
              "      <td>0.0</td>\n",
              "      <td>0.0</td>\n",
              "      <td>0.0</td>\n",
              "      <td>0.0</td>\n",
              "      <td>0.0</td>\n",
              "      <td>0.0</td>\n",
              "      <td>0.0</td>\n",
              "      <td>0.0</td>\n",
              "      <td>0.0</td>\n",
              "      <td>0.0</td>\n",
              "      <td>0.0</td>\n",
              "      <td>0.0</td>\n",
              "      <td>0.0</td>\n",
              "      <td>0.0</td>\n",
              "      <td>0.0</td>\n",
              "      <td>0.0</td>\n",
              "      <td>0.0</td>\n",
              "      <td>0.0</td>\n",
              "      <td>0.0</td>\n",
              "      <td>0.0</td>\n",
              "      <td>0.0</td>\n",
              "      <td>0.0</td>\n",
              "      <td>...</td>\n",
              "      <td>0.0</td>\n",
              "      <td>0.0</td>\n",
              "      <td>0.0</td>\n",
              "      <td>0.0</td>\n",
              "      <td>0.0</td>\n",
              "      <td>1.0</td>\n",
              "      <td>0.0</td>\n",
              "      <td>0.0</td>\n",
              "      <td>0.0</td>\n",
              "      <td>0.0</td>\n",
              "      <td>0.0</td>\n",
              "      <td>0.0</td>\n",
              "      <td>1.0</td>\n",
              "      <td>0.0</td>\n",
              "      <td>0.0</td>\n",
              "      <td>0.0</td>\n",
              "      <td>0.0</td>\n",
              "      <td>0.0</td>\n",
              "      <td>0.0</td>\n",
              "      <td>0.0</td>\n",
              "      <td>0.0</td>\n",
              "      <td>0.0</td>\n",
              "      <td>0.0</td>\n",
              "      <td>0.0</td>\n",
              "      <td>0.0</td>\n",
              "      <td>0.0</td>\n",
              "      <td>0.0</td>\n",
              "      <td>0.0</td>\n",
              "      <td>0.0</td>\n",
              "      <td>0.0</td>\n",
              "      <td>0.0</td>\n",
              "      <td>0.0</td>\n",
              "      <td>0.0</td>\n",
              "      <td>1.0</td>\n",
              "      <td>0.0</td>\n",
              "      <td>0.0</td>\n",
              "      <td>3.0</td>\n",
              "      <td>1.0</td>\n",
              "      <td>1.0</td>\n",
              "      <td>1.0</td>\n",
              "    </tr>\n",
              "  </tbody>\n",
              "</table>\n",
              "<p>2 rows × 744 columns</p>\n",
              "</div>\n",
              "      <button class=\"colab-df-convert\" onclick=\"convertToInteractive('df-b43e283e-f69b-469c-a690-7789014d2287')\"\n",
              "              title=\"Convert this dataframe to an interactive table.\"\n",
              "              style=\"display:none;\">\n",
              "        \n",
              "  <svg xmlns=\"http://www.w3.org/2000/svg\" height=\"24px\"viewBox=\"0 0 24 24\"\n",
              "       width=\"24px\">\n",
              "    <path d=\"M0 0h24v24H0V0z\" fill=\"none\"/>\n",
              "    <path d=\"M18.56 5.44l.94 2.06.94-2.06 2.06-.94-2.06-.94-.94-2.06-.94 2.06-2.06.94zm-11 1L8.5 8.5l.94-2.06 2.06-.94-2.06-.94L8.5 2.5l-.94 2.06-2.06.94zm10 10l.94 2.06.94-2.06 2.06-.94-2.06-.94-.94-2.06-.94 2.06-2.06.94z\"/><path d=\"M17.41 7.96l-1.37-1.37c-.4-.4-.92-.59-1.43-.59-.52 0-1.04.2-1.43.59L10.3 9.45l-7.72 7.72c-.78.78-.78 2.05 0 2.83L4 21.41c.39.39.9.59 1.41.59.51 0 1.02-.2 1.41-.59l7.78-7.78 2.81-2.81c.8-.78.8-2.07 0-2.86zM5.41 20L4 18.59l7.72-7.72 1.47 1.35L5.41 20z\"/>\n",
              "  </svg>\n",
              "      </button>\n",
              "      \n",
              "  <style>\n",
              "    .colab-df-container {\n",
              "      display:flex;\n",
              "      flex-wrap:wrap;\n",
              "      gap: 12px;\n",
              "    }\n",
              "\n",
              "    .colab-df-convert {\n",
              "      background-color: #E8F0FE;\n",
              "      border: none;\n",
              "      border-radius: 50%;\n",
              "      cursor: pointer;\n",
              "      display: none;\n",
              "      fill: #1967D2;\n",
              "      height: 32px;\n",
              "      padding: 0 0 0 0;\n",
              "      width: 32px;\n",
              "    }\n",
              "\n",
              "    .colab-df-convert:hover {\n",
              "      background-color: #E2EBFA;\n",
              "      box-shadow: 0px 1px 2px rgba(60, 64, 67, 0.3), 0px 1px 3px 1px rgba(60, 64, 67, 0.15);\n",
              "      fill: #174EA6;\n",
              "    }\n",
              "\n",
              "    [theme=dark] .colab-df-convert {\n",
              "      background-color: #3B4455;\n",
              "      fill: #D2E3FC;\n",
              "    }\n",
              "\n",
              "    [theme=dark] .colab-df-convert:hover {\n",
              "      background-color: #434B5C;\n",
              "      box-shadow: 0px 1px 3px 1px rgba(0, 0, 0, 0.15);\n",
              "      filter: drop-shadow(0px 1px 2px rgba(0, 0, 0, 0.3));\n",
              "      fill: #FFFFFF;\n",
              "    }\n",
              "  </style>\n",
              "\n",
              "      <script>\n",
              "        const buttonEl =\n",
              "          document.querySelector('#df-b43e283e-f69b-469c-a690-7789014d2287 button.colab-df-convert');\n",
              "        buttonEl.style.display =\n",
              "          google.colab.kernel.accessAllowed ? 'block' : 'none';\n",
              "\n",
              "        async function convertToInteractive(key) {\n",
              "          const element = document.querySelector('#df-b43e283e-f69b-469c-a690-7789014d2287');\n",
              "          const dataTable =\n",
              "            await google.colab.kernel.invokeFunction('convertToInteractive',\n",
              "                                                     [key], {});\n",
              "          if (!dataTable) return;\n",
              "\n",
              "          const docLinkHtml = 'Like what you see? Visit the ' +\n",
              "            '<a target=\"_blank\" href=https://colab.research.google.com/notebooks/data_table.ipynb>data table notebook</a>'\n",
              "            + ' to learn more about interactive tables.';\n",
              "          element.innerHTML = '';\n",
              "          dataTable['output_type'] = 'display_data';\n",
              "          await google.colab.output.renderOutput(dataTable, element);\n",
              "          const docLink = document.createElement('div');\n",
              "          docLink.innerHTML = docLinkHtml;\n",
              "          element.appendChild(docLink);\n",
              "        }\n",
              "      </script>\n",
              "    </div>\n",
              "  </div>\n",
              "  "
            ],
            "text/plain": [
              "   County_Alameda  ...  TotalNumberOfSuspects\n",
              "0             1.0  ...                    0.0\n",
              "1             1.0  ...                    1.0\n",
              "\n",
              "[2 rows x 744 columns]"
            ]
          },
          "metadata": {},
          "output_type": "display_data"
        }
      ],
      "source": [
        "X_encoded.head(2)"
      ]
    },
    {
      "cell_type": "markdown",
      "metadata": {
        "id": "ATyoeXS9Lq9e"
      },
      "source": [
        "#### Scaling"
      ]
    },
    {
      "cell_type": "code",
      "execution_count": null,
      "metadata": {
        "id": "8oTC2PIILq9e"
      },
      "outputs": [],
      "source": [
        "X_encoded_scaled = StandardScaler().fit_transform(X_encoded)"
      ]
    },
    {
      "cell_type": "markdown",
      "metadata": {
        "id": "YlCbS4Z-Lq9e"
      },
      "source": [
        "#### Target"
      ]
    },
    {
      "cell_type": "code",
      "execution_count": null,
      "metadata": {
        "id": "QccfyuHGLq9e"
      },
      "outputs": [],
      "source": [
        "y = data['label']"
      ]
    },
    {
      "cell_type": "code",
      "execution_count": null,
      "metadata": {
        "colab": {
          "base_uri": "https://localhost:8080/"
        },
        "id": "XrlHj11rLq9e",
        "outputId": "bc71eef3-00f0-4fb4-851c-3935a5770a3f"
      },
      "outputs": [
        {
          "data": {
            "text/plain": [
              "array(['4.0', '2.0', '0.0', '1.0', '3.0', 'None'], dtype=object)"
            ]
          },
          "metadata": {},
          "output_type": "display_data"
        }
      ],
      "source": [
        "y.unique()"
      ]
    },
    {
      "cell_type": "code",
      "execution_count": null,
      "metadata": {
        "id": "ePkC58EMLq9f"
      },
      "outputs": [],
      "source": [
        "y_mapped = y.map(\n",
        "    {'4.0': 4,\n",
        "     '2.0': 2,\n",
        "     '0.0': 0,\n",
        "     '1.0': 1, \n",
        "     '3.0': 3,\n",
        "     'None': 5}\n",
        ")"
      ]
    },
    {
      "cell_type": "code",
      "execution_count": null,
      "metadata": {
        "id": "FoSjamOFLq9f"
      },
      "outputs": [],
      "source": [
        "y_categorical = to_categorical(y_mapped, 6)"
      ]
    },
    {
      "cell_type": "markdown",
      "metadata": {
        "id": "96dihPnKLq9f"
      },
      "source": [
        "### Baseline"
      ]
    },
    {
      "cell_type": "code",
      "execution_count": null,
      "metadata": {
        "colab": {
          "base_uri": "https://localhost:8080/"
        },
        "id": "OM_mRi22Lq9f",
        "outputId": "c21b603e-3fcc-4063-b25b-c2b77b06c8e7"
      },
      "outputs": [
        {
          "data": {
            "text/plain": [
              "4    0.521314\n",
              "2    0.338187\n",
              "0    0.095769\n",
              "5    0.038265\n",
              "1    0.005204\n",
              "3    0.001261\n",
              "Name: label, dtype: float64"
            ]
          },
          "metadata": {},
          "output_type": "display_data"
        }
      ],
      "source": [
        "y_mapped.value_counts(normalize=True)"
      ]
    },
    {
      "cell_type": "markdown",
      "metadata": {
        "id": "k6-4sxRhLq9g"
      },
      "source": [
        "### Test/Train Split"
      ]
    },
    {
      "cell_type": "code",
      "execution_count": null,
      "metadata": {
        "id": "PqA0ybqXLq9g"
      },
      "outputs": [],
      "source": [
        "X_train, X_test, y_train, y_test = train_test_split(X_encoded_scaled, y_categorical, stratify=y, random_state=13)"
      ]
    },
    {
      "cell_type": "code",
      "execution_count": null,
      "metadata": {
        "colab": {
          "base_uri": "https://localhost:8080/"
        },
        "id": "2wMmI14rLq9g",
        "outputId": "ac8f13a2-cb72-4d1c-d33c-a9eefe813d85"
      },
      "outputs": [
        {
          "data": {
            "text/plain": [
              "(14268, 744)"
            ]
          },
          "metadata": {},
          "output_type": "display_data"
        }
      ],
      "source": [
        "X_train.shape"
      ]
    },
    {
      "cell_type": "code",
      "execution_count": null,
      "metadata": {
        "colab": {
          "base_uri": "https://localhost:8080/"
        },
        "id": "LVHZRBWTLq9h",
        "outputId": "4ab6ecc7-7ba2-43db-8e19-f8da6f448135"
      },
      "outputs": [
        {
          "data": {
            "text/plain": [
              "(14268, 6)"
            ]
          },
          "metadata": {},
          "output_type": "display_data"
        }
      ],
      "source": [
        "y_train.shape"
      ]
    },
    {
      "cell_type": "markdown",
      "metadata": {
        "id": "exVyk280MRtb"
      },
      "source": [
        "### Neural Network Models with Grid Searching\n",
        "\n",
        "With help from Lab 7.01"
      ]
    },
    {
      "cell_type": "code",
      "execution_count": null,
      "metadata": {
        "id": "tbHakCfZMRtc"
      },
      "outputs": [],
      "source": [
        "# Got input shape error in grid search. Using this from lesson with Chuck given: \"Model <keras.engine.sequential.Sequential object at 0x7fdf22f98410> cannot be saved because the input shapes have not been set. Usually, input shapes are automatically determined when calling `.fit()` or `.predict()`. To manually set the shapes, call `model.build(input_shape)\"\n",
        "n_input = X_train.shape[1]"
      ]
    },
    {
      "cell_type": "code",
      "execution_count": null,
      "metadata": {
        "id": "LOlgMUnUMRtd"
      },
      "outputs": [],
      "source": [
        "# Create model function. Required by KerasClassifier\n",
        "def create_model(dropout_rate, neurons):\n",
        "  model = Sequential()\n",
        "  model.add(Dense(neurons, input_dim=n_input, activation='relu'))\n",
        "  model.add(Dropout(dropout_rate))\n",
        "  model.add(Dense(6, activation='softmax'))\n",
        "  # Model compile\n",
        "  model.compile(\n",
        "    optimizer='adam',\n",
        "    loss='categorical_crossentropy',\n",
        "    metrics=['accuracy']\n",
        "  )\n",
        "  return model\n"
      ]
    },
    {
      "cell_type": "code",
      "execution_count": null,
      "metadata": {
        "id": "Bx_cssiBMRtd"
      },
      "outputs": [],
      "source": [
        "# Create/Instantiate? model.\n",
        "model = KerasClassifier(model=create_model, verbose=2)\n"
      ]
    },
    {
      "cell_type": "code",
      "execution_count": null,
      "metadata": {
        "colab": {
          "base_uri": "https://localhost:8080/"
        },
        "id": "egTlcQG4MRte",
        "outputId": "127b016d-4741-48d4-d0ab-12f13ada013c"
      },
      "outputs": [
        {
          "name": "stderr",
          "output_type": "stream",
          "text": [
            "/usr/local/lib/python3.7/dist-packages/joblib/externals/loky/process_executor.py:705: UserWarning: A worker stopped while some jobs were given to the executor. This can be caused by a too short worker timeout or by a memory leak.\n",
            "  \"timeout or by a memory leak.\", UserWarning\n"
          ]
        },
        {
          "name": "stdout",
          "output_type": "stream",
          "text": [
            "Epoch 1/100\n",
            "286/286 - 1s - loss: 1.4771 - accuracy: 0.5222 - 1s/epoch - 5ms/step\n",
            "Epoch 2/100\n",
            "286/286 - 1s - loss: 1.0522 - accuracy: 0.6126 - 562ms/epoch - 2ms/step\n",
            "Epoch 3/100\n",
            "286/286 - 1s - loss: 0.9345 - accuracy: 0.6278 - 556ms/epoch - 2ms/step\n",
            "Epoch 4/100\n",
            "286/286 - 1s - loss: 0.8920 - accuracy: 0.6323 - 563ms/epoch - 2ms/step\n",
            "Epoch 5/100\n",
            "286/286 - 1s - loss: 0.8639 - accuracy: 0.6424 - 561ms/epoch - 2ms/step\n",
            "Epoch 6/100\n",
            "286/286 - 1s - loss: 0.8324 - accuracy: 0.6480 - 553ms/epoch - 2ms/step\n",
            "Epoch 7/100\n",
            "286/286 - 1s - loss: 0.8245 - accuracy: 0.6484 - 559ms/epoch - 2ms/step\n",
            "Epoch 8/100\n",
            "286/286 - 1s - loss: 0.8078 - accuracy: 0.6575 - 549ms/epoch - 2ms/step\n",
            "Epoch 9/100\n",
            "286/286 - 1s - loss: 0.7960 - accuracy: 0.6571 - 557ms/epoch - 2ms/step\n",
            "Epoch 10/100\n",
            "286/286 - 1s - loss: 0.7885 - accuracy: 0.6606 - 569ms/epoch - 2ms/step\n",
            "Epoch 11/100\n",
            "286/286 - 1s - loss: 0.7751 - accuracy: 0.6613 - 546ms/epoch - 2ms/step\n",
            "Epoch 12/100\n",
            "286/286 - 1s - loss: 0.7734 - accuracy: 0.6642 - 581ms/epoch - 2ms/step\n",
            "Epoch 13/100\n",
            "286/286 - 1s - loss: 0.7667 - accuracy: 0.6657 - 553ms/epoch - 2ms/step\n",
            "Epoch 14/100\n",
            "286/286 - 1s - loss: 0.7658 - accuracy: 0.6633 - 569ms/epoch - 2ms/step\n",
            "Epoch 15/100\n",
            "286/286 - 1s - loss: 0.7547 - accuracy: 0.6682 - 547ms/epoch - 2ms/step\n",
            "Epoch 16/100\n",
            "286/286 - 1s - loss: 0.7444 - accuracy: 0.6714 - 560ms/epoch - 2ms/step\n",
            "Epoch 17/100\n",
            "286/286 - 1s - loss: 0.7386 - accuracy: 0.6747 - 557ms/epoch - 2ms/step\n",
            "Epoch 18/100\n",
            "286/286 - 1s - loss: 0.7423 - accuracy: 0.6715 - 564ms/epoch - 2ms/step\n",
            "Epoch 19/100\n",
            "286/286 - 1s - loss: 0.7306 - accuracy: 0.6784 - 552ms/epoch - 2ms/step\n",
            "Epoch 20/100\n",
            "286/286 - 1s - loss: 0.7268 - accuracy: 0.6778 - 541ms/epoch - 2ms/step\n",
            "Epoch 21/100\n",
            "286/286 - 1s - loss: 0.7283 - accuracy: 0.6772 - 558ms/epoch - 2ms/step\n",
            "Epoch 22/100\n",
            "286/286 - 1s - loss: 0.7194 - accuracy: 0.6769 - 542ms/epoch - 2ms/step\n",
            "Epoch 23/100\n",
            "286/286 - 1s - loss: 0.7204 - accuracy: 0.6831 - 562ms/epoch - 2ms/step\n",
            "Epoch 24/100\n",
            "286/286 - 1s - loss: 0.7120 - accuracy: 0.6817 - 551ms/epoch - 2ms/step\n",
            "Epoch 25/100\n",
            "286/286 - 1s - loss: 0.7043 - accuracy: 0.6899 - 562ms/epoch - 2ms/step\n",
            "Epoch 26/100\n",
            "286/286 - 1s - loss: 0.7063 - accuracy: 0.6838 - 554ms/epoch - 2ms/step\n",
            "Epoch 27/100\n",
            "286/286 - 1s - loss: 0.6950 - accuracy: 0.6900 - 559ms/epoch - 2ms/step\n",
            "Epoch 28/100\n",
            "286/286 - 1s - loss: 0.6988 - accuracy: 0.6883 - 578ms/epoch - 2ms/step\n",
            "Epoch 29/100\n",
            "286/286 - 1s - loss: 0.6916 - accuracy: 0.6873 - 547ms/epoch - 2ms/step\n",
            "Epoch 30/100\n",
            "286/286 - 1s - loss: 0.6921 - accuracy: 0.6904 - 576ms/epoch - 2ms/step\n",
            "Epoch 31/100\n",
            "286/286 - 1s - loss: 0.6845 - accuracy: 0.6958 - 554ms/epoch - 2ms/step\n",
            "Epoch 32/100\n",
            "286/286 - 1s - loss: 0.6851 - accuracy: 0.6939 - 569ms/epoch - 2ms/step\n",
            "Epoch 33/100\n",
            "286/286 - 1s - loss: 0.6800 - accuracy: 0.6956 - 554ms/epoch - 2ms/step\n",
            "Epoch 34/100\n",
            "286/286 - 1s - loss: 0.6762 - accuracy: 0.6911 - 568ms/epoch - 2ms/step\n",
            "Epoch 35/100\n",
            "286/286 - 1s - loss: 0.6777 - accuracy: 0.6942 - 558ms/epoch - 2ms/step\n",
            "Epoch 36/100\n",
            "286/286 - 1s - loss: 0.6720 - accuracy: 0.7009 - 565ms/epoch - 2ms/step\n",
            "Epoch 37/100\n",
            "286/286 - 1s - loss: 0.6667 - accuracy: 0.6967 - 568ms/epoch - 2ms/step\n",
            "Epoch 38/100\n",
            "286/286 - 1s - loss: 0.6593 - accuracy: 0.6998 - 561ms/epoch - 2ms/step\n",
            "Epoch 39/100\n",
            "286/286 - 1s - loss: 0.6664 - accuracy: 0.7050 - 567ms/epoch - 2ms/step\n",
            "Epoch 40/100\n",
            "286/286 - 1s - loss: 0.6623 - accuracy: 0.6987 - 548ms/epoch - 2ms/step\n",
            "Epoch 41/100\n",
            "286/286 - 1s - loss: 0.6611 - accuracy: 0.7050 - 577ms/epoch - 2ms/step\n",
            "Epoch 42/100\n",
            "286/286 - 1s - loss: 0.6592 - accuracy: 0.7000 - 554ms/epoch - 2ms/step\n",
            "Epoch 43/100\n",
            "286/286 - 1s - loss: 0.6525 - accuracy: 0.7097 - 560ms/epoch - 2ms/step\n",
            "Epoch 44/100\n",
            "286/286 - 1s - loss: 0.6552 - accuracy: 0.7066 - 570ms/epoch - 2ms/step\n",
            "Epoch 45/100\n",
            "286/286 - 1s - loss: 0.6485 - accuracy: 0.7083 - 548ms/epoch - 2ms/step\n",
            "Epoch 46/100\n",
            "286/286 - 1s - loss: 0.6525 - accuracy: 0.7024 - 551ms/epoch - 2ms/step\n",
            "Epoch 47/100\n",
            "286/286 - 1s - loss: 0.6451 - accuracy: 0.7112 - 550ms/epoch - 2ms/step\n",
            "Epoch 48/100\n",
            "286/286 - 1s - loss: 0.6379 - accuracy: 0.7112 - 583ms/epoch - 2ms/step\n",
            "Epoch 49/100\n",
            "286/286 - 1s - loss: 0.6444 - accuracy: 0.7115 - 559ms/epoch - 2ms/step\n",
            "Epoch 50/100\n",
            "286/286 - 1s - loss: 0.6478 - accuracy: 0.7071 - 558ms/epoch - 2ms/step\n",
            "Epoch 51/100\n",
            "286/286 - 1s - loss: 0.6367 - accuracy: 0.7155 - 560ms/epoch - 2ms/step\n",
            "Epoch 52/100\n",
            "286/286 - 1s - loss: 0.6373 - accuracy: 0.7114 - 572ms/epoch - 2ms/step\n",
            "Epoch 53/100\n",
            "286/286 - 1s - loss: 0.6368 - accuracy: 0.7146 - 563ms/epoch - 2ms/step\n",
            "Epoch 54/100\n",
            "286/286 - 1s - loss: 0.6297 - accuracy: 0.7147 - 550ms/epoch - 2ms/step\n",
            "Epoch 55/100\n",
            "286/286 - 1s - loss: 0.6281 - accuracy: 0.7174 - 566ms/epoch - 2ms/step\n",
            "Epoch 56/100\n",
            "286/286 - 1s - loss: 0.6310 - accuracy: 0.7171 - 558ms/epoch - 2ms/step\n",
            "Epoch 57/100\n",
            "286/286 - 1s - loss: 0.6282 - accuracy: 0.7151 - 550ms/epoch - 2ms/step\n",
            "Epoch 58/100\n",
            "286/286 - 1s - loss: 0.6256 - accuracy: 0.7147 - 548ms/epoch - 2ms/step\n",
            "Epoch 59/100\n",
            "286/286 - 1s - loss: 0.6237 - accuracy: 0.7160 - 563ms/epoch - 2ms/step\n",
            "Epoch 60/100\n",
            "286/286 - 1s - loss: 0.6169 - accuracy: 0.7218 - 551ms/epoch - 2ms/step\n",
            "Epoch 61/100\n",
            "286/286 - 1s - loss: 0.6184 - accuracy: 0.7186 - 574ms/epoch - 2ms/step\n",
            "Epoch 62/100\n",
            "286/286 - 1s - loss: 0.6169 - accuracy: 0.7182 - 573ms/epoch - 2ms/step\n",
            "Epoch 63/100\n",
            "286/286 - 1s - loss: 0.6273 - accuracy: 0.7190 - 564ms/epoch - 2ms/step\n",
            "Epoch 64/100\n",
            "286/286 - 1s - loss: 0.6210 - accuracy: 0.7232 - 576ms/epoch - 2ms/step\n",
            "Epoch 65/100\n",
            "286/286 - 1s - loss: 0.6263 - accuracy: 0.7159 - 581ms/epoch - 2ms/step\n",
            "Epoch 66/100\n",
            "286/286 - 1s - loss: 0.6179 - accuracy: 0.7206 - 597ms/epoch - 2ms/step\n",
            "Epoch 67/100\n",
            "286/286 - 1s - loss: 0.6153 - accuracy: 0.7257 - 580ms/epoch - 2ms/step\n",
            "Epoch 68/100\n",
            "286/286 - 1s - loss: 0.6078 - accuracy: 0.7275 - 586ms/epoch - 2ms/step\n",
            "Epoch 69/100\n",
            "286/286 - 1s - loss: 0.6128 - accuracy: 0.7228 - 595ms/epoch - 2ms/step\n",
            "Epoch 70/100\n",
            "286/286 - 1s - loss: 0.6122 - accuracy: 0.7213 - 561ms/epoch - 2ms/step\n",
            "Epoch 71/100\n",
            "286/286 - 1s - loss: 0.6146 - accuracy: 0.7244 - 580ms/epoch - 2ms/step\n",
            "Epoch 72/100\n",
            "286/286 - 1s - loss: 0.6124 - accuracy: 0.7240 - 573ms/epoch - 2ms/step\n",
            "Epoch 73/100\n",
            "286/286 - 1s - loss: 0.6099 - accuracy: 0.7216 - 582ms/epoch - 2ms/step\n",
            "Best score: 0.6303617505368769. Used these parameters: {'batch_size': 50, 'callbacks': <keras.callbacks.EarlyStopping object at 0x7fbfb623cb90>, 'epochs': 100, 'model__dropout_rate': 0.5, 'model__neurons': 48}\n",
            "0.624755 (0.006065) with: {'batch_size': 50, 'callbacks': <keras.callbacks.EarlyStopping object at 0x7fbfb623cb90>, 'epochs': 100, 'model__dropout_rate': 0.5, 'model__neurons': 12}\n",
            "0.630292 (0.008365) with: {'batch_size': 50, 'callbacks': <keras.callbacks.EarlyStopping object at 0x7fbfb623cb90>, 'epochs': 100, 'model__dropout_rate': 0.5, 'model__neurons': 24}\n",
            "0.629521 (0.004701) with: {'batch_size': 50, 'callbacks': <keras.callbacks.EarlyStopping object at 0x7fbfb623cb90>, 'epochs': 100, 'model__dropout_rate': 0.5, 'model__neurons': 36}\n",
            "0.630362 (0.008174) with: {'batch_size': 50, 'callbacks': <keras.callbacks.EarlyStopping object at 0x7fbfb623cb90>, 'epochs': 100, 'model__dropout_rate': 0.5, 'model__neurons': 48}\n",
            "0.609827 (0.008040) with: {'batch_size': 50, 'callbacks': <keras.callbacks.EarlyStopping object at 0x7fbfb623cb90>, 'epochs': 100, 'model__dropout_rate': 0.75, 'model__neurons': 12}\n",
            "0.619148 (0.009611) with: {'batch_size': 50, 'callbacks': <keras.callbacks.EarlyStopping object at 0x7fbfb623cb90>, 'epochs': 100, 'model__dropout_rate': 0.75, 'model__neurons': 24}\n",
            "0.626366 (0.008627) with: {'batch_size': 50, 'callbacks': <keras.callbacks.EarlyStopping object at 0x7fbfb623cb90>, 'epochs': 100, 'model__dropout_rate': 0.75, 'model__neurons': 36}\n",
            "0.628890 (0.005497) with: {'batch_size': 50, 'callbacks': <keras.callbacks.EarlyStopping object at 0x7fbfb623cb90>, 'epochs': 100, 'model__dropout_rate': 0.75, 'model__neurons': 48}\n",
            "0.583894 (0.008122) with: {'batch_size': 50, 'callbacks': <keras.callbacks.EarlyStopping object at 0x7fbfb623cb90>, 'epochs': 100, 'model__dropout_rate': 0.9, 'model__neurons': 12}\n",
            "0.596720 (0.008636) with: {'batch_size': 50, 'callbacks': <keras.callbacks.EarlyStopping object at 0x7fbfb623cb90>, 'epochs': 100, 'model__dropout_rate': 0.9, 'model__neurons': 24}\n",
            "0.608284 (0.004103) with: {'batch_size': 50, 'callbacks': <keras.callbacks.EarlyStopping object at 0x7fbfb623cb90>, 'epochs': 100, 'model__dropout_rate': 0.9, 'model__neurons': 36}\n",
            "0.611649 (0.004410) with: {'batch_size': 50, 'callbacks': <keras.callbacks.EarlyStopping object at 0x7fbfb623cb90>, 'epochs': 100, 'model__dropout_rate': 0.9, 'model__neurons': 48}\n"
          ]
        }
      ],
      "source": [
        "# Define grid search parameters. I'm using the same from my tutorial to start it off.\n",
        "params= {\n",
        "    'batch_size': [50],\n",
        "    'epochs': [100],\n",
        "    'callbacks': [EarlyStopping(monitor='loss', patience=5)],\n",
        "    'model__dropout_rate': [.5, .75, .9],\n",
        "    'model__neurons': [12, 24, 36, 48],\n",
        "}\n",
        "# Grid Search\n",
        "gs = GridSearchCV(\n",
        "    estimator=model,\n",
        "    param_grid=params,\n",
        "    n_jobs=-1,\n",
        ")\n",
        "gs_result = gs.fit(X_train, y_train)\n",
        "\n",
        "# Result summary\n",
        "print(f\"Best score: {gs_result.best_score_}. Used these parameters: {gs_result.best_params_}\")\n",
        "\n",
        "# This part copied from machine learning mastery prints out all results to check where improvements can be made\n",
        "means = gs_result.cv_results_['mean_test_score']\n",
        "stds = gs_result.cv_results_['std_test_score']\n",
        "params = gs_result.cv_results_['params']\n",
        "for mean, stdev, param in zip(means, stds, params):\n",
        "    print(\"%f (%f) with: %r\" % (mean, stdev, param))"
      ]
    },
    {
      "cell_type": "markdown",
      "metadata": {
        "id": "J4nngQ3kb7Hn"
      },
      "source": [
        "### Save Model"
      ]
    },
    {
      "cell_type": "code",
      "execution_count": null,
      "metadata": {
        "colab": {
          "base_uri": "https://localhost:8080/"
        },
        "id": "i7XyHGwka2dv",
        "outputId": "6244c653-b407-4f5d-9b62-86376327134a"
      },
      "outputs": [
        {
          "name": "stdout",
          "output_type": "stream",
          "text": [
            "INFO:tensorflow:Assets written to: /content/drive/MyDrive/Colab Notebooks/4-project/model/assets\n"
          ]
        }
      ],
      "source": [
        "# gs_result.best_estimator_.model_.save('/content/drive/MyDrive/Colab Notebooks/4-project/model/')"
      ]
    },
    {
      "cell_type": "code",
      "execution_count": null,
      "metadata": {
        "colab": {
          "base_uri": "https://localhost:8080/"
        },
        "id": "zXJXooz6a_xt",
        "outputId": "e2ea3b0c-537a-4c97-b41a-55f78035bffe"
      },
      "outputs": [
        {
          "name": "stdout",
          "output_type": "stream",
          "text": [
            "149/149 [==============================] - 1s 4ms/step - loss: 2.2183 - accuracy: 0.6256\n"
          ]
        },
        {
          "data": {
            "text/plain": [
              "[2.2183337211608887, 0.6256043910980225]"
            ]
          },
          "metadata": {},
          "output_type": "display_data"
        }
      ],
      "source": [
        "gs_result.best_estimator_.model_.evaluate(X_test, y_test)"
      ]
    },
    {
      "cell_type": "code",
      "execution_count": null,
      "metadata": {
        "id": "zv5yeCrum6I6"
      },
      "outputs": [],
      "source": []
    }
  ],
  "metadata": {
    "accelerator": "GPU",
    "colab": {
      "name": "4-project-models.ipynb",
      "provenance": [],
      "toc_visible": true
    },
    "kernelspec": {
      "display_name": "Python 3",
      "name": "python3"
    },
    "language_info": {
      "codemirror_mode": {
        "name": "ipython",
        "version": 3
      },
      "file_extension": ".py",
      "mimetype": "text/x-python",
      "name": "python",
      "nbconvert_exporter": "python",
      "pygments_lexer": "ipython3",
      "version": "3.9.7"
    }
  },
  "nbformat": 4,
  "nbformat_minor": 0
}
