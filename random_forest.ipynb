{
 "cells": [
  {
   "cell_type": "code",
   "execution_count": 27,
   "metadata": {},
   "outputs": [],
   "source": [
    "# !pip install scikeras\n",
    "\n",
    "import pandas as pd\n",
    "import numpy as np\n",
    "import matplotlib.pyplot as plt\n",
    "import tensorflow as tf\n",
    "\n",
    "from sklearn.model_selection import train_test_split, GridSearchCV, RandomizedSearchCV\n",
    "from sklearn.compose import make_column_selector, make_column_transformer\n",
    "from sklearn.preprocessing import OneHotEncoder, StandardScaler\n",
    "from sklearn.metrics import ConfusionMatrixDisplay, balanced_accuracy_score\n",
    "from sklearn.dummy import DummyClassifier\n",
    "from sklearn.ensemble import RandomForestClassifier, ExtraTreesClassifier\n",
    "\n",
    "# from scikeras.wrappers import KerasClassifier\n",
    "\n",
    "from tensorflow.keras.utils import to_categorical\n",
    "from tensorflow.keras.models import Sequential\n",
    "from tensorflow.keras.layers import Dense, Dropout\n",
    "from tensorflow.keras.callbacks import EarlyStopping\n",
    "\n"
   ]
  },
  {
   "cell_type": "markdown",
   "metadata": {},
   "source": [
    "## Import Data"
   ]
  },
  {
   "cell_type": "code",
   "execution_count": 4,
   "metadata": {},
   "outputs": [
    {
     "data": {
      "text/html": [
       "<div>\n",
       "<style scoped>\n",
       "    .dataframe tbody tr th:only-of-type {\n",
       "        vertical-align: middle;\n",
       "    }\n",
       "\n",
       "    .dataframe tbody tr th {\n",
       "        vertical-align: top;\n",
       "    }\n",
       "\n",
       "    .dataframe thead th {\n",
       "        text-align: right;\n",
       "    }\n",
       "</style>\n",
       "<table border=\"1\" class=\"dataframe\">\n",
       "  <thead>\n",
       "    <tr style=\"text-align: right;\">\n",
       "      <th></th>\n",
       "      <th>RecordId</th>\n",
       "      <th>ClosedYear</th>\n",
       "      <th>MonthOccurrence</th>\n",
       "      <th>County</th>\n",
       "      <th>NCIC</th>\n",
       "      <th>TotalNumberOfVictims</th>\n",
       "      <th>TotalNumberOfIndividualVictims</th>\n",
       "      <th>SuspectsRaceAsAGroup</th>\n",
       "      <th>TotalNumberOfSuspects</th>\n",
       "      <th>MostSeriousUcr</th>\n",
       "      <th>MostSeriousUcrType</th>\n",
       "      <th>MostSeriousLocation</th>\n",
       "      <th>MostSeriousBias</th>\n",
       "      <th>MostSeriousBiasType</th>\n",
       "      <th>MostSeriousVictimType</th>\n",
       "      <th>WeaponType</th>\n",
       "      <th>Offensive_Act</th>\n",
       "      <th>label</th>\n",
       "    </tr>\n",
       "  </thead>\n",
       "  <tbody>\n",
       "    <tr>\n",
       "      <th>5411</th>\n",
       "      <td>CA00-0000015217</td>\n",
       "      <td>2004</td>\n",
       "      <td>2</td>\n",
       "      <td>Alameda</td>\n",
       "      <td>Alameda Co. Sheriff's Department</td>\n",
       "      <td>2</td>\n",
       "      <td>2</td>\n",
       "      <td>Unknown</td>\n",
       "      <td>0</td>\n",
       "      <td>Intimidation</td>\n",
       "      <td>Violent Crimes</td>\n",
       "      <td>Residence/Home/Driveway</td>\n",
       "      <td>Anti-Black or African American</td>\n",
       "      <td>Race/Ethnicity/Ancestry</td>\n",
       "      <td>Person</td>\n",
       "      <td>None</td>\n",
       "      <td>Daubing of swastika</td>\n",
       "      <td>4.0</td>\n",
       "    </tr>\n",
       "    <tr>\n",
       "      <th>5412</th>\n",
       "      <td>CA00-0000015122</td>\n",
       "      <td>2004</td>\n",
       "      <td>3</td>\n",
       "      <td>Alameda</td>\n",
       "      <td>Alameda</td>\n",
       "      <td>1</td>\n",
       "      <td>1</td>\n",
       "      <td>White</td>\n",
       "      <td>1</td>\n",
       "      <td>Destruction/Damage/Vandalism</td>\n",
       "      <td>Property Crimes</td>\n",
       "      <td>Residence/Home/Driveway</td>\n",
       "      <td>Anti-Asian</td>\n",
       "      <td>Race/Ethnicity/Ancestry</td>\n",
       "      <td>Person</td>\n",
       "      <td>None</td>\n",
       "      <td>Threatening letters/flyers/email</td>\n",
       "      <td>4.0</td>\n",
       "    </tr>\n",
       "  </tbody>\n",
       "</table>\n",
       "</div>"
      ],
      "text/plain": [
       "             RecordId  ClosedYear  MonthOccurrence   County  \\\n",
       "5411  CA00-0000015217        2004                2  Alameda   \n",
       "5412  CA00-0000015122        2004                3  Alameda   \n",
       "\n",
       "                                  NCIC  TotalNumberOfVictims  \\\n",
       "5411  Alameda Co. Sheriff's Department                     2   \n",
       "5412                           Alameda                     1   \n",
       "\n",
       "      TotalNumberOfIndividualVictims SuspectsRaceAsAGroup  \\\n",
       "5411                               2              Unknown   \n",
       "5412                               1                White   \n",
       "\n",
       "      TotalNumberOfSuspects                MostSeriousUcr MostSeriousUcrType  \\\n",
       "5411                      0                  Intimidation     Violent Crimes   \n",
       "5412                      1  Destruction/Damage/Vandalism    Property Crimes   \n",
       "\n",
       "          MostSeriousLocation                 MostSeriousBias  \\\n",
       "5411  Residence/Home/Driveway  Anti-Black or African American   \n",
       "5412  Residence/Home/Driveway                      Anti-Asian   \n",
       "\n",
       "          MostSeriousBiasType MostSeriousVictimType WeaponType  \\\n",
       "5411  Race/Ethnicity/Ancestry                Person       None   \n",
       "5412  Race/Ethnicity/Ancestry                Person       None   \n",
       "\n",
       "                         Offensive_Act label  \n",
       "5411               Daubing of swastika   4.0  \n",
       "5412  Threatening letters/flyers/email   4.0  "
      ]
     },
     "execution_count": 4,
     "metadata": {},
     "output_type": "execute_result"
    }
   ],
   "source": [
    "data = pd.read_csv('./cleaned_hatecrime.csv', index_col=0)\n",
    "data.head(2)"
   ]
  },
  {
   "cell_type": "markdown",
   "metadata": {},
   "source": [
    "## Transform and Scale Data"
   ]
  },
  {
   "cell_type": "markdown",
   "metadata": {},
   "source": [
    "### Column Transformer"
   ]
  },
  {
   "cell_type": "code",
   "execution_count": 5,
   "metadata": {},
   "outputs": [
    {
     "data": {
      "text/html": [
       "<div>\n",
       "<style scoped>\n",
       "    .dataframe tbody tr th:only-of-type {\n",
       "        vertical-align: middle;\n",
       "    }\n",
       "\n",
       "    .dataframe tbody tr th {\n",
       "        vertical-align: top;\n",
       "    }\n",
       "\n",
       "    .dataframe thead th {\n",
       "        text-align: right;\n",
       "    }\n",
       "</style>\n",
       "<table border=\"1\" class=\"dataframe\">\n",
       "  <thead>\n",
       "    <tr style=\"text-align: right;\">\n",
       "      <th></th>\n",
       "      <th>County_Alameda</th>\n",
       "      <th>County_Alpine</th>\n",
       "      <th>County_Amador</th>\n",
       "      <th>County_Butte</th>\n",
       "      <th>County_Calaveras</th>\n",
       "      <th>County_Colusa</th>\n",
       "      <th>County_Contra Costa</th>\n",
       "      <th>County_Del Norte</th>\n",
       "      <th>County_El Dorado</th>\n",
       "      <th>County_Fresno</th>\n",
       "      <th>...</th>\n",
       "      <th>Offensive_Act_Other</th>\n",
       "      <th>Offensive_Act_Rock throwing</th>\n",
       "      <th>Offensive_Act_Threatening letters/flyers/email</th>\n",
       "      <th>Offensive_Act_Unknown</th>\n",
       "      <th>Offensive_Act_Verbal slurs</th>\n",
       "      <th>ClosedYear</th>\n",
       "      <th>MonthOccurrence</th>\n",
       "      <th>TotalNumberOfVictims</th>\n",
       "      <th>TotalNumberOfIndividualVictims</th>\n",
       "      <th>TotalNumberOfSuspects</th>\n",
       "    </tr>\n",
       "  </thead>\n",
       "  <tbody>\n",
       "    <tr>\n",
       "      <th>0</th>\n",
       "      <td>1.0</td>\n",
       "      <td>0.0</td>\n",
       "      <td>0.0</td>\n",
       "      <td>0.0</td>\n",
       "      <td>0.0</td>\n",
       "      <td>0.0</td>\n",
       "      <td>0.0</td>\n",
       "      <td>0.0</td>\n",
       "      <td>0.0</td>\n",
       "      <td>0.0</td>\n",
       "      <td>...</td>\n",
       "      <td>0.0</td>\n",
       "      <td>0.0</td>\n",
       "      <td>0.0</td>\n",
       "      <td>0.0</td>\n",
       "      <td>0.0</td>\n",
       "      <td>2004.0</td>\n",
       "      <td>2.0</td>\n",
       "      <td>2.0</td>\n",
       "      <td>2.0</td>\n",
       "      <td>0.0</td>\n",
       "    </tr>\n",
       "    <tr>\n",
       "      <th>1</th>\n",
       "      <td>1.0</td>\n",
       "      <td>0.0</td>\n",
       "      <td>0.0</td>\n",
       "      <td>0.0</td>\n",
       "      <td>0.0</td>\n",
       "      <td>0.0</td>\n",
       "      <td>0.0</td>\n",
       "      <td>0.0</td>\n",
       "      <td>0.0</td>\n",
       "      <td>0.0</td>\n",
       "      <td>...</td>\n",
       "      <td>0.0</td>\n",
       "      <td>0.0</td>\n",
       "      <td>1.0</td>\n",
       "      <td>0.0</td>\n",
       "      <td>0.0</td>\n",
       "      <td>2004.0</td>\n",
       "      <td>3.0</td>\n",
       "      <td>1.0</td>\n",
       "      <td>1.0</td>\n",
       "      <td>1.0</td>\n",
       "    </tr>\n",
       "  </tbody>\n",
       "</table>\n",
       "<p>2 rows × 745 columns</p>\n",
       "</div>"
      ],
      "text/plain": [
       "   County_Alameda  County_Alpine  County_Amador  County_Butte  \\\n",
       "0             1.0            0.0            0.0           0.0   \n",
       "1             1.0            0.0            0.0           0.0   \n",
       "\n",
       "   County_Calaveras  County_Colusa  County_Contra Costa  County_Del Norte  \\\n",
       "0               0.0            0.0                  0.0               0.0   \n",
       "1               0.0            0.0                  0.0               0.0   \n",
       "\n",
       "   County_El Dorado  County_Fresno  ...  Offensive_Act_Other  \\\n",
       "0               0.0            0.0  ...                  0.0   \n",
       "1               0.0            0.0  ...                  0.0   \n",
       "\n",
       "   Offensive_Act_Rock throwing  \\\n",
       "0                          0.0   \n",
       "1                          0.0   \n",
       "\n",
       "   Offensive_Act_Threatening letters/flyers/email  Offensive_Act_Unknown  \\\n",
       "0                                             0.0                    0.0   \n",
       "1                                             1.0                    0.0   \n",
       "\n",
       "   Offensive_Act_Verbal slurs  ClosedYear  MonthOccurrence  \\\n",
       "0                         0.0      2004.0              2.0   \n",
       "1                         0.0      2004.0              3.0   \n",
       "\n",
       "   TotalNumberOfVictims  TotalNumberOfIndividualVictims  TotalNumberOfSuspects  \n",
       "0                   2.0                             2.0                    0.0  \n",
       "1                   1.0                             1.0                    1.0  \n",
       "\n",
       "[2 rows x 745 columns]"
      ]
     },
     "execution_count": 5,
     "metadata": {},
     "output_type": "execute_result"
    }
   ],
   "source": [
    "X = data.drop(columns=['RecordId', 'label'])\n",
    "ct = make_column_transformer(\n",
    "    (OneHotEncoder(sparse=False, handle_unknown='ignore'), make_column_selector(dtype_include=object)),\n",
    "    remainder='passthrough',\n",
    "    verbose_feature_names_out=False\n",
    ")\n",
    "X_encoded = ct.fit_transform(X)\n",
    "X_encoded\n",
    "ct.get_feature_names_out()\n",
    "X_encoded = pd.DataFrame(X_encoded, columns=ct.get_feature_names_out())\n",
    "\n",
    "X_encoded.head(2)"
   ]
  },
  {
   "cell_type": "markdown",
   "metadata": {},
   "source": [
    "### Scaling"
   ]
  },
  {
   "cell_type": "code",
   "execution_count": 6,
   "metadata": {},
   "outputs": [],
   "source": [
    "X_encoded_scaled = StandardScaler().fit_transform(X_encoded)"
   ]
  },
  {
   "cell_type": "markdown",
   "metadata": {},
   "source": [
    "## Target"
   ]
  },
  {
   "cell_type": "code",
   "execution_count": 7,
   "metadata": {},
   "outputs": [],
   "source": [
    "y = data['label']\n",
    "\n",
    "y.unique()\n",
    "\n",
    "y_mapped = y.map(\n",
    "    {'4.0': 4,\n",
    "     '2.0': 2,\n",
    "     '0.0': 0,\n",
    "     '1.0': 1, \n",
    "     '3.0': 3,\n",
    "     'None': 5}\n",
    ")\n",
    "\n",
    "y_categorical = to_categorical(y_mapped, 6)"
   ]
  },
  {
   "cell_type": "markdown",
   "metadata": {},
   "source": [
    "## Baseline"
   ]
  },
  {
   "cell_type": "code",
   "execution_count": 8,
   "metadata": {},
   "outputs": [
    {
     "data": {
      "text/plain": [
       "4    0.521314\n",
       "2    0.338187\n",
       "0    0.095769\n",
       "5    0.038265\n",
       "1    0.005204\n",
       "3    0.001261\n",
       "Name: label, dtype: float64"
      ]
     },
     "execution_count": 8,
     "metadata": {},
     "output_type": "execute_result"
    }
   ],
   "source": [
    "y_mapped.value_counts(normalize=True)"
   ]
  },
  {
   "cell_type": "markdown",
   "metadata": {},
   "source": [
    "## Test/Train Split\n"
   ]
  },
  {
   "cell_type": "code",
   "execution_count": 9,
   "metadata": {},
   "outputs": [
    {
     "data": {
      "text/plain": [
       "(14268, 6)"
      ]
     },
     "execution_count": 9,
     "metadata": {},
     "output_type": "execute_result"
    }
   ],
   "source": [
    "X_train, X_test, y_train, y_test = train_test_split(X_encoded_scaled, y_categorical, stratify=y, random_state=13)\n",
    "\n",
    "X_train.shape\n",
    "\n",
    "y_train.shape"
   ]
  },
  {
   "cell_type": "markdown",
   "metadata": {},
   "source": [
    "## Random Forest"
   ]
  },
  {
   "cell_type": "code",
   "execution_count": 10,
   "metadata": {},
   "outputs": [
    {
     "data": {
      "text/plain": [
       "0.7361782636115198"
      ]
     },
     "execution_count": 10,
     "metadata": {},
     "output_type": "execute_result"
    }
   ],
   "source": [
    "rf = RandomForestClassifier(n_jobs=-1)\n",
    "rf.fit(X_train, y_train)\n",
    "rf.score(X_test, y_test)"
   ]
  },
  {
   "cell_type": "markdown",
   "metadata": {},
   "source": [
    "### Confusion Matrix Display"
   ]
  },
  {
   "cell_type": "code",
   "execution_count": 15,
   "metadata": {},
   "outputs": [],
   "source": [
    "y_preds = rf.predict(X_test)"
   ]
  },
  {
   "cell_type": "code",
   "execution_count": 18,
   "metadata": {},
   "outputs": [
    {
     "data": {
      "text/plain": [
       "''"
      ]
     },
     "execution_count": 18,
     "metadata": {},
     "output_type": "execute_result"
    },
    {
     "data": {
      "image/png": "[encoded data removed]",
      "text/plain": [
       "<Figure size 432x288 with 2 Axes>"
      ]
     },
     "metadata": {
      "needs_background": "light"
     },
     "output_type": "display_data"
    }
   ],
   "source": [
    "ConfusionMatrixDisplay.from_predictions(y_test.argmax(axis=1), np.rint(y_preds).argmax(axis=1), cmap='Blues')\n",
    ";"
   ]
  },
  {
   "cell_type": "markdown",
   "metadata": {},
   "source": [
    "### Balanced Accuracy Score"
   ]
  },
  {
   "cell_type": "code",
   "execution_count": 20,
   "metadata": {},
   "outputs": [
    {
     "data": {
      "text/plain": [
       "0.4380761557437864"
      ]
     },
     "execution_count": 20,
     "metadata": {},
     "output_type": "execute_result"
    }
   ],
   "source": [
    "balanced_accuracy_score(y_test.argmax(axis=1), y_preds.argmax(axis=1))"
   ]
  },
  {
   "cell_type": "markdown",
   "metadata": {},
   "source": [
    "## Extra Trees"
   ]
  },
  {
   "cell_type": "code",
   "execution_count": 22,
   "metadata": {},
   "outputs": [
    {
     "data": {
      "text/plain": [
       "0.6909817111624974"
      ]
     },
     "execution_count": 22,
     "metadata": {},
     "output_type": "execute_result"
    }
   ],
   "source": [
    "et = ExtraTreesClassifier(n_jobs=-1)\n",
    "et.fit(X_train, y_train)\n",
    "et.score(X_test, y_test)"
   ]
  },
  {
   "cell_type": "markdown",
   "metadata": {},
   "source": [
    "### Confusion Matrix Display"
   ]
  },
  {
   "cell_type": "code",
   "execution_count": 23,
   "metadata": {},
   "outputs": [],
   "source": [
    "y_preds = et.predict(X_test)"
   ]
  },
  {
   "cell_type": "code",
   "execution_count": 24,
   "metadata": {},
   "outputs": [
    {
     "data": {
      "text/plain": [
       "''"
      ]
     },
     "execution_count": 24,
     "metadata": {},
     "output_type": "execute_result"
    },
    {
     "data": {
      "image/png": "[encoded data removed]",
      "text/plain": [
       "<Figure size 432x288 with 2 Axes>"
      ]
     },
     "metadata": {
      "needs_background": "light"
     },
     "output_type": "display_data"
    }
   ],
   "source": [
    "ConfusionMatrixDisplay.from_predictions(y_test.argmax(axis=1), np.rint(y_preds).argmax(axis=1), cmap='Blues')\n",
    ";"
   ]
  },
  {
   "cell_type": "markdown",
   "metadata": {},
   "source": [
    "### Balanced Accuracy Score"
   ]
  },
  {
   "cell_type": "code",
   "execution_count": 25,
   "metadata": {},
   "outputs": [
    {
     "data": {
      "text/plain": [
       "0.44153432631755174"
      ]
     },
     "execution_count": 25,
     "metadata": {},
     "output_type": "execute_result"
    }
   ],
   "source": [
    "balanced_accuracy_score(y_test.argmax(axis=1), y_preds.argmax(axis=1))"
   ]
  },
  {
   "cell_type": "markdown",
   "metadata": {},
   "source": [
    "## RandomizedSearchCV on Extra Trees"
   ]
  },
  {
   "cell_type": "markdown",
   "metadata": {},
   "source": [
    "### Extra Trees"
   ]
  },
  {
   "cell_type": "code",
   "execution_count": 33,
   "metadata": {},
   "outputs": [],
   "source": [
    "et = ExtraTreesClassifier()"
   ]
  },
  {
   "cell_type": "code",
   "execution_count": 34,
   "metadata": {},
   "outputs": [
    {
     "data": {
      "text/plain": [
       "dict_keys(['bootstrap', 'ccp_alpha', 'class_weight', 'criterion', 'max_depth', 'max_features', 'max_leaf_nodes', 'max_samples', 'min_impurity_decrease', 'min_samples_leaf', 'min_samples_split', 'min_weight_fraction_leaf', 'n_estimators', 'n_jobs', 'oob_score', 'random_state', 'verbose', 'warm_start'])"
      ]
     },
     "execution_count": 34,
     "metadata": {},
     "output_type": "execute_result"
    }
   ],
   "source": [
    "et.get_params().keys()"
   ]
  },
  {
   "cell_type": "code",
   "execution_count": 35,
   "metadata": {},
   "outputs": [],
   "source": [
    "params = {\n",
    "    'n_estimators': range(100, 1000)\n",
    "}"
   ]
  },
  {
   "cell_type": "markdown",
   "metadata": {},
   "source": [
    "### RandomizedSearchCV"
   ]
  },
  {
   "cell_type": "code",
   "execution_count": 36,
   "metadata": {},
   "outputs": [
    {
     "name": "stdout",
     "output_type": "stream",
     "text": [
      "Best score: 0.7000284434855207. Used these parameters: {'n_estimators': 478}\n",
      "0.693580 (0.009005) with: {'n_estimators': 481}\n",
      "0.695823 (0.007956) with: {'n_estimators': 482}\n",
      "0.697785 (0.008356) with: {'n_estimators': 688}\n",
      "0.697996 (0.008286) with: {'n_estimators': 439}\n",
      "0.696594 (0.008220) with: {'n_estimators': 594}\n",
      "0.700028 (0.006137) with: {'n_estimators': 374}\n",
      "0.700028 (0.011324) with: {'n_estimators': 478}\n",
      "0.699187 (0.009727) with: {'n_estimators': 610}\n",
      "0.698487 (0.009793) with: {'n_estimators': 844}\n",
      "0.697785 (0.006862) with: {'n_estimators': 962}\n"
     ]
    }
   ],
   "source": [
    "rs = RandomizedSearchCV(\n",
    "    et,\n",
    "    params,\n",
    "    n_jobs=-1\n",
    ")\n",
    "\n",
    "rs_result = rs.fit(X_train, y_train)\n",
    "\n",
    "# Result summary\n",
    "print(f\"Best score: {rs_result.best_score_}. Used these parameters: {rs_result.best_params_}\")\n",
    "\n",
    "# This part copied from machine learning mastery prints out all results to check where improvements can be made\n",
    "means = rs_result.cv_results_['mean_test_score']\n",
    "stds = rs_result.cv_results_['std_test_score']\n",
    "params = rs_result.cv_results_['params']\n",
    "for mean, stdev, param in zip(means, stds, params):\n",
    "    print(\"%f (%f) with: %r\" % (mean, stdev, param))"
   ]
  },
  {
   "cell_type": "code",
   "execution_count": 38,
   "metadata": {},
   "outputs": [],
   "source": [
    "y_preds = rs_result.best_estimator_.predict(X_test)"
   ]
  },
  {
   "cell_type": "code",
   "execution_count": 41,
   "metadata": {},
   "outputs": [
    {
     "data": {
      "text/plain": [
       "0.40312381705485517"
      ]
     },
     "execution_count": 41,
     "metadata": {},
     "output_type": "execute_result"
    }
   ],
   "source": [
    "balanced_accuracy_score(y_test.argmax(axis=1), y_preds.argmax(axis=1))"
   ]
  },
  {
   "cell_type": "code",
   "execution_count": null,
   "metadata": {},
   "outputs": [],
   "source": []
  }
 ],
 "metadata": {
  "interpreter": {
   "hash": "f7a0f9bb49171c226bccce8a0987518af550515ba22b4949d7abe766c3680a51"
  },
  "kernelspec": {
   "display_name": "Python 3.9.7 ('base')",
   "language": "python",
   "name": "python3"
  },
  "language_info": {
   "codemirror_mode": {
    "name": "ipython",
    "version": 3
   },
   "file_extension": ".py",
   "mimetype": "text/x-python",
   "name": "python",
   "nbconvert_exporter": "python",
   "pygments_lexer": "ipython3",
   "version": "3.9.7"
  },
  "orig_nbformat": 4
 },
 "nbformat": 4,
 "nbformat_minor": 2
}
