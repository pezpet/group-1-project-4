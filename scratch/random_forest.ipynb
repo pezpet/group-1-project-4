{
 "cells": [
  {
   "cell_type": "code",
   "execution_count": 110,
   "metadata": {},
   "outputs": [],
   "source": [
    "# !pip install scikeras\n",
    "\n",
    "import pandas as pd\n",
    "import numpy as np\n",
    "import matplotlib.pyplot as plt\n",
    "import tensorflow as tf\n",
    "\n",
    "from sklearn.model_selection import train_test_split, GridSearchCV, RandomizedSearchCV\n",
    "from sklearn.compose import make_column_selector, make_column_transformer\n",
    "from sklearn.preprocessing import OneHotEncoder, StandardScaler\n",
    "from sklearn.metrics import ConfusionMatrixDisplay, balanced_accuracy_score\n",
    "from sklearn.dummy import DummyClassifier\n",
    "from sklearn.ensemble import RandomForestClassifier, ExtraTreesClassifier\n",
    "\n",
    "# from scikeras.wrappers import KerasClassifier\n",
    "\n",
    "from tensorflow.keras.utils import to_categorical\n",
    "from tensorflow.keras.models import Sequential\n",
    "from tensorflow.keras.layers import Dense, Dropout\n",
    "from tensorflow.keras.callbacks import EarlyStopping\n",
    "\n"
   ]
  },
  {
   "cell_type": "markdown",
   "metadata": {},
   "source": [
    "## Import Data"
   ]
  },
  {
   "cell_type": "code",
   "execution_count": 111,
   "metadata": {},
   "outputs": [
    {
     "data": {
      "text/html": [
       "<div>\n",
       "<style scoped>\n",
       "    .dataframe tbody tr th:only-of-type {\n",
       "        vertical-align: middle;\n",
       "    }\n",
       "\n",
       "    .dataframe tbody tr th {\n",
       "        vertical-align: top;\n",
       "    }\n",
       "\n",
       "    .dataframe thead th {\n",
       "        text-align: right;\n",
       "    }\n",
       "</style>\n",
       "<table border=\"1\" class=\"dataframe\">\n",
       "  <thead>\n",
       "    <tr style=\"text-align: right;\">\n",
       "      <th></th>\n",
       "      <th>MonthOccurrence</th>\n",
       "      <th>TotalNumberOfVictims</th>\n",
       "      <th>TotalNumberOfIndividualVictims</th>\n",
       "      <th>SuspectsRaceAsAGroup</th>\n",
       "      <th>TotalNumberOfSuspects</th>\n",
       "      <th>MostSeriousUcr</th>\n",
       "      <th>MostSeriousUcrType</th>\n",
       "      <th>MostSeriousLocation</th>\n",
       "      <th>MostSeriousBias</th>\n",
       "      <th>MostSeriousBiasType</th>\n",
       "      <th>...</th>\n",
       "      <th>pct_Asian</th>\n",
       "      <th>pct_AAPI</th>\n",
       "      <th>pct_Black</th>\n",
       "      <th>pct_Hispanic</th>\n",
       "      <th>pct_Multi-Racial/Ethnic</th>\n",
       "      <th>pct_Hawaiian/ Pacific Island</th>\n",
       "      <th>pct_White</th>\n",
       "      <th>pct_unemployed_2018</th>\n",
       "      <th>pct_u18_poverty_2017</th>\n",
       "      <th>median_hh_income_2017</th>\n",
       "    </tr>\n",
       "  </thead>\n",
       "  <tbody>\n",
       "    <tr>\n",
       "      <th>0</th>\n",
       "      <td>2</td>\n",
       "      <td>1</td>\n",
       "      <td>1</td>\n",
       "      <td>White</td>\n",
       "      <td>2</td>\n",
       "      <td>Simple Assault</td>\n",
       "      <td>Violent Crimes</td>\n",
       "      <td>Bar/Night Club</td>\n",
       "      <td>Anti-Black or African American</td>\n",
       "      <td>Race/Ethnicity/Ancestry</td>\n",
       "      <td>...</td>\n",
       "      <td>0.265963</td>\n",
       "      <td>0.27413</td>\n",
       "      <td>0.115603</td>\n",
       "      <td>0.234718</td>\n",
       "      <td>0.041847</td>\n",
       "      <td>0.008167</td>\n",
       "      <td>0.337067</td>\n",
       "      <td>0.03</td>\n",
       "      <td>0.105</td>\n",
       "      <td>95550.0</td>\n",
       "    </tr>\n",
       "    <tr>\n",
       "      <th>1</th>\n",
       "      <td>2</td>\n",
       "      <td>2</td>\n",
       "      <td>2</td>\n",
       "      <td>White</td>\n",
       "      <td>1</td>\n",
       "      <td>Destruction/Damage/Vandalism</td>\n",
       "      <td>Property Crimes</td>\n",
       "      <td>Residence/Home/Driveway</td>\n",
       "      <td>Anti-Black or African American</td>\n",
       "      <td>Race/Ethnicity/Ancestry</td>\n",
       "      <td>...</td>\n",
       "      <td>0.265963</td>\n",
       "      <td>0.27413</td>\n",
       "      <td>0.115603</td>\n",
       "      <td>0.234718</td>\n",
       "      <td>0.041847</td>\n",
       "      <td>0.008167</td>\n",
       "      <td>0.337067</td>\n",
       "      <td>0.03</td>\n",
       "      <td>0.105</td>\n",
       "      <td>95550.0</td>\n",
       "    </tr>\n",
       "  </tbody>\n",
       "</table>\n",
       "<p>2 rows × 25 columns</p>\n",
       "</div>"
      ],
      "text/plain": [
       "   MonthOccurrence  TotalNumberOfVictims  TotalNumberOfIndividualVictims  \\\n",
       "0                2                     1                               1   \n",
       "1                2                     2                               2   \n",
       "\n",
       "  SuspectsRaceAsAGroup  TotalNumberOfSuspects                MostSeriousUcr  \\\n",
       "0                White                      2                Simple Assault   \n",
       "1                White                      1  Destruction/Damage/Vandalism   \n",
       "\n",
       "  MostSeriousUcrType      MostSeriousLocation                 MostSeriousBias  \\\n",
       "0     Violent Crimes           Bar/Night Club  Anti-Black or African American   \n",
       "1    Property Crimes  Residence/Home/Driveway  Anti-Black or African American   \n",
       "\n",
       "       MostSeriousBiasType  ... pct_Asian pct_AAPI pct_Black  pct_Hispanic  \\\n",
       "0  Race/Ethnicity/Ancestry  ...  0.265963  0.27413  0.115603      0.234718   \n",
       "1  Race/Ethnicity/Ancestry  ...  0.265963  0.27413  0.115603      0.234718   \n",
       "\n",
       "   pct_Multi-Racial/Ethnic  pct_Hawaiian/ Pacific Island  pct_White  \\\n",
       "0                 0.041847                      0.008167   0.337067   \n",
       "1                 0.041847                      0.008167   0.337067   \n",
       "\n",
       "   pct_unemployed_2018  pct_u18_poverty_2017  median_hh_income_2017  \n",
       "0                 0.03                 0.105                95550.0  \n",
       "1                 0.03                 0.105                95550.0  \n",
       "\n",
       "[2 rows x 25 columns]"
      ]
     },
     "execution_count": 111,
     "metadata": {},
     "output_type": "execute_result"
    }
   ],
   "source": [
    "data = pd.read_csv('./demographics-data/classification_data_demographics.csv')\n",
    "data.head(2)"
   ]
  },
  {
   "cell_type": "markdown",
   "metadata": {},
   "source": [
    "## Transform and Scale Data"
   ]
  },
  {
   "cell_type": "markdown",
   "metadata": {},
   "source": [
    "### Column Transformer"
   ]
  },
  {
   "cell_type": "code",
   "execution_count": 112,
   "metadata": {},
   "outputs": [
    {
     "data": {
      "text/html": [
       "<div>\n",
       "<style scoped>\n",
       "    .dataframe tbody tr th:only-of-type {\n",
       "        vertical-align: middle;\n",
       "    }\n",
       "\n",
       "    .dataframe tbody tr th {\n",
       "        vertical-align: top;\n",
       "    }\n",
       "\n",
       "    .dataframe thead th {\n",
       "        text-align: right;\n",
       "    }\n",
       "</style>\n",
       "<table border=\"1\" class=\"dataframe\">\n",
       "  <thead>\n",
       "    <tr style=\"text-align: right;\">\n",
       "      <th></th>\n",
       "      <th>SuspectsRaceAsAGroup_American Indian or Alaska Native</th>\n",
       "      <th>SuspectsRaceAsAGroup_Asian</th>\n",
       "      <th>SuspectsRaceAsAGroup_Asian/Pacific Islander</th>\n",
       "      <th>SuspectsRaceAsAGroup_Black or African American</th>\n",
       "      <th>SuspectsRaceAsAGroup_East Indian</th>\n",
       "      <th>SuspectsRaceAsAGroup_East Indian/Asian Indian</th>\n",
       "      <th>SuspectsRaceAsAGroup_Group of Multiple Races</th>\n",
       "      <th>SuspectsRaceAsAGroup_Hispanic</th>\n",
       "      <th>SuspectsRaceAsAGroup_Native Hawaiian or Other Pacific Islander</th>\n",
       "      <th>SuspectsRaceAsAGroup_Unknown</th>\n",
       "      <th>...</th>\n",
       "      <th>pct_Asian</th>\n",
       "      <th>pct_AAPI</th>\n",
       "      <th>pct_Black</th>\n",
       "      <th>pct_Hispanic</th>\n",
       "      <th>pct_Multi-Racial/Ethnic</th>\n",
       "      <th>pct_Hawaiian/ Pacific Island</th>\n",
       "      <th>pct_White</th>\n",
       "      <th>pct_unemployed_2018</th>\n",
       "      <th>pct_u18_poverty_2017</th>\n",
       "      <th>median_hh_income_2017</th>\n",
       "    </tr>\n",
       "  </thead>\n",
       "  <tbody>\n",
       "    <tr>\n",
       "      <th>0</th>\n",
       "      <td>0.0</td>\n",
       "      <td>0.0</td>\n",
       "      <td>0.0</td>\n",
       "      <td>0.0</td>\n",
       "      <td>0.0</td>\n",
       "      <td>0.0</td>\n",
       "      <td>0.0</td>\n",
       "      <td>0.0</td>\n",
       "      <td>0.0</td>\n",
       "      <td>0.0</td>\n",
       "      <td>...</td>\n",
       "      <td>0.265963</td>\n",
       "      <td>0.27413</td>\n",
       "      <td>0.115603</td>\n",
       "      <td>0.234718</td>\n",
       "      <td>0.041847</td>\n",
       "      <td>0.008167</td>\n",
       "      <td>0.337067</td>\n",
       "      <td>0.03</td>\n",
       "      <td>0.105</td>\n",
       "      <td>95550.0</td>\n",
       "    </tr>\n",
       "    <tr>\n",
       "      <th>1</th>\n",
       "      <td>0.0</td>\n",
       "      <td>0.0</td>\n",
       "      <td>0.0</td>\n",
       "      <td>0.0</td>\n",
       "      <td>0.0</td>\n",
       "      <td>0.0</td>\n",
       "      <td>0.0</td>\n",
       "      <td>0.0</td>\n",
       "      <td>0.0</td>\n",
       "      <td>0.0</td>\n",
       "      <td>...</td>\n",
       "      <td>0.265963</td>\n",
       "      <td>0.27413</td>\n",
       "      <td>0.115603</td>\n",
       "      <td>0.234718</td>\n",
       "      <td>0.041847</td>\n",
       "      <td>0.008167</td>\n",
       "      <td>0.337067</td>\n",
       "      <td>0.03</td>\n",
       "      <td>0.105</td>\n",
       "      <td>95550.0</td>\n",
       "    </tr>\n",
       "  </tbody>\n",
       "</table>\n",
       "<p>2 rows × 161 columns</p>\n",
       "</div>"
      ],
      "text/plain": [
       "   SuspectsRaceAsAGroup_American Indian or Alaska Native  \\\n",
       "0                                                0.0       \n",
       "1                                                0.0       \n",
       "\n",
       "   SuspectsRaceAsAGroup_Asian  SuspectsRaceAsAGroup_Asian/Pacific Islander  \\\n",
       "0                         0.0                                          0.0   \n",
       "1                         0.0                                          0.0   \n",
       "\n",
       "   SuspectsRaceAsAGroup_Black or African American  \\\n",
       "0                                             0.0   \n",
       "1                                             0.0   \n",
       "\n",
       "   SuspectsRaceAsAGroup_East Indian  \\\n",
       "0                               0.0   \n",
       "1                               0.0   \n",
       "\n",
       "   SuspectsRaceAsAGroup_East Indian/Asian Indian  \\\n",
       "0                                            0.0   \n",
       "1                                            0.0   \n",
       "\n",
       "   SuspectsRaceAsAGroup_Group of Multiple Races  \\\n",
       "0                                           0.0   \n",
       "1                                           0.0   \n",
       "\n",
       "   SuspectsRaceAsAGroup_Hispanic  \\\n",
       "0                            0.0   \n",
       "1                            0.0   \n",
       "\n",
       "   SuspectsRaceAsAGroup_Native Hawaiian or Other Pacific Islander  \\\n",
       "0                                                0.0                \n",
       "1                                                0.0                \n",
       "\n",
       "   SuspectsRaceAsAGroup_Unknown  ...  pct_Asian  pct_AAPI  pct_Black  \\\n",
       "0                           0.0  ...   0.265963   0.27413   0.115603   \n",
       "1                           0.0  ...   0.265963   0.27413   0.115603   \n",
       "\n",
       "   pct_Hispanic  pct_Multi-Racial/Ethnic  pct_Hawaiian/ Pacific Island  \\\n",
       "0      0.234718                 0.041847                      0.008167   \n",
       "1      0.234718                 0.041847                      0.008167   \n",
       "\n",
       "   pct_White  pct_unemployed_2018  pct_u18_poverty_2017  median_hh_income_2017  \n",
       "0   0.337067                 0.03                 0.105                95550.0  \n",
       "1   0.337067                 0.03                 0.105                95550.0  \n",
       "\n",
       "[2 rows x 161 columns]"
      ]
     },
     "execution_count": 112,
     "metadata": {},
     "output_type": "execute_result"
    }
   ],
   "source": [
    "X = data.drop(columns=['labels'])\n",
    "ct = make_column_transformer(\n",
    "    (OneHotEncoder(sparse=False, handle_unknown='ignore'), make_column_selector(dtype_include=object)),\n",
    "    remainder='passthrough',\n",
    "    verbose_feature_names_out=False\n",
    ")\n",
    "X_encoded = ct.fit_transform(X)\n",
    "X_encoded\n",
    "ct.get_feature_names_out()\n",
    "X_encoded = pd.DataFrame(X_encoded, columns=ct.get_feature_names_out())\n",
    "\n",
    "X_encoded.head(2)"
   ]
  },
  {
   "cell_type": "markdown",
   "metadata": {},
   "source": [
    "### Scaling"
   ]
  },
  {
   "cell_type": "code",
   "execution_count": 113,
   "metadata": {},
   "outputs": [],
   "source": [
    "X_encoded_scaled = StandardScaler().fit_transform(X_encoded)"
   ]
  },
  {
   "cell_type": "markdown",
   "metadata": {},
   "source": [
    "## Target"
   ]
  },
  {
   "cell_type": "code",
   "execution_count": 114,
   "metadata": {},
   "outputs": [],
   "source": [
    "y = data['labels']\n",
    "\n",
    "y_categorical = to_categorical(y, 3)"
   ]
  },
  {
   "cell_type": "markdown",
   "metadata": {},
   "source": [
    "## Baseline"
   ]
  },
  {
   "cell_type": "code",
   "execution_count": 115,
   "metadata": {},
   "outputs": [
    {
     "data": {
      "text/plain": [
       "1    0.728433\n",
       "0    0.168726\n",
       "2    0.102840\n",
       "Name: labels, dtype: float64"
      ]
     },
     "execution_count": 115,
     "metadata": {},
     "output_type": "execute_result"
    }
   ],
   "source": [
    "y.value_counts(normalize=True)"
   ]
  },
  {
   "cell_type": "markdown",
   "metadata": {},
   "source": [
    "## Test/Train Split\n"
   ]
  },
  {
   "cell_type": "code",
   "execution_count": 116,
   "metadata": {},
   "outputs": [
    {
     "data": {
      "text/plain": [
       "(18327, 3)"
      ]
     },
     "execution_count": 116,
     "metadata": {},
     "output_type": "execute_result"
    }
   ],
   "source": [
    "X_train, X_test, y_train, y_test = train_test_split(X_encoded_scaled, y_categorical, stratify=y, random_state=13)\n",
    "\n",
    "X_train.shape\n",
    "\n",
    "y_train.shape"
   ]
  },
  {
   "cell_type": "markdown",
   "metadata": {},
   "source": [
    "## Random Forest"
   ]
  },
  {
   "cell_type": "code",
   "execution_count": 117,
   "metadata": {},
   "outputs": [
    {
     "data": {
      "text/plain": [
       "0.999836307087903"
      ]
     },
     "execution_count": 117,
     "metadata": {},
     "output_type": "execute_result"
    }
   ],
   "source": [
    "rf = RandomForestClassifier(n_jobs=-1)\n",
    "rf.fit(X_train, y_train)\n",
    "rf.score(X_test, y_test)"
   ]
  },
  {
   "cell_type": "markdown",
   "metadata": {},
   "source": [
    "### Confusion Matrix Display"
   ]
  },
  {
   "cell_type": "code",
   "execution_count": 118,
   "metadata": {},
   "outputs": [],
   "source": [
    "y_preds = rf.predict(X_test)"
   ]
  },
  {
   "cell_type": "code",
   "execution_count": 119,
   "metadata": {},
   "outputs": [
    {
     "data": {
      "image/png": "[encoded data removed]",
      "text/plain": [
       "<Figure size 432x288 with 2 Axes>"
      ]
     },
     "metadata": {
      "needs_background": "light"
     },
     "output_type": "display_data"
    }
   ],
   "source": [
    "ConfusionMatrixDisplay.from_predictions(y_test.argmax(axis=1), np.rint(y_preds).argmax(axis=1), cmap='Blues')\n",
    ";\n",
    "plt.title(\"Random Forest Confusion Matrix\")\n",
    "plt.savefig('./figures/confusion_matrix_random_forest.png')"
   ]
  },
  {
   "cell_type": "markdown",
   "metadata": {},
   "source": [
    "### Balanced Accuracy Score"
   ]
  },
  {
   "cell_type": "code",
   "execution_count": 120,
   "metadata": {},
   "outputs": [
    {
     "data": {
      "text/plain": [
       "0.9994692144373672"
      ]
     },
     "execution_count": 120,
     "metadata": {},
     "output_type": "execute_result"
    }
   ],
   "source": [
    "balanced_accuracy_score(y_test.argmax(axis=1), y_preds.argmax(axis=1))"
   ]
  },
  {
   "cell_type": "markdown",
   "metadata": {},
   "source": [
    "### Feature Importances"
   ]
  },
  {
   "cell_type": "code",
   "execution_count": 132,
   "metadata": {},
   "outputs": [
    {
     "data": {
      "text/html": [
       "<div>\n",
       "<style scoped>\n",
       "    .dataframe tbody tr th:only-of-type {\n",
       "        vertical-align: middle;\n",
       "    }\n",
       "\n",
       "    .dataframe tbody tr th {\n",
       "        vertical-align: top;\n",
       "    }\n",
       "\n",
       "    .dataframe thead th {\n",
       "        text-align: right;\n",
       "    }\n",
       "</style>\n",
       "<table border=\"1\" class=\"dataframe\">\n",
       "  <thead>\n",
       "    <tr style=\"text-align: right;\">\n",
       "      <th></th>\n",
       "      <th>0</th>\n",
       "      <th>1</th>\n",
       "    </tr>\n",
       "  </thead>\n",
       "  <tbody>\n",
       "    <tr>\n",
       "      <th>150</th>\n",
       "      <td>population</td>\n",
       "      <td>0.130734</td>\n",
       "    </tr>\n",
       "    <tr>\n",
       "      <th>152</th>\n",
       "      <td>pct_AAPI</td>\n",
       "      <td>0.114012</td>\n",
       "    </tr>\n",
       "    <tr>\n",
       "      <th>160</th>\n",
       "      <td>median_hh_income_2017</td>\n",
       "      <td>0.102915</td>\n",
       "    </tr>\n",
       "    <tr>\n",
       "      <th>154</th>\n",
       "      <td>pct_Hispanic</td>\n",
       "      <td>0.094393</td>\n",
       "    </tr>\n",
       "    <tr>\n",
       "      <th>151</th>\n",
       "      <td>pct_Asian</td>\n",
       "      <td>0.091557</td>\n",
       "    </tr>\n",
       "    <tr>\n",
       "      <th>159</th>\n",
       "      <td>pct_u18_poverty_2017</td>\n",
       "      <td>0.088398</td>\n",
       "    </tr>\n",
       "    <tr>\n",
       "      <th>158</th>\n",
       "      <td>pct_unemployed_2018</td>\n",
       "      <td>0.086405</td>\n",
       "    </tr>\n",
       "    <tr>\n",
       "      <th>155</th>\n",
       "      <td>pct_Multi-Racial/Ethnic</td>\n",
       "      <td>0.073845</td>\n",
       "    </tr>\n",
       "    <tr>\n",
       "      <th>156</th>\n",
       "      <td>pct_Hawaiian/ Pacific Island</td>\n",
       "      <td>0.06919</td>\n",
       "    </tr>\n",
       "    <tr>\n",
       "      <th>157</th>\n",
       "      <td>pct_White</td>\n",
       "      <td>0.068141</td>\n",
       "    </tr>\n",
       "  </tbody>\n",
       "</table>\n",
       "</div>"
      ],
      "text/plain": [
       "                                0         1\n",
       "150                    population  0.130734\n",
       "152                      pct_AAPI  0.114012\n",
       "160         median_hh_income_2017  0.102915\n",
       "154                  pct_Hispanic  0.094393\n",
       "151                     pct_Asian  0.091557\n",
       "159          pct_u18_poverty_2017  0.088398\n",
       "158           pct_unemployed_2018  0.086405\n",
       "155       pct_Multi-Racial/Ethnic  0.073845\n",
       "156  pct_Hawaiian/ Pacific Island   0.06919\n",
       "157                     pct_White  0.068141"
      ]
     },
     "execution_count": 132,
     "metadata": {},
     "output_type": "execute_result"
    }
   ],
   "source": [
    "pd.DataFrame([ct.get_feature_names_out(), rf.feature_importances_]).T.sort_values(by=1, ascending=False).head(10)"
   ]
  },
  {
   "cell_type": "markdown",
   "metadata": {},
   "source": [
    "## Extra Trees"
   ]
  },
  {
   "cell_type": "code",
   "execution_count": null,
   "metadata": {},
   "outputs": [
    {
     "data": {
      "text/plain": [
       "0.9996726141758062"
      ]
     },
     "execution_count": 99,
     "metadata": {},
     "output_type": "execute_result"
    }
   ],
   "source": [
    "et = ExtraTreesClassifier(n_jobs=-1)\n",
    "et.fit(X_train, y_train)\n",
    "et.score(X_test, y_test)"
   ]
  },
  {
   "cell_type": "markdown",
   "metadata": {},
   "source": [
    "### Confusion Matrix Display"
   ]
  },
  {
   "cell_type": "code",
   "execution_count": null,
   "metadata": {},
   "outputs": [],
   "source": [
    "y_preds = et.predict(X_test)"
   ]
  },
  {
   "cell_type": "code",
   "execution_count": null,
   "metadata": {},
   "outputs": [
    {
     "data": {
      "image/png": "[encoded data removed]",
      "text/plain": [
       "<Figure size 432x288 with 2 Axes>"
      ]
     },
     "metadata": {
      "needs_background": "light"
     },
     "output_type": "display_data"
    }
   ],
   "source": [
    "ConfusionMatrixDisplay.from_predictions(y_test.argmax(axis=1), np.rint(y_preds).argmax(axis=1), cmap='Blues')\n",
    ";\n",
    "plt.title(\"Extra Trees Confusion Matrix\")\n",
    "plt.savefig('./figures/confusion_matrix_extra_trees.png')"
   ]
  },
  {
   "cell_type": "markdown",
   "metadata": {},
   "source": [
    "### Balanced Accuracy Score"
   ]
  },
  {
   "cell_type": "code",
   "execution_count": null,
   "metadata": {},
   "outputs": [
    {
     "data": {
      "text/plain": [
       "0.9989384288747346"
      ]
     },
     "execution_count": 102,
     "metadata": {},
     "output_type": "execute_result"
    }
   ],
   "source": [
    "balanced_accuracy_score(y_test.argmax(axis=1), y_preds.argmax(axis=1))"
   ]
  },
  {
   "cell_type": "markdown",
   "metadata": {},
   "source": [
    "## RandomizedSearchCV on Extra Trees"
   ]
  },
  {
   "cell_type": "markdown",
   "metadata": {},
   "source": [
    "### Extra Trees"
   ]
  },
  {
   "cell_type": "code",
   "execution_count": null,
   "metadata": {},
   "outputs": [],
   "source": [
    "et = ExtraTreesClassifier()"
   ]
  },
  {
   "cell_type": "code",
   "execution_count": null,
   "metadata": {},
   "outputs": [
    {
     "data": {
      "text/plain": [
       "dict_keys(['bootstrap', 'ccp_alpha', 'class_weight', 'criterion', 'max_depth', 'max_features', 'max_leaf_nodes', 'max_samples', 'min_impurity_decrease', 'min_samples_leaf', 'min_samples_split', 'min_weight_fraction_leaf', 'n_estimators', 'n_jobs', 'oob_score', 'random_state', 'verbose', 'warm_start'])"
      ]
     },
     "execution_count": 104,
     "metadata": {},
     "output_type": "execute_result"
    }
   ],
   "source": [
    "et.get_params().keys()"
   ]
  },
  {
   "cell_type": "code",
   "execution_count": null,
   "metadata": {},
   "outputs": [],
   "source": [
    "params = {\n",
    "    'n_estimators': range(100, 1000)\n",
    "}"
   ]
  },
  {
   "cell_type": "markdown",
   "metadata": {},
   "source": [
    "### RandomizedSearchCV"
   ]
  },
  {
   "cell_type": "code",
   "execution_count": null,
   "metadata": {},
   "outputs": [],
   "source": [
    "# rs = RandomizedSearchCV(\n",
    "#     et,\n",
    "#     params,\n",
    "#     n_jobs=-1\n",
    "# )\n",
    "\n",
    "# rs_result = rs.fit(X_train, y_train)\n",
    "\n",
    "# # Result summary\n",
    "# print(f\"Best score: {rs_result.best_score_}. Used these parameters: {rs_result.best_params_}\")\n",
    "\n",
    "# # This part copied from machine learning mastery prints out all results to check where improvements can be made\n",
    "# means = rs_result.cv_results_['mean_test_score']\n",
    "# stds = rs_result.cv_results_['std_test_score']\n",
    "# params = rs_result.cv_results_['params']\n",
    "# for mean, stdev, param in zip(means, stds, params):\n",
    "#     print(\"%f (%f) with: %r\" % (mean, stdev, param))"
   ]
  },
  {
   "cell_type": "code",
   "execution_count": null,
   "metadata": {},
   "outputs": [],
   "source": [
    "# y_preds = rs_result.best_estimator_.predict(X_test)"
   ]
  },
  {
   "cell_type": "code",
   "execution_count": null,
   "metadata": {},
   "outputs": [],
   "source": [
    "# balanced_accuracy_score(y_test.argmax(axis=1), y_preds.argmax(axis=1))"
   ]
  },
  {
   "cell_type": "code",
   "execution_count": null,
   "metadata": {},
   "outputs": [],
   "source": []
  }
 ],
 "metadata": {
  "interpreter": {
   "hash": "f7a0f9bb49171c226bccce8a0987518af550515ba22b4949d7abe766c3680a51"
  },
  "kernelspec": {
   "display_name": "Python 3.9.7 ('base')",
   "language": "python",
   "name": "python3"
  },
  "language_info": {
   "codemirror_mode": {
    "name": "ipython",
    "version": 3
   },
   "file_extension": ".py",
   "mimetype": "text/x-python",
   "name": "python",
   "nbconvert_exporter": "python",
   "pygments_lexer": "ipython3",
   "version": "3.9.7"
  },
  "orig_nbformat": 4
 },
 "nbformat": 4,
 "nbformat_minor": 2
}
