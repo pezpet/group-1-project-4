{
 "cells": [
  {
   "cell_type": "markdown",
   "metadata": {},
   "source": [
    "## Imports"
   ]
  },
  {
   "cell_type": "code",
   "execution_count": 215,
   "metadata": {},
   "outputs": [],
   "source": [
    "import pandas as pd\n",
    "import numpy as np\n",
    "import seaborn as sns\n",
    "import matplotlib.pyplot as plt\n",
    "\n",
    "from scipy import stats\n",
    "from scipy.stats import chi2_contingency\n",
    "\n",
    "from sklearn.cluster import KMeans\n",
    "from sklearn.compose import make_column_selector, make_column_transformer\n",
    "from sklearn.preprocessing import OneHotEncoder\n"
   ]
  },
  {
   "cell_type": "markdown",
   "metadata": {},
   "source": [
    "## Get raw prosecution data"
   ]
  },
  {
   "cell_type": "code",
   "execution_count": 217,
   "metadata": {},
   "outputs": [
    {
     "data": {
      "text/html": [
       "<div>\n",
       "<style scoped>\n",
       "    .dataframe tbody tr th:only-of-type {\n",
       "        vertical-align: middle;\n",
       "    }\n",
       "\n",
       "    .dataframe tbody tr th {\n",
       "        vertical-align: top;\n",
       "    }\n",
       "\n",
       "    .dataframe thead th {\n",
       "        text-align: right;\n",
       "    }\n",
       "</style>\n",
       "<table border=\"1\" class=\"dataframe\">\n",
       "  <thead>\n",
       "    <tr style=\"text-align: right;\">\n",
       "      <th></th>\n",
       "      <th>Year</th>\n",
       "      <th>Agency Type</th>\n",
       "      <th>Agency Name</th>\n",
       "      <th>Total Hate Crime Cases Referred</th>\n",
       "      <th>Total Cases Filed as Hate Crimes</th>\n",
       "      <th>Total Cases Filed as Non-Bias Motivated Crimes</th>\n",
       "      <th>Total Dispositions</th>\n",
       "      <th>Not Convicted</th>\n",
       "      <th>Total Convictions</th>\n",
       "      <th>Total Hate Crime Convictions</th>\n",
       "      <th>Guilty plea/Nolo contendere</th>\n",
       "      <th>Trial Verdict</th>\n",
       "      <th>All Other Convictions</th>\n",
       "    </tr>\n",
       "  </thead>\n",
       "  <tbody>\n",
       "    <tr>\n",
       "      <th>0</th>\n",
       "      <td>2004</td>\n",
       "      <td>County DA</td>\n",
       "      <td>Alameda</td>\n",
       "      <td>2</td>\n",
       "      <td>2</td>\n",
       "      <td>0</td>\n",
       "      <td>2</td>\n",
       "      <td>1</td>\n",
       "      <td>1</td>\n",
       "      <td>1</td>\n",
       "      <td>1</td>\n",
       "      <td>0</td>\n",
       "      <td>0</td>\n",
       "    </tr>\n",
       "    <tr>\n",
       "      <th>1</th>\n",
       "      <td>2004</td>\n",
       "      <td>County DA</td>\n",
       "      <td>Alpine</td>\n",
       "      <td>0</td>\n",
       "      <td>0</td>\n",
       "      <td>0</td>\n",
       "      <td>0</td>\n",
       "      <td>0</td>\n",
       "      <td>0</td>\n",
       "      <td>0</td>\n",
       "      <td>0</td>\n",
       "      <td>0</td>\n",
       "      <td>0</td>\n",
       "    </tr>\n",
       "    <tr>\n",
       "      <th>2</th>\n",
       "      <td>2004</td>\n",
       "      <td>County DA</td>\n",
       "      <td>Amador</td>\n",
       "      <td>1</td>\n",
       "      <td>1</td>\n",
       "      <td>0</td>\n",
       "      <td>1</td>\n",
       "      <td>0</td>\n",
       "      <td>1</td>\n",
       "      <td>0</td>\n",
       "      <td>0</td>\n",
       "      <td>0</td>\n",
       "      <td>1</td>\n",
       "    </tr>\n",
       "    <tr>\n",
       "      <th>3</th>\n",
       "      <td>2004</td>\n",
       "      <td>County DA</td>\n",
       "      <td>Butte</td>\n",
       "      <td>8</td>\n",
       "      <td>8</td>\n",
       "      <td>2</td>\n",
       "      <td>7</td>\n",
       "      <td>1</td>\n",
       "      <td>6</td>\n",
       "      <td>2</td>\n",
       "      <td>1</td>\n",
       "      <td>1</td>\n",
       "      <td>4</td>\n",
       "    </tr>\n",
       "    <tr>\n",
       "      <th>4</th>\n",
       "      <td>2004</td>\n",
       "      <td>County DA</td>\n",
       "      <td>Calaveras</td>\n",
       "      <td>0</td>\n",
       "      <td>0</td>\n",
       "      <td>0</td>\n",
       "      <td>0</td>\n",
       "      <td>0</td>\n",
       "      <td>0</td>\n",
       "      <td>0</td>\n",
       "      <td>0</td>\n",
       "      <td>0</td>\n",
       "      <td>0</td>\n",
       "    </tr>\n",
       "  </tbody>\n",
       "</table>\n",
       "</div>"
      ],
      "text/plain": [
       "   Year Agency Type Agency Name Total Hate Crime Cases Referred  \\\n",
       "0  2004   County DA     Alameda                               2   \n",
       "1  2004   County DA      Alpine                               0   \n",
       "2  2004   County DA      Amador                               1   \n",
       "3  2004   County DA       Butte                               8   \n",
       "4  2004   County DA   Calaveras                               0   \n",
       "\n",
       "  Total Cases Filed as Hate Crimes  \\\n",
       "0                                2   \n",
       "1                                0   \n",
       "2                                1   \n",
       "3                                8   \n",
       "4                                0   \n",
       "\n",
       "  Total Cases Filed as Non-Bias Motivated Crimes Total Dispositions  \\\n",
       "0                                              0                  2   \n",
       "1                                              0                  0   \n",
       "2                                              0                  1   \n",
       "3                                              2                  7   \n",
       "4                                              0                  0   \n",
       "\n",
       "  Not Convicted Total Convictions Total Hate Crime Convictions  \\\n",
       "0             1                 1                            1   \n",
       "1             0                 0                            0   \n",
       "2             0                 1                            0   \n",
       "3             1                 6                            2   \n",
       "4             0                 0                            0   \n",
       "\n",
       "  Guilty plea/Nolo contendere Trial Verdict All Other Convictions  \n",
       "0                           1             0                     0  \n",
       "1                           0             0                     0  \n",
       "2                           0             0                     1  \n",
       "3                           1             1                     4  \n",
       "4                           0             0                     0  "
      ]
     },
     "execution_count": 217,
     "metadata": {},
     "output_type": "execute_result"
    }
   ],
   "source": [
    "prosecution = pd.read_csv(\"./base_data/Hate-Prosecution-survey-2004-2020.csv\")\n",
    "prosecution.head()\n"
   ]
  },
  {
   "cell_type": "code",
   "execution_count": 218,
   "metadata": {},
   "outputs": [
    {
     "data": {
      "text/plain": [
       "Year                                               int64\n",
       "Agency Type                                       object\n",
       "Agency Name                                       object\n",
       "Total Hate Crime Cases Referred                   object\n",
       "Total Cases Filed as Hate Crimes                  object\n",
       "Total Cases Filed as Non-Bias Motivated Crimes    object\n",
       "Total Dispositions                                object\n",
       "Not Convicted                                     object\n",
       "Total Convictions                                 object\n",
       "Total Hate Crime Convictions                      object\n",
       "Guilty plea/Nolo contendere                       object\n",
       "Trial Verdict                                     object\n",
       "All Other Convictions                             object\n",
       "dtype: object"
      ]
     },
     "execution_count": 218,
     "metadata": {},
     "output_type": "execute_result"
    }
   ],
   "source": [
    "prosecution.dtypes\n"
   ]
  },
  {
   "cell_type": "markdown",
   "metadata": {},
   "source": [
    "## Convert relevant columns to ints"
   ]
  },
  {
   "cell_type": "code",
   "execution_count": 219,
   "metadata": {},
   "outputs": [],
   "source": [
    "# Columns to convert\n",
    "int_cols = [\n",
    "    \"Total Hate Crime Cases Referred\",\n",
    "    \"Total Cases Filed as Hate Crimes\",\n",
    "    \"Total Cases Filed as Non-Bias Motivated Crimes\",\n",
    "    \"Total Dispositions\",\n",
    "    \"Not Convicted\",\n",
    "    \"Total Convictions\",\n",
    "    \"Total Hate Crime Convictions\",\n",
    "    \"Guilty plea/Nolo contendere\",\n",
    "    \"Trial Verdict\",\n",
    "    \"All Other Convictions\",\n",
    "]\n"
   ]
  },
  {
   "cell_type": "code",
   "execution_count": 220,
   "metadata": {},
   "outputs": [],
   "source": [
    "for col in int_cols:\n",
    "    # Change rows with \"-\" to 0\n",
    "    prosecution[col] = prosecution[col].str.replace(\"-\", \"0\")\n",
    "    # Fill NaNs with 0\n",
    "    prosecution[col].fillna(0, inplace=True)\n",
    "    # Change dtype to int\n",
    "    prosecution[col] = prosecution[col].astype(int)\n"
   ]
  },
  {
   "cell_type": "code",
   "execution_count": 221,
   "metadata": {},
   "outputs": [
    {
     "data": {
      "text/plain": [
       "Year                                               int64\n",
       "Agency Type                                       object\n",
       "Agency Name                                       object\n",
       "Total Hate Crime Cases Referred                    int64\n",
       "Total Cases Filed as Hate Crimes                   int64\n",
       "Total Cases Filed as Non-Bias Motivated Crimes     int64\n",
       "Total Dispositions                                 int64\n",
       "Not Convicted                                      int64\n",
       "Total Convictions                                  int64\n",
       "Total Hate Crime Convictions                       int64\n",
       "Guilty plea/Nolo contendere                        int64\n",
       "Trial Verdict                                      int64\n",
       "All Other Convictions                              int64\n",
       "dtype: object"
      ]
     },
     "execution_count": 221,
     "metadata": {},
     "output_type": "execute_result"
    }
   ],
   "source": [
    "# Sanity Check\n",
    "prosecution.dtypes\n"
   ]
  },
  {
   "cell_type": "markdown",
   "metadata": {},
   "source": [
    "## Group data by Agency Name (county) and aggregate for all years"
   ]
  },
  {
   "cell_type": "code",
   "execution_count": 222,
   "metadata": {},
   "outputs": [
    {
     "data": {
      "text/plain": [
       "array(['Alameda', 'Alpine', 'Amador', 'Butte', 'Calaveras', 'Colusa',\n",
       "       'Contra Costa', 'Del Norte', 'El Dorado', 'Fresno', 'Glenn',\n",
       "       'Humboldt', 'Imperial', 'Inyo', 'Kern', 'Kings', 'Lake', 'Lassen',\n",
       "       'Los Angeles', 'Madera', 'Marin', 'Mariposa', 'Mendocino',\n",
       "       'Merced', 'Modoc', 'Mono', 'Monterey', 'Napa', 'Nevada', 'Orange',\n",
       "       'Placer', 'Plumas', 'Riverside', 'Sacramento', 'San Benito',\n",
       "       'San Bernardino', 'San Diego', 'San Francisco', 'San Joaquin',\n",
       "       'San Luis Obispo', 'San Mateo', 'Santa Barbara', 'Santa Clara',\n",
       "       'Santa Cruz', 'Shasta', 'Sierra', 'Siskiyou', 'Solano', 'Sonoma',\n",
       "       'Stanislaus', 'Sutter', 'Tehama', 'Trinity', 'Tulare', 'Tuolumne',\n",
       "       'Ventura', 'Yolo', 'Yuba', 'Anaheim', 'Burbank', 'Inglewood',\n",
       "       'Long Beach', 'Pasadena', 'Torrance', 'Chula Vista', 'Compton',\n",
       "       'Huntington Beach', 'Oakland', 'Redondo Beach', 'San Rafael',\n",
       "       'ContraCosta', 'DelNorte', 'ElDorado', 'LosAngeles', 'SanBenito',\n",
       "       'SanBernardino', 'SanDiego', 'SanFrancisco', 'SanJoaquin',\n",
       "       'SanLuisObispo', 'SanMateo', 'SantaBarbara', 'SantaClara',\n",
       "       'SantaCruz', '  Chula Vista', '  Compton', '  Huntington Beach',\n",
       "       '  Long Beach', '  Los Angeles', '  Oakland', '  Redondo Beach',\n",
       "       '  San Bernardino', '  San Diego', '  San Francisco',\n",
       "       '  San Rafael'], dtype=object)"
      ]
     },
     "execution_count": 222,
     "metadata": {},
     "output_type": "execute_result"
    }
   ],
   "source": [
    "# Look at Agency Name, mostly counties\n",
    "prosecution[\"Agency Name\"].unique()\n"
   ]
  },
  {
   "cell_type": "code",
   "execution_count": 223,
   "metadata": {},
   "outputs": [
    {
     "data": {
      "text/plain": [
       "array(['County DA', 'Elected City Attorney'], dtype=object)"
      ]
     },
     "execution_count": 223,
     "metadata": {},
     "output_type": "execute_result"
    }
   ],
   "source": [
    "prosecution[\"Agency Type\"].unique()\n"
   ]
  },
  {
   "cell_type": "code",
   "execution_count": 224,
   "metadata": {},
   "outputs": [
    {
     "data": {
      "text/plain": [
       "array(['Alameda', 'Alpine', 'Amador', 'Butte', 'Calaveras', 'Colusa',\n",
       "       'ContraCosta', 'DelNorte', 'ElDorado', 'Fresno', 'Glenn',\n",
       "       'Humboldt', 'Imperial', 'Inyo', 'Kern', 'Kings', 'Lake', 'Lassen',\n",
       "       'LosAngeles', 'Madera', 'Marin', 'Mariposa', 'Mendocino', 'Merced',\n",
       "       'Modoc', 'Mono', 'Monterey', 'Napa', 'Nevada', 'Orange', 'Placer',\n",
       "       'Plumas', 'Riverside', 'Sacramento', 'SanBenito', 'SanBernardino',\n",
       "       'SanDiego', 'SanFrancisco', 'SanJoaquin', 'SanLuisObispo',\n",
       "       'SanMateo', 'SantaBarbara', 'SantaClara', 'SantaCruz', 'Shasta',\n",
       "       'Sierra', 'Siskiyou', 'Solano', 'Sonoma', 'Stanislaus', 'Sutter',\n",
       "       'Tehama', 'Trinity', 'Tulare', 'Tuolumne', 'Ventura', 'Yolo',\n",
       "       'Yuba', 'Anaheim', 'Burbank', 'Inglewood', 'LongBeach', 'Pasadena',\n",
       "       'Torrance', 'ChulaVista', 'Compton', 'HuntingtonBeach', 'Oakland',\n",
       "       'RedondoBeach', 'SanRafael'], dtype=object)"
      ]
     },
     "execution_count": 224,
     "metadata": {},
     "output_type": "execute_result"
    }
   ],
   "source": [
    "# Strip spaces in some counties\n",
    "prosecution[\"Agency Name\"] = prosecution[\"Agency Name\"].str.replace(\" \", \"\")\n",
    "prosecution[\"Agency Name\"].unique()\n"
   ]
  },
  {
   "cell_type": "code",
   "execution_count": 225,
   "metadata": {},
   "outputs": [
    {
     "data": {
      "text/plain": [
       "array(['County DA'], dtype=object)"
      ]
     },
     "execution_count": 225,
     "metadata": {},
     "output_type": "execute_result"
    }
   ],
   "source": [
    "# Drop Elected City Attorneys\n",
    "prosecution = prosecution[prosecution[\"Agency Type\"] == \"County DA\"]\n",
    "prosecution[\"Agency Type\"].unique()\n"
   ]
  },
  {
   "cell_type": "code",
   "execution_count": 226,
   "metadata": {},
   "outputs": [],
   "source": [
    "# Groupby and aggregate (sum)\n",
    "prosecution_all_years = prosecution.drop(columns=\"Year\").groupby(by=\"Agency Name\").sum()\n",
    "prosecution_all_years.reset_index(inplace=True)\n"
   ]
  },
  {
   "cell_type": "markdown",
   "metadata": {},
   "source": [
    "## Visualize counties by number of hate crimes referred"
   ]
  },
  {
   "cell_type": "code",
   "execution_count": 227,
   "metadata": {},
   "outputs": [
    {
     "data": {
      "text/html": [
       "<div>\n",
       "<style scoped>\n",
       "    .dataframe tbody tr th:only-of-type {\n",
       "        vertical-align: middle;\n",
       "    }\n",
       "\n",
       "    .dataframe tbody tr th {\n",
       "        vertical-align: top;\n",
       "    }\n",
       "\n",
       "    .dataframe thead th {\n",
       "        text-align: right;\n",
       "    }\n",
       "</style>\n",
       "<table border=\"1\" class=\"dataframe\">\n",
       "  <thead>\n",
       "    <tr style=\"text-align: right;\">\n",
       "      <th></th>\n",
       "      <th>Agency Name</th>\n",
       "      <th>Total Hate Crime Cases Referred</th>\n",
       "      <th>Total Cases Filed as Hate Crimes</th>\n",
       "      <th>Total Cases Filed as Non-Bias Motivated Crimes</th>\n",
       "      <th>Total Dispositions</th>\n",
       "      <th>Not Convicted</th>\n",
       "      <th>Total Convictions</th>\n",
       "      <th>Total Hate Crime Convictions</th>\n",
       "      <th>Guilty plea/Nolo contendere</th>\n",
       "      <th>Trial Verdict</th>\n",
       "      <th>All Other Convictions</th>\n",
       "    </tr>\n",
       "  </thead>\n",
       "  <tbody>\n",
       "    <tr>\n",
       "      <th>18</th>\n",
       "      <td>LosAngeles</td>\n",
       "      <td>1871</td>\n",
       "      <td>1337</td>\n",
       "      <td>176</td>\n",
       "      <td>954</td>\n",
       "      <td>144</td>\n",
       "      <td>810</td>\n",
       "      <td>457</td>\n",
       "      <td>269</td>\n",
       "      <td>188</td>\n",
       "      <td>353</td>\n",
       "    </tr>\n",
       "    <tr>\n",
       "      <th>36</th>\n",
       "      <td>SanDiego</td>\n",
       "      <td>444</td>\n",
       "      <td>295</td>\n",
       "      <td>79</td>\n",
       "      <td>259</td>\n",
       "      <td>5</td>\n",
       "      <td>254</td>\n",
       "      <td>150</td>\n",
       "      <td>144</td>\n",
       "      <td>6</td>\n",
       "      <td>104</td>\n",
       "    </tr>\n",
       "    <tr>\n",
       "      <th>37</th>\n",
       "      <td>SanFrancisco</td>\n",
       "      <td>403</td>\n",
       "      <td>235</td>\n",
       "      <td>57</td>\n",
       "      <td>141</td>\n",
       "      <td>20</td>\n",
       "      <td>121</td>\n",
       "      <td>76</td>\n",
       "      <td>66</td>\n",
       "      <td>10</td>\n",
       "      <td>45</td>\n",
       "    </tr>\n",
       "    <tr>\n",
       "      <th>29</th>\n",
       "      <td>Orange</td>\n",
       "      <td>371</td>\n",
       "      <td>195</td>\n",
       "      <td>73</td>\n",
       "      <td>191</td>\n",
       "      <td>8</td>\n",
       "      <td>183</td>\n",
       "      <td>152</td>\n",
       "      <td>147</td>\n",
       "      <td>5</td>\n",
       "      <td>31</td>\n",
       "    </tr>\n",
       "    <tr>\n",
       "      <th>32</th>\n",
       "      <td>Riverside</td>\n",
       "      <td>335</td>\n",
       "      <td>176</td>\n",
       "      <td>103</td>\n",
       "      <td>179</td>\n",
       "      <td>4</td>\n",
       "      <td>175</td>\n",
       "      <td>94</td>\n",
       "      <td>83</td>\n",
       "      <td>11</td>\n",
       "      <td>81</td>\n",
       "    </tr>\n",
       "    <tr>\n",
       "      <th>42</th>\n",
       "      <td>SantaClara</td>\n",
       "      <td>274</td>\n",
       "      <td>127</td>\n",
       "      <td>74</td>\n",
       "      <td>70</td>\n",
       "      <td>3</td>\n",
       "      <td>67</td>\n",
       "      <td>48</td>\n",
       "      <td>47</td>\n",
       "      <td>1</td>\n",
       "      <td>19</td>\n",
       "    </tr>\n",
       "    <tr>\n",
       "      <th>55</th>\n",
       "      <td>Ventura</td>\n",
       "      <td>179</td>\n",
       "      <td>117</td>\n",
       "      <td>36</td>\n",
       "      <td>70</td>\n",
       "      <td>4</td>\n",
       "      <td>66</td>\n",
       "      <td>56</td>\n",
       "      <td>45</td>\n",
       "      <td>11</td>\n",
       "      <td>10</td>\n",
       "    </tr>\n",
       "    <tr>\n",
       "      <th>0</th>\n",
       "      <td>Alameda</td>\n",
       "      <td>167</td>\n",
       "      <td>116</td>\n",
       "      <td>2</td>\n",
       "      <td>86</td>\n",
       "      <td>11</td>\n",
       "      <td>75</td>\n",
       "      <td>24</td>\n",
       "      <td>24</td>\n",
       "      <td>0</td>\n",
       "      <td>51</td>\n",
       "    </tr>\n",
       "    <tr>\n",
       "      <th>33</th>\n",
       "      <td>Sacramento</td>\n",
       "      <td>141</td>\n",
       "      <td>74</td>\n",
       "      <td>26</td>\n",
       "      <td>52</td>\n",
       "      <td>1</td>\n",
       "      <td>51</td>\n",
       "      <td>30</td>\n",
       "      <td>28</td>\n",
       "      <td>2</td>\n",
       "      <td>21</td>\n",
       "    </tr>\n",
       "    <tr>\n",
       "      <th>44</th>\n",
       "      <td>Shasta</td>\n",
       "      <td>123</td>\n",
       "      <td>91</td>\n",
       "      <td>27</td>\n",
       "      <td>68</td>\n",
       "      <td>15</td>\n",
       "      <td>53</td>\n",
       "      <td>22</td>\n",
       "      <td>22</td>\n",
       "      <td>0</td>\n",
       "      <td>31</td>\n",
       "    </tr>\n",
       "    <tr>\n",
       "      <th>35</th>\n",
       "      <td>SanBernardino</td>\n",
       "      <td>118</td>\n",
       "      <td>98</td>\n",
       "      <td>7</td>\n",
       "      <td>79</td>\n",
       "      <td>7</td>\n",
       "      <td>72</td>\n",
       "      <td>14</td>\n",
       "      <td>14</td>\n",
       "      <td>0</td>\n",
       "      <td>58</td>\n",
       "    </tr>\n",
       "    <tr>\n",
       "      <th>43</th>\n",
       "      <td>SantaCruz</td>\n",
       "      <td>94</td>\n",
       "      <td>47</td>\n",
       "      <td>28</td>\n",
       "      <td>44</td>\n",
       "      <td>6</td>\n",
       "      <td>38</td>\n",
       "      <td>19</td>\n",
       "      <td>19</td>\n",
       "      <td>0</td>\n",
       "      <td>19</td>\n",
       "    </tr>\n",
       "    <tr>\n",
       "      <th>56</th>\n",
       "      <td>Yolo</td>\n",
       "      <td>89</td>\n",
       "      <td>48</td>\n",
       "      <td>24</td>\n",
       "      <td>44</td>\n",
       "      <td>7</td>\n",
       "      <td>37</td>\n",
       "      <td>19</td>\n",
       "      <td>18</td>\n",
       "      <td>1</td>\n",
       "      <td>18</td>\n",
       "    </tr>\n",
       "    <tr>\n",
       "      <th>6</th>\n",
       "      <td>ContraCosta</td>\n",
       "      <td>85</td>\n",
       "      <td>80</td>\n",
       "      <td>12</td>\n",
       "      <td>75</td>\n",
       "      <td>25</td>\n",
       "      <td>50</td>\n",
       "      <td>15</td>\n",
       "      <td>14</td>\n",
       "      <td>1</td>\n",
       "      <td>35</td>\n",
       "    </tr>\n",
       "    <tr>\n",
       "      <th>39</th>\n",
       "      <td>SanLuisObispo</td>\n",
       "      <td>77</td>\n",
       "      <td>55</td>\n",
       "      <td>17</td>\n",
       "      <td>31</td>\n",
       "      <td>11</td>\n",
       "      <td>20</td>\n",
       "      <td>14</td>\n",
       "      <td>14</td>\n",
       "      <td>0</td>\n",
       "      <td>6</td>\n",
       "    </tr>\n",
       "    <tr>\n",
       "      <th>40</th>\n",
       "      <td>SanMateo</td>\n",
       "      <td>75</td>\n",
       "      <td>50</td>\n",
       "      <td>1</td>\n",
       "      <td>35</td>\n",
       "      <td>5</td>\n",
       "      <td>30</td>\n",
       "      <td>16</td>\n",
       "      <td>15</td>\n",
       "      <td>1</td>\n",
       "      <td>14</td>\n",
       "    </tr>\n",
       "    <tr>\n",
       "      <th>26</th>\n",
       "      <td>Monterey</td>\n",
       "      <td>64</td>\n",
       "      <td>42</td>\n",
       "      <td>14</td>\n",
       "      <td>37</td>\n",
       "      <td>1</td>\n",
       "      <td>36</td>\n",
       "      <td>20</td>\n",
       "      <td>19</td>\n",
       "      <td>1</td>\n",
       "      <td>16</td>\n",
       "    </tr>\n",
       "    <tr>\n",
       "      <th>3</th>\n",
       "      <td>Butte</td>\n",
       "      <td>61</td>\n",
       "      <td>34</td>\n",
       "      <td>19</td>\n",
       "      <td>21</td>\n",
       "      <td>2</td>\n",
       "      <td>19</td>\n",
       "      <td>10</td>\n",
       "      <td>9</td>\n",
       "      <td>1</td>\n",
       "      <td>9</td>\n",
       "    </tr>\n",
       "    <tr>\n",
       "      <th>38</th>\n",
       "      <td>SanJoaquin</td>\n",
       "      <td>60</td>\n",
       "      <td>52</td>\n",
       "      <td>3</td>\n",
       "      <td>33</td>\n",
       "      <td>3</td>\n",
       "      <td>30</td>\n",
       "      <td>14</td>\n",
       "      <td>13</td>\n",
       "      <td>1</td>\n",
       "      <td>16</td>\n",
       "    </tr>\n",
       "    <tr>\n",
       "      <th>9</th>\n",
       "      <td>Fresno</td>\n",
       "      <td>56</td>\n",
       "      <td>51</td>\n",
       "      <td>10</td>\n",
       "      <td>39</td>\n",
       "      <td>5</td>\n",
       "      <td>34</td>\n",
       "      <td>16</td>\n",
       "      <td>13</td>\n",
       "      <td>3</td>\n",
       "      <td>18</td>\n",
       "    </tr>\n",
       "  </tbody>\n",
       "</table>\n",
       "</div>"
      ],
      "text/plain": [
       "      Agency Name  Total Hate Crime Cases Referred  \\\n",
       "18     LosAngeles                             1871   \n",
       "36       SanDiego                              444   \n",
       "37   SanFrancisco                              403   \n",
       "29         Orange                              371   \n",
       "32      Riverside                              335   \n",
       "42     SantaClara                              274   \n",
       "55        Ventura                              179   \n",
       "0         Alameda                              167   \n",
       "33     Sacramento                              141   \n",
       "44         Shasta                              123   \n",
       "35  SanBernardino                              118   \n",
       "43      SantaCruz                               94   \n",
       "56           Yolo                               89   \n",
       "6     ContraCosta                               85   \n",
       "39  SanLuisObispo                               77   \n",
       "40       SanMateo                               75   \n",
       "26       Monterey                               64   \n",
       "3           Butte                               61   \n",
       "38     SanJoaquin                               60   \n",
       "9          Fresno                               56   \n",
       "\n",
       "    Total Cases Filed as Hate Crimes  \\\n",
       "18                              1337   \n",
       "36                               295   \n",
       "37                               235   \n",
       "29                               195   \n",
       "32                               176   \n",
       "42                               127   \n",
       "55                               117   \n",
       "0                                116   \n",
       "33                                74   \n",
       "44                                91   \n",
       "35                                98   \n",
       "43                                47   \n",
       "56                                48   \n",
       "6                                 80   \n",
       "39                                55   \n",
       "40                                50   \n",
       "26                                42   \n",
       "3                                 34   \n",
       "38                                52   \n",
       "9                                 51   \n",
       "\n",
       "    Total Cases Filed as Non-Bias Motivated Crimes  Total Dispositions  \\\n",
       "18                                             176                 954   \n",
       "36                                              79                 259   \n",
       "37                                              57                 141   \n",
       "29                                              73                 191   \n",
       "32                                             103                 179   \n",
       "42                                              74                  70   \n",
       "55                                              36                  70   \n",
       "0                                                2                  86   \n",
       "33                                              26                  52   \n",
       "44                                              27                  68   \n",
       "35                                               7                  79   \n",
       "43                                              28                  44   \n",
       "56                                              24                  44   \n",
       "6                                               12                  75   \n",
       "39                                              17                  31   \n",
       "40                                               1                  35   \n",
       "26                                              14                  37   \n",
       "3                                               19                  21   \n",
       "38                                               3                  33   \n",
       "9                                               10                  39   \n",
       "\n",
       "    Not Convicted  Total Convictions  Total Hate Crime Convictions  \\\n",
       "18            144                810                           457   \n",
       "36              5                254                           150   \n",
       "37             20                121                            76   \n",
       "29              8                183                           152   \n",
       "32              4                175                            94   \n",
       "42              3                 67                            48   \n",
       "55              4                 66                            56   \n",
       "0              11                 75                            24   \n",
       "33              1                 51                            30   \n",
       "44             15                 53                            22   \n",
       "35              7                 72                            14   \n",
       "43              6                 38                            19   \n",
       "56              7                 37                            19   \n",
       "6              25                 50                            15   \n",
       "39             11                 20                            14   \n",
       "40              5                 30                            16   \n",
       "26              1                 36                            20   \n",
       "3               2                 19                            10   \n",
       "38              3                 30                            14   \n",
       "9               5                 34                            16   \n",
       "\n",
       "    Guilty plea/Nolo contendere  Trial Verdict  All Other Convictions  \n",
       "18                          269            188                    353  \n",
       "36                          144              6                    104  \n",
       "37                           66             10                     45  \n",
       "29                          147              5                     31  \n",
       "32                           83             11                     81  \n",
       "42                           47              1                     19  \n",
       "55                           45             11                     10  \n",
       "0                            24              0                     51  \n",
       "33                           28              2                     21  \n",
       "44                           22              0                     31  \n",
       "35                           14              0                     58  \n",
       "43                           19              0                     19  \n",
       "56                           18              1                     18  \n",
       "6                            14              1                     35  \n",
       "39                           14              0                      6  \n",
       "40                           15              1                     14  \n",
       "26                           19              1                     16  \n",
       "3                             9              1                      9  \n",
       "38                           13              1                     16  \n",
       "9                            13              3                     18  "
      ]
     },
     "execution_count": 227,
     "metadata": {},
     "output_type": "execute_result"
    }
   ],
   "source": [
    "# See counties with most Hate Crimes\n",
    "prosecution_all_years.sort_values(\n",
    "    by=\"Total Hate Crime Cases Referred\", ascending=False\n",
    ").head(20)\n"
   ]
  },
  {
   "cell_type": "code",
   "execution_count": 228,
   "metadata": {},
   "outputs": [
    {
     "data": {
      "text/plain": [
       "''"
      ]
     },
     "execution_count": 228,
     "metadata": {},
     "output_type": "execute_result"
    },
    {
     "data": {
      "image/png": "[encoded data removed]",
      "text/plain": [
       "<Figure size 432x288 with 1 Axes>"
      ]
     },
     "metadata": {
      "needs_background": "light"
     },
     "output_type": "display_data"
    }
   ],
   "source": [
    "# Visualize top 20 counties\n",
    "sns.histplot(\n",
    "    prosecution_all_years.sort_values(\n",
    "        by=\"Total Hate Crime Cases Referred\", ascending=False\n",
    "    ).head(20),\n",
    "    x=\"Agency Name\",\n",
    "    y=\"Total Hate Crime Cases Referred\",\n",
    ")\n",
    ";\n"
   ]
  },
  {
   "cell_type": "markdown",
   "metadata": {},
   "source": [
    "## Save Clean Prosecution Data\n",
    "Aggregated by Year"
   ]
  },
  {
   "cell_type": "code",
   "execution_count": 229,
   "metadata": {},
   "outputs": [],
   "source": [
    "prosecution_all_years.to_csv(\"./data/prosecution_all_years.csv\", index=False)\n"
   ]
  },
  {
   "cell_type": "markdown",
   "metadata": {},
   "source": [
    "## Create Prosecution Rate column\n",
    "This will be our target"
   ]
  },
  {
   "cell_type": "code",
   "execution_count": 230,
   "metadata": {},
   "outputs": [],
   "source": [
    "prosecution_all_years[\"prosecution-rate\"] = prosecution_all_years[\n",
    "    \"Total Dispositions\"\n",
    "].astype(int) / prosecution_all_years[\"Total Hate Crime Cases Referred\"].astype(int)\n"
   ]
  },
  {
   "cell_type": "markdown",
   "metadata": {},
   "source": [
    "## Visualize Prosecution Rates"
   ]
  },
  {
   "cell_type": "code",
   "execution_count": 231,
   "metadata": {},
   "outputs": [
    {
     "data": {
      "text/html": [
       "<div>\n",
       "<style scoped>\n",
       "    .dataframe tbody tr th:only-of-type {\n",
       "        vertical-align: middle;\n",
       "    }\n",
       "\n",
       "    .dataframe tbody tr th {\n",
       "        vertical-align: top;\n",
       "    }\n",
       "\n",
       "    .dataframe thead th {\n",
       "        text-align: right;\n",
       "    }\n",
       "</style>\n",
       "<table border=\"1\" class=\"dataframe\">\n",
       "  <thead>\n",
       "    <tr style=\"text-align: right;\">\n",
       "      <th></th>\n",
       "      <th>Agency Name</th>\n",
       "      <th>Total Hate Crime Cases Referred</th>\n",
       "      <th>Total Cases Filed as Hate Crimes</th>\n",
       "      <th>Total Cases Filed as Non-Bias Motivated Crimes</th>\n",
       "      <th>Total Dispositions</th>\n",
       "      <th>Not Convicted</th>\n",
       "      <th>Total Convictions</th>\n",
       "      <th>Total Hate Crime Convictions</th>\n",
       "      <th>Guilty plea/Nolo contendere</th>\n",
       "      <th>Trial Verdict</th>\n",
       "      <th>All Other Convictions</th>\n",
       "      <th>prosecution-rate</th>\n",
       "    </tr>\n",
       "  </thead>\n",
       "  <tbody>\n",
       "    <tr>\n",
       "      <th>14</th>\n",
       "      <td>Kern</td>\n",
       "      <td>43</td>\n",
       "      <td>77</td>\n",
       "      <td>7</td>\n",
       "      <td>64</td>\n",
       "      <td>3</td>\n",
       "      <td>61</td>\n",
       "      <td>19</td>\n",
       "      <td>19</td>\n",
       "      <td>0</td>\n",
       "      <td>42</td>\n",
       "      <td>1.488372</td>\n",
       "    </tr>\n",
       "    <tr>\n",
       "      <th>10</th>\n",
       "      <td>Glenn</td>\n",
       "      <td>7</td>\n",
       "      <td>7</td>\n",
       "      <td>0</td>\n",
       "      <td>10</td>\n",
       "      <td>0</td>\n",
       "      <td>10</td>\n",
       "      <td>5</td>\n",
       "      <td>5</td>\n",
       "      <td>0</td>\n",
       "      <td>5</td>\n",
       "      <td>1.428571</td>\n",
       "    </tr>\n",
       "    <tr>\n",
       "      <th>13</th>\n",
       "      <td>Inyo</td>\n",
       "      <td>11</td>\n",
       "      <td>8</td>\n",
       "      <td>2</td>\n",
       "      <td>12</td>\n",
       "      <td>0</td>\n",
       "      <td>12</td>\n",
       "      <td>4</td>\n",
       "      <td>4</td>\n",
       "      <td>0</td>\n",
       "      <td>8</td>\n",
       "      <td>1.090909</td>\n",
       "    </tr>\n",
       "    <tr>\n",
       "      <th>4</th>\n",
       "      <td>Calaveras</td>\n",
       "      <td>4</td>\n",
       "      <td>4</td>\n",
       "      <td>0</td>\n",
       "      <td>4</td>\n",
       "      <td>1</td>\n",
       "      <td>3</td>\n",
       "      <td>0</td>\n",
       "      <td>0</td>\n",
       "      <td>0</td>\n",
       "      <td>3</td>\n",
       "      <td>1.000000</td>\n",
       "    </tr>\n",
       "    <tr>\n",
       "      <th>6</th>\n",
       "      <td>ContraCosta</td>\n",
       "      <td>85</td>\n",
       "      <td>80</td>\n",
       "      <td>12</td>\n",
       "      <td>75</td>\n",
       "      <td>25</td>\n",
       "      <td>50</td>\n",
       "      <td>15</td>\n",
       "      <td>14</td>\n",
       "      <td>1</td>\n",
       "      <td>35</td>\n",
       "      <td>0.882353</td>\n",
       "    </tr>\n",
       "    <tr>\n",
       "      <th>54</th>\n",
       "      <td>Tuolumne</td>\n",
       "      <td>7</td>\n",
       "      <td>4</td>\n",
       "      <td>0</td>\n",
       "      <td>6</td>\n",
       "      <td>0</td>\n",
       "      <td>6</td>\n",
       "      <td>5</td>\n",
       "      <td>5</td>\n",
       "      <td>0</td>\n",
       "      <td>1</td>\n",
       "      <td>0.857143</td>\n",
       "    </tr>\n",
       "    <tr>\n",
       "      <th>2</th>\n",
       "      <td>Amador</td>\n",
       "      <td>5</td>\n",
       "      <td>5</td>\n",
       "      <td>0</td>\n",
       "      <td>4</td>\n",
       "      <td>0</td>\n",
       "      <td>4</td>\n",
       "      <td>2</td>\n",
       "      <td>2</td>\n",
       "      <td>0</td>\n",
       "      <td>2</td>\n",
       "      <td>0.800000</td>\n",
       "    </tr>\n",
       "    <tr>\n",
       "      <th>50</th>\n",
       "      <td>Sutter</td>\n",
       "      <td>5</td>\n",
       "      <td>3</td>\n",
       "      <td>1</td>\n",
       "      <td>4</td>\n",
       "      <td>0</td>\n",
       "      <td>4</td>\n",
       "      <td>1</td>\n",
       "      <td>1</td>\n",
       "      <td>0</td>\n",
       "      <td>3</td>\n",
       "      <td>0.800000</td>\n",
       "    </tr>\n",
       "    <tr>\n",
       "      <th>9</th>\n",
       "      <td>Fresno</td>\n",
       "      <td>56</td>\n",
       "      <td>51</td>\n",
       "      <td>10</td>\n",
       "      <td>39</td>\n",
       "      <td>5</td>\n",
       "      <td>34</td>\n",
       "      <td>16</td>\n",
       "      <td>13</td>\n",
       "      <td>3</td>\n",
       "      <td>18</td>\n",
       "      <td>0.696429</td>\n",
       "    </tr>\n",
       "    <tr>\n",
       "      <th>35</th>\n",
       "      <td>SanBernardino</td>\n",
       "      <td>118</td>\n",
       "      <td>98</td>\n",
       "      <td>7</td>\n",
       "      <td>79</td>\n",
       "      <td>7</td>\n",
       "      <td>72</td>\n",
       "      <td>14</td>\n",
       "      <td>14</td>\n",
       "      <td>0</td>\n",
       "      <td>58</td>\n",
       "      <td>0.669492</td>\n",
       "    </tr>\n",
       "    <tr>\n",
       "      <th>46</th>\n",
       "      <td>Siskiyou</td>\n",
       "      <td>6</td>\n",
       "      <td>6</td>\n",
       "      <td>0</td>\n",
       "      <td>4</td>\n",
       "      <td>2</td>\n",
       "      <td>2</td>\n",
       "      <td>1</td>\n",
       "      <td>1</td>\n",
       "      <td>0</td>\n",
       "      <td>1</td>\n",
       "      <td>0.666667</td>\n",
       "    </tr>\n",
       "    <tr>\n",
       "      <th>12</th>\n",
       "      <td>Imperial</td>\n",
       "      <td>3</td>\n",
       "      <td>1</td>\n",
       "      <td>0</td>\n",
       "      <td>2</td>\n",
       "      <td>0</td>\n",
       "      <td>2</td>\n",
       "      <td>2</td>\n",
       "      <td>2</td>\n",
       "      <td>0</td>\n",
       "      <td>0</td>\n",
       "      <td>0.666667</td>\n",
       "    </tr>\n",
       "    <tr>\n",
       "      <th>48</th>\n",
       "      <td>Sonoma</td>\n",
       "      <td>46</td>\n",
       "      <td>29</td>\n",
       "      <td>8</td>\n",
       "      <td>30</td>\n",
       "      <td>6</td>\n",
       "      <td>24</td>\n",
       "      <td>12</td>\n",
       "      <td>12</td>\n",
       "      <td>0</td>\n",
       "      <td>12</td>\n",
       "      <td>0.652174</td>\n",
       "    </tr>\n",
       "    <tr>\n",
       "      <th>49</th>\n",
       "      <td>Stanislaus</td>\n",
       "      <td>23</td>\n",
       "      <td>16</td>\n",
       "      <td>2</td>\n",
       "      <td>15</td>\n",
       "      <td>1</td>\n",
       "      <td>14</td>\n",
       "      <td>4</td>\n",
       "      <td>4</td>\n",
       "      <td>0</td>\n",
       "      <td>10</td>\n",
       "      <td>0.652174</td>\n",
       "    </tr>\n",
       "    <tr>\n",
       "      <th>15</th>\n",
       "      <td>Kings</td>\n",
       "      <td>23</td>\n",
       "      <td>14</td>\n",
       "      <td>7</td>\n",
       "      <td>15</td>\n",
       "      <td>0</td>\n",
       "      <td>15</td>\n",
       "      <td>11</td>\n",
       "      <td>11</td>\n",
       "      <td>0</td>\n",
       "      <td>4</td>\n",
       "      <td>0.652174</td>\n",
       "    </tr>\n",
       "    <tr>\n",
       "      <th>7</th>\n",
       "      <td>DelNorte</td>\n",
       "      <td>11</td>\n",
       "      <td>5</td>\n",
       "      <td>7</td>\n",
       "      <td>7</td>\n",
       "      <td>0</td>\n",
       "      <td>7</td>\n",
       "      <td>4</td>\n",
       "      <td>4</td>\n",
       "      <td>0</td>\n",
       "      <td>3</td>\n",
       "      <td>0.636364</td>\n",
       "    </tr>\n",
       "    <tr>\n",
       "      <th>17</th>\n",
       "      <td>Lassen</td>\n",
       "      <td>5</td>\n",
       "      <td>0</td>\n",
       "      <td>3</td>\n",
       "      <td>3</td>\n",
       "      <td>0</td>\n",
       "      <td>3</td>\n",
       "      <td>0</td>\n",
       "      <td>0</td>\n",
       "      <td>0</td>\n",
       "      <td>3</td>\n",
       "      <td>0.600000</td>\n",
       "    </tr>\n",
       "    <tr>\n",
       "      <th>36</th>\n",
       "      <td>SanDiego</td>\n",
       "      <td>444</td>\n",
       "      <td>295</td>\n",
       "      <td>79</td>\n",
       "      <td>259</td>\n",
       "      <td>5</td>\n",
       "      <td>254</td>\n",
       "      <td>150</td>\n",
       "      <td>144</td>\n",
       "      <td>6</td>\n",
       "      <td>104</td>\n",
       "      <td>0.583333</td>\n",
       "    </tr>\n",
       "    <tr>\n",
       "      <th>26</th>\n",
       "      <td>Monterey</td>\n",
       "      <td>64</td>\n",
       "      <td>42</td>\n",
       "      <td>14</td>\n",
       "      <td>37</td>\n",
       "      <td>1</td>\n",
       "      <td>36</td>\n",
       "      <td>20</td>\n",
       "      <td>19</td>\n",
       "      <td>1</td>\n",
       "      <td>16</td>\n",
       "      <td>0.578125</td>\n",
       "    </tr>\n",
       "    <tr>\n",
       "      <th>19</th>\n",
       "      <td>Madera</td>\n",
       "      <td>7</td>\n",
       "      <td>6</td>\n",
       "      <td>1</td>\n",
       "      <td>4</td>\n",
       "      <td>1</td>\n",
       "      <td>3</td>\n",
       "      <td>2</td>\n",
       "      <td>2</td>\n",
       "      <td>0</td>\n",
       "      <td>1</td>\n",
       "      <td>0.571429</td>\n",
       "    </tr>\n",
       "  </tbody>\n",
       "</table>\n",
       "</div>"
      ],
      "text/plain": [
       "      Agency Name  Total Hate Crime Cases Referred  \\\n",
       "14           Kern                               43   \n",
       "10          Glenn                                7   \n",
       "13           Inyo                               11   \n",
       "4       Calaveras                                4   \n",
       "6     ContraCosta                               85   \n",
       "54       Tuolumne                                7   \n",
       "2          Amador                                5   \n",
       "50         Sutter                                5   \n",
       "9          Fresno                               56   \n",
       "35  SanBernardino                              118   \n",
       "46       Siskiyou                                6   \n",
       "12       Imperial                                3   \n",
       "48         Sonoma                               46   \n",
       "49     Stanislaus                               23   \n",
       "15          Kings                               23   \n",
       "7        DelNorte                               11   \n",
       "17         Lassen                                5   \n",
       "36       SanDiego                              444   \n",
       "26       Monterey                               64   \n",
       "19         Madera                                7   \n",
       "\n",
       "    Total Cases Filed as Hate Crimes  \\\n",
       "14                                77   \n",
       "10                                 7   \n",
       "13                                 8   \n",
       "4                                  4   \n",
       "6                                 80   \n",
       "54                                 4   \n",
       "2                                  5   \n",
       "50                                 3   \n",
       "9                                 51   \n",
       "35                                98   \n",
       "46                                 6   \n",
       "12                                 1   \n",
       "48                                29   \n",
       "49                                16   \n",
       "15                                14   \n",
       "7                                  5   \n",
       "17                                 0   \n",
       "36                               295   \n",
       "26                                42   \n",
       "19                                 6   \n",
       "\n",
       "    Total Cases Filed as Non-Bias Motivated Crimes  Total Dispositions  \\\n",
       "14                                               7                  64   \n",
       "10                                               0                  10   \n",
       "13                                               2                  12   \n",
       "4                                                0                   4   \n",
       "6                                               12                  75   \n",
       "54                                               0                   6   \n",
       "2                                                0                   4   \n",
       "50                                               1                   4   \n",
       "9                                               10                  39   \n",
       "35                                               7                  79   \n",
       "46                                               0                   4   \n",
       "12                                               0                   2   \n",
       "48                                               8                  30   \n",
       "49                                               2                  15   \n",
       "15                                               7                  15   \n",
       "7                                                7                   7   \n",
       "17                                               3                   3   \n",
       "36                                              79                 259   \n",
       "26                                              14                  37   \n",
       "19                                               1                   4   \n",
       "\n",
       "    Not Convicted  Total Convictions  Total Hate Crime Convictions  \\\n",
       "14              3                 61                            19   \n",
       "10              0                 10                             5   \n",
       "13              0                 12                             4   \n",
       "4               1                  3                             0   \n",
       "6              25                 50                            15   \n",
       "54              0                  6                             5   \n",
       "2               0                  4                             2   \n",
       "50              0                  4                             1   \n",
       "9               5                 34                            16   \n",
       "35              7                 72                            14   \n",
       "46              2                  2                             1   \n",
       "12              0                  2                             2   \n",
       "48              6                 24                            12   \n",
       "49              1                 14                             4   \n",
       "15              0                 15                            11   \n",
       "7               0                  7                             4   \n",
       "17              0                  3                             0   \n",
       "36              5                254                           150   \n",
       "26              1                 36                            20   \n",
       "19              1                  3                             2   \n",
       "\n",
       "    Guilty plea/Nolo contendere  Trial Verdict  All Other Convictions  \\\n",
       "14                           19              0                     42   \n",
       "10                            5              0                      5   \n",
       "13                            4              0                      8   \n",
       "4                             0              0                      3   \n",
       "6                            14              1                     35   \n",
       "54                            5              0                      1   \n",
       "2                             2              0                      2   \n",
       "50                            1              0                      3   \n",
       "9                            13              3                     18   \n",
       "35                           14              0                     58   \n",
       "46                            1              0                      1   \n",
       "12                            2              0                      0   \n",
       "48                           12              0                     12   \n",
       "49                            4              0                     10   \n",
       "15                           11              0                      4   \n",
       "7                             4              0                      3   \n",
       "17                            0              0                      3   \n",
       "36                          144              6                    104   \n",
       "26                           19              1                     16   \n",
       "19                            2              0                      1   \n",
       "\n",
       "    prosecution-rate  \n",
       "14          1.488372  \n",
       "10          1.428571  \n",
       "13          1.090909  \n",
       "4           1.000000  \n",
       "6           0.882353  \n",
       "54          0.857143  \n",
       "2           0.800000  \n",
       "50          0.800000  \n",
       "9           0.696429  \n",
       "35          0.669492  \n",
       "46          0.666667  \n",
       "12          0.666667  \n",
       "48          0.652174  \n",
       "49          0.652174  \n",
       "15          0.652174  \n",
       "7           0.636364  \n",
       "17          0.600000  \n",
       "36          0.583333  \n",
       "26          0.578125  \n",
       "19          0.571429  "
      ]
     },
     "execution_count": 231,
     "metadata": {},
     "output_type": "execute_result"
    }
   ],
   "source": [
    "prosecution_all_years.sort_values(by=\"prosecution-rate\", ascending=False).head(20)\n"
   ]
  },
  {
   "cell_type": "code",
   "execution_count": 232,
   "metadata": {},
   "outputs": [
    {
     "data": {
      "text/plain": [
       "''"
      ]
     },
     "execution_count": 232,
     "metadata": {},
     "output_type": "execute_result"
    },
    {
     "data": {
      "image/png": "[encoded data removed]",
      "text/plain": [
       "<Figure size 432x288 with 1 Axes>"
      ]
     },
     "metadata": {
      "needs_background": "light"
     },
     "output_type": "display_data"
    }
   ],
   "source": [
    "sns.histplot(prosecution_all_years[\"prosecution-rate\"])\n",
    "plt.title('Prosecution Rate by County Distribution')\n",
    "plt.xlabel('Prosecution Rate')\n",
    "plt.savefig('./figures/prosecution-rate-hist.png')\n",
    ";\n"
   ]
  },
  {
   "cell_type": "markdown",
   "metadata": {},
   "source": [
    "These look normally distributed"
   ]
  },
  {
   "cell_type": "markdown",
   "metadata": {},
   "source": [
    "## Create Target variable by mapping prosecution rates to three categories\n",
    "0 - Prosecution not likely\n",
    "\n",
    "1 - Prosecution likely\n",
    "\n",
    "2 - Prosecution very likely"
   ]
  },
  {
   "cell_type": "code",
   "execution_count": 233,
   "metadata": {},
   "outputs": [
    {
     "data": {
      "text/plain": [
       "count    52.000000\n",
       "mean      0.549941\n",
       "std       0.282699\n",
       "min       0.000000\n",
       "25%       0.390518\n",
       "50%       0.531315\n",
       "75%       0.652174\n",
       "max       1.488372\n",
       "Name: prosecution-rate, dtype: float64"
      ]
     },
     "execution_count": 233,
     "metadata": {},
     "output_type": "execute_result"
    }
   ],
   "source": [
    "# Check distribution for mapping\n",
    "prosecution_all_years[\"prosecution-rate\"].describe()\n"
   ]
  },
  {
   "cell_type": "code",
   "execution_count": 234,
   "metadata": {},
   "outputs": [],
   "source": [
    "# With help from https://stackoverflow.com/questions/33439434/multiple-if-statements-in-a-lambda-function\n",
    "prosecution_all_years[\"labels\"] = prosecution_all_years[\"prosecution-rate\"].map(\n",
    "    lambda x: 0\n",
    "    if x < prosecution_all_years[\"prosecution-rate\"].describe()[\"25%\"]\n",
    "    else 1\n",
    "    if x < prosecution_all_years[\"prosecution-rate\"].describe()[\"75%\"]\n",
    "    else 2\n",
    ")\n"
   ]
  },
  {
   "cell_type": "code",
   "execution_count": 235,
   "metadata": {},
   "outputs": [
    {
     "data": {
      "text/plain": [
       "1    24\n",
       "2    21\n",
       "0    13\n",
       "Name: labels, dtype: int64"
      ]
     },
     "execution_count": 235,
     "metadata": {},
     "output_type": "execute_result"
    }
   ],
   "source": [
    "prosecution_all_years[\"labels\"].value_counts()\n"
   ]
  },
  {
   "cell_type": "markdown",
   "metadata": {},
   "source": [
    "## Save Target DataFrames to add to hate crimes data later"
   ]
  },
  {
   "cell_type": "code",
   "execution_count": 236,
   "metadata": {},
   "outputs": [],
   "source": [
    "prosecution_labels = prosecution_all_years[[\"Agency Name\", \"labels\"]]\n"
   ]
  },
  {
   "cell_type": "code",
   "execution_count": 237,
   "metadata": {},
   "outputs": [],
   "source": [
    "prosecution_rates = prosecution_all_years[[\"Agency Name\", \"prosecution-rate\"]]\n"
   ]
  },
  {
   "cell_type": "markdown",
   "metadata": {},
   "source": [
    "## Import Hate Crimes Data cleaned by Courtney"
   ]
  },
  {
   "cell_type": "code",
   "execution_count": 241,
   "metadata": {},
   "outputs": [
    {
     "data": {
      "text/plain": [
       "Index(['ClosedYear', 'MonthOccurrence', 'County', 'NCIC',\n",
       "       'TotalNumberOfVictims', 'TotalNumberOfIndividualVictims',\n",
       "       'SuspectsRaceAsAGroup', 'TotalNumberOfSuspects', 'MostSeriousUcr',\n",
       "       'MostSeriousUcrType', 'MostSeriousLocation', 'MostSeriousBias',\n",
       "       'MostSeriousBiasType', 'MostSeriousVictimType', 'WeaponType',\n",
       "       'Offensive_Act'],\n",
       "      dtype='object')"
      ]
     },
     "execution_count": 241,
     "metadata": {},
     "output_type": "execute_result"
    }
   ],
   "source": [
    "full_data = pd.read_csv(\"./data/cleaned_hate_crimes.csv\", index_col=0)\n",
    "full_data.columns\n"
   ]
  },
  {
   "cell_type": "markdown",
   "metadata": {},
   "source": [
    "### Clean County Names"
   ]
  },
  {
   "cell_type": "code",
   "execution_count": 243,
   "metadata": {},
   "outputs": [
    {
     "data": {
      "text/plain": [
       "array(['Alameda', 'Butte', 'ContraCosta', 'DelNorte', 'Fresno',\n",
       "       'Humboldt', 'Imperial', 'Kern', 'Lake', 'LosAngeles', 'Madera',\n",
       "       'Marin', 'Mariposa', 'Mendocino', 'Merced', 'Mono', 'Monterey',\n",
       "       'Napa', 'Nevada', 'Orange', 'Placer', 'Riverside', 'Sacramento',\n",
       "       'SanBernardino', 'SanDiego', 'SanFrancisco', 'SanJoaquin',\n",
       "       'SanLuisObispo', 'SanMateo', 'SantaBarbara', 'SantaClara',\n",
       "       'SantaCruz', 'Shasta', 'Solano', 'Sonoma', 'Stanislaus', 'Sutter',\n",
       "       'Tehama', 'Tuolumne', 'Ventura', 'Yolo', 'Yuba', 'Calaveras',\n",
       "       'ElDorado', 'Kings', 'Modoc', 'Siskiyou', 'Trinity', 'Plumas',\n",
       "       'SanBenito', 'Tulare', 'Amador', 'Lassen', 'Inyo', 'Colusa',\n",
       "       'Glenn', 'Alpine'], dtype=object)"
      ]
     },
     "execution_count": 243,
     "metadata": {},
     "output_type": "execute_result"
    }
   ],
   "source": [
    "# Check for County vs. Agency Name compatibility\n",
    "full_data['County'].unique()"
   ]
  },
  {
   "cell_type": "code",
   "execution_count": 244,
   "metadata": {},
   "outputs": [
    {
     "data": {
      "text/plain": [
       "array(['Alameda', 'Butte', 'ContraCosta', 'DelNorte', 'Fresno',\n",
       "       'Humboldt', 'Imperial', 'Kern', 'Lake', 'LosAngeles', 'Madera',\n",
       "       'Marin', 'Mariposa', 'Mendocino', 'Merced', 'Mono', 'Monterey',\n",
       "       'Napa', 'Nevada', 'Orange', 'Placer', 'Riverside', 'Sacramento',\n",
       "       'SanBernardino', 'SanDiego', 'SanFrancisco', 'SanJoaquin',\n",
       "       'SanLuisObispo', 'SanMateo', 'SantaBarbara', 'SantaClara',\n",
       "       'SantaCruz', 'Shasta', 'Solano', 'Sonoma', 'Stanislaus', 'Sutter',\n",
       "       'Tehama', 'Tuolumne', 'Ventura', 'Yolo', 'Yuba', 'Calaveras',\n",
       "       'ElDorado', 'Kings', 'Modoc', 'Siskiyou', 'Trinity', 'Plumas',\n",
       "       'SanBenito', 'Tulare', 'Amador', 'Lassen', 'Inyo', 'Colusa',\n",
       "       'Glenn', 'Alpine'], dtype=object)"
      ]
     },
     "execution_count": 244,
     "metadata": {},
     "output_type": "execute_result"
    }
   ],
   "source": [
    "# Strip spaces from County in full_data\n",
    "full_data[\"County\"] = full_data[\"County\"].str.replace(\" \", \"\")\n",
    "full_data[\"County\"].unique()\n"
   ]
  },
  {
   "cell_type": "markdown",
   "metadata": {},
   "source": [
    "## Merge Prosecution and Hate Crime DataFrames"
   ]
  },
  {
   "cell_type": "markdown",
   "metadata": {},
   "source": [
    "### Prosecution Labels"
   ]
  },
  {
   "cell_type": "code",
   "execution_count": 245,
   "metadata": {},
   "outputs": [],
   "source": [
    "# Merge\n",
    "modeling_data = full_data.merge(\n",
    "    prosecution_labels, left_on=\"County\", right_on=\"Agency Name\"\n",
    ")\n"
   ]
  },
  {
   "cell_type": "code",
   "execution_count": 246,
   "metadata": {},
   "outputs": [
    {
     "data": {
      "text/plain": [
       "1    17800\n",
       "0     4123\n",
       "2     2513\n",
       "Name: labels, dtype: int64"
      ]
     },
     "execution_count": 246,
     "metadata": {},
     "output_type": "execute_result"
    }
   ],
   "source": [
    "# Sanity Check\n",
    "modeling_data[\"labels\"].value_counts()\n"
   ]
  },
  {
   "cell_type": "code",
   "execution_count": 247,
   "metadata": {},
   "outputs": [
    {
     "data": {
      "text/plain": [
       "(24436, 18)"
      ]
     },
     "execution_count": 247,
     "metadata": {},
     "output_type": "execute_result"
    }
   ],
   "source": [
    "# Sanity Check\n",
    "modeling_data.shape\n"
   ]
  },
  {
   "cell_type": "markdown",
   "metadata": {},
   "source": [
    "#### Save for Data Viz"
   ]
  },
  {
   "cell_type": "code",
   "execution_count": 248,
   "metadata": {},
   "outputs": [],
   "source": [
    "modeling_data.to_csv('./data/hc_vis.csv')"
   ]
  },
  {
   "cell_type": "markdown",
   "metadata": {},
   "source": [
    "### Drop"
   ]
  },
  {
   "cell_type": "code",
   "execution_count": 199,
   "metadata": {},
   "outputs": [],
   "source": [
    "# Drop columns that won't be used in modeling\n",
    "modeling_data.drop(\n",
    "    columns=[\"RecordId\", \"ClosedYear\", \"County\", \"NCIC\", \"Agency Name\"], inplace=True\n",
    ")\n"
   ]
  },
  {
   "cell_type": "markdown",
   "metadata": {},
   "source": [
    "### Prosecution Rates"
   ]
  },
  {
   "cell_type": "code",
   "execution_count": 200,
   "metadata": {},
   "outputs": [],
   "source": [
    "# Merge\n",
    "modeling_data2 = full_data.merge(\n",
    "    prosecution_rates, left_on=\"County\", right_on=\"Agency Name\"\n",
    ")\n"
   ]
  },
  {
   "cell_type": "code",
   "execution_count": 201,
   "metadata": {},
   "outputs": [
    {
     "data": {
      "text/plain": [
       "20"
      ]
     },
     "execution_count": 201,
     "metadata": {},
     "output_type": "execute_result"
    }
   ],
   "source": [
    "# Check for NaNs\n",
    "modeling_data2[\"prosecution-rate\"].isna().sum()\n"
   ]
  },
  {
   "cell_type": "code",
   "execution_count": 202,
   "metadata": {},
   "outputs": [],
   "source": [
    "# Drop NaNs\n",
    "modeling_data2.dropna(inplace=True)\n"
   ]
  },
  {
   "cell_type": "code",
   "execution_count": 203,
   "metadata": {},
   "outputs": [
    {
     "data": {
      "text/plain": [
       "(19005, 19)"
      ]
     },
     "execution_count": 203,
     "metadata": {},
     "output_type": "execute_result"
    }
   ],
   "source": [
    "# Sanity\n",
    "modeling_data2.shape"
   ]
  },
  {
   "cell_type": "code",
   "execution_count": 204,
   "metadata": {},
   "outputs": [],
   "source": [
    "# Drop columns that won't be used in modeling\n",
    "modeling_data2.drop(\n",
    "    columns=[\"RecordId\", \"ClosedYear\", \"County\", \"NCIC\", \"Agency Name\"], inplace=True\n",
    ")\n"
   ]
  },
  {
   "cell_type": "markdown",
   "metadata": {},
   "source": [
    "## Save Modeling Data"
   ]
  },
  {
   "cell_type": "code",
   "execution_count": 205,
   "metadata": {},
   "outputs": [],
   "source": [
    "modeling_data.to_csv(\"./data/classification_data.csv\", index=False)\n"
   ]
  },
  {
   "cell_type": "code",
   "execution_count": 206,
   "metadata": {},
   "outputs": [],
   "source": [
    "modeling_data2.to_csv(\"./data/regression_data.csv\", index=False)\n"
   ]
  },
  {
   "cell_type": "markdown",
   "metadata": {},
   "source": [
    "## Pairplots\n",
    "Why not?"
   ]
  },
  {
   "cell_type": "code",
   "execution_count": 207,
   "metadata": {},
   "outputs": [
    {
     "data": {
      "text/plain": [
       "''"
      ]
     },
     "execution_count": 207,
     "metadata": {},
     "output_type": "execute_result"
    },
    {
     "data": {
      "image/png": "[encoded data removed]",
      "text/plain": [
       "<Figure size 900x900 with 20 Axes>"
      ]
     },
     "metadata": {
      "needs_background": "light"
     },
     "output_type": "display_data"
    }
   ],
   "source": [
    "sns.pairplot(modeling_data, corner=True)\n",
    ";"
   ]
  },
  {
   "cell_type": "code",
   "execution_count": 208,
   "metadata": {},
   "outputs": [
    {
     "data": {
      "text/plain": [
       "''"
      ]
     },
     "execution_count": 208,
     "metadata": {},
     "output_type": "execute_result"
    },
    {
     "data": {
      "image/png": "[encoded data removed]",
      "text/plain": [
       "<Figure size 900x900 with 20 Axes>"
      ]
     },
     "metadata": {
      "needs_background": "light"
     },
     "output_type": "display_data"
    }
   ],
   "source": [
    "sns.pairplot(modeling_data2, corner=True)\n",
    ";"
   ]
  }
 ],
 "metadata": {
  "interpreter": {
   "hash": "f7a0f9bb49171c226bccce8a0987518af550515ba22b4949d7abe766c3680a51"
  },
  "kernelspec": {
   "display_name": "Python 3.9.7 ('base')",
   "language": "python",
   "name": "python3"
  },
  "language_info": {
   "codemirror_mode": {
    "name": "ipython",
    "version": 3
   },
   "file_extension": ".py",
   "mimetype": "text/x-python",
   "name": "python",
   "nbconvert_exporter": "python",
   "pygments_lexer": "ipython3",
   "version": "3.9.7"
  },
  "orig_nbformat": 4
 },
 "nbformat": 4,
 "nbformat_minor": 2
}
